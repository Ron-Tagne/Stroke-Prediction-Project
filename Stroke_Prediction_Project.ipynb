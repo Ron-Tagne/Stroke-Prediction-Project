{
  "cells": [
    {
      "cell_type": "markdown",
      "metadata": {
        "id": "view-in-github",
        "colab_type": "text"
      },
      "source": [
        "<a href=\"https://colab.research.google.com/github/Ron-Tagne/Stroke-Prediction-Project/blob/main/Stroke_Prediction_Project.ipynb\" target=\"_parent\"><img src=\"https://colab.research.google.com/assets/colab-badge.svg\" alt=\"Open In Colab\"/></a>"
      ]
    },
    {
      "cell_type": "markdown",
      "source": [
        "# **Saving Lives with Machine Learning: Identifying Individuals at Risk of Stroke**"
      ],
      "metadata": {
        "id": "pW89LLpgVEvd"
      }
    },
    {
      "cell_type": "code",
      "execution_count": 37,
      "metadata": {
        "id": "IbIgBmlUkhQG"
      },
      "outputs": [],
      "source": [
        "from google.colab import drive"
      ]
    },
    {
      "cell_type": "code",
      "execution_count": 38,
      "metadata": {
        "colab": {
          "base_uri": "https://localhost:8080/"
        },
        "id": "W_bN6YJVkp2L",
        "outputId": "81813c68-5dad-4cd4-f9ea-a9720a75f862"
      },
      "outputs": [
        {
          "output_type": "stream",
          "name": "stdout",
          "text": [
            "Drive already mounted at /content/drive; to attempt to forcibly remount, call drive.mount(\"/content/drive\", force_remount=True).\n"
          ]
        }
      ],
      "source": [
        "drive.mount('/content/drive')"
      ]
    },
    {
      "cell_type": "code",
      "execution_count": 39,
      "metadata": {
        "id": "bmOckOSEkstS"
      },
      "outputs": [],
      "source": [
        "#common\n",
        "import pandas as pd\n",
        "import numpy as np\n",
        "import matplotlib.pyplot as plt\n",
        "import seaborn as sns\n",
        "\n",
        "# Machinelearning\n",
        "from sklearn.model_selection import train_test_split\n",
        "from imblearn.combine import SMOTETomek #To resample imbalanced target feature\n",
        "from sklearn.tree import DecisionTreeClassifier\n",
        "from sklearn.metrics import classification_report\n",
        "from sklearn.metrics import accuracy_score\n",
        "from sklearn.metrics import confusion_matrix\n",
        "from sklearn.linear_model import LogisticRegression\n",
        "from sklearn.metrics import f1_score,  recall_score, precision_score, plot_roc_curve, roc_curve, roc_auc_score"
      ]
    },
    {
      "cell_type": "code",
      "execution_count": 40,
      "metadata": {
        "id": "Kyy5cjkql7A_"
      },
      "outputs": [],
      "source": [
        "# Loading the dataset\n",
        "df= pd.read_csv('/content/drive/MyDrive/Data Science/Personal Projects/EDs + Data Cleaning/Stroke Prediction Dataset/healthcare-dataset-stroke-data.csv',\n",
        "                index_col= 'id')\n"
      ]
    },
    {
      "cell_type": "code",
      "execution_count": 41,
      "metadata": {
        "colab": {
          "base_uri": "https://localhost:8080/"
        },
        "id": "BAmrIrgNmC2m",
        "outputId": "3d6bafbc-d0e3-43c9-b437-29f10e08640a"
      },
      "outputs": [
        {
          "output_type": "stream",
          "name": "stdout",
          "text": [
            "<class 'pandas.core.frame.DataFrame'>\n",
            "Int64Index: 5110 entries, 9046 to 44679\n",
            "Data columns (total 11 columns):\n",
            " #   Column             Non-Null Count  Dtype  \n",
            "---  ------             --------------  -----  \n",
            " 0   gender             5110 non-null   object \n",
            " 1   age                5110 non-null   float64\n",
            " 2   hypertension       5110 non-null   int64  \n",
            " 3   heart_disease      5110 non-null   int64  \n",
            " 4   ever_married       5110 non-null   object \n",
            " 5   work_type          5110 non-null   object \n",
            " 6   Residence_type     5110 non-null   object \n",
            " 7   avg_glucose_level  5110 non-null   float64\n",
            " 8   bmi                4909 non-null   float64\n",
            " 9   smoking_status     5110 non-null   object \n",
            " 10  stroke             5110 non-null   int64  \n",
            "dtypes: float64(3), int64(3), object(5)\n",
            "memory usage: 479.1+ KB\n"
          ]
        }
      ],
      "source": [
        "df.info()"
      ]
    },
    {
      "cell_type": "code",
      "execution_count": 42,
      "metadata": {
        "colab": {
          "base_uri": "https://localhost:8080/"
        },
        "id": "MPrXHNXcpqLv",
        "outputId": "2556c665-ef2b-47a7-8f51-82b750c743bf"
      },
      "outputs": [
        {
          "output_type": "execute_result",
          "data": {
            "text/plain": [
              "Index(['gender', 'age', 'hypertension', 'heart_disease', 'ever_married',\n",
              "       'work_type', 'Residence_type', 'avg_glucose_level', 'bmi',\n",
              "       'smoking_status', 'stroke'],\n",
              "      dtype='object')"
            ]
          },
          "metadata": {},
          "execution_count": 42
        }
      ],
      "source": [
        "df.columns"
      ]
    },
    {
      "cell_type": "code",
      "execution_count": 43,
      "metadata": {
        "id": "KDeSYRSlpc5E"
      },
      "outputs": [],
      "source": [
        "features_category= ['gender','hypertension', 'heart_disease', 'ever_married',\n",
        "                    'work_type', 'Residence_type','smoking_status']\n",
        "\n",
        "features_continous= ['age','avg_glucose_level','bmi']\n",
        "\n",
        "Target_variable= ['stroke']\n",
        "\n",
        "features= ['gender','hypertension', 'heart_disease', 'ever_married',\n",
        "           'work_type', 'Residence_type','smoking_status','age',\n",
        "           'avg_glucose_level','bmi']\n",
        "\n"
      ]
    },
    {
      "cell_type": "code",
      "execution_count": 44,
      "metadata": {
        "colab": {
          "base_uri": "https://localhost:8080/"
        },
        "id": "KQIo9Pj-OvAP",
        "outputId": "dbb11c17-d335-4adc-dcc4-fb9ab3270131"
      },
      "outputs": [
        {
          "output_type": "execute_result",
          "data": {
            "text/plain": [
              "0    4861\n",
              "1     249\n",
              "Name: stroke, dtype: int64"
            ]
          },
          "metadata": {},
          "execution_count": 44
        }
      ],
      "source": [
        "df['stroke'].value_counts()"
      ]
    },
    {
      "cell_type": "code",
      "execution_count": 45,
      "metadata": {
        "colab": {
          "base_uri": "https://localhost:8080/"
        },
        "id": "E-0BUqzosceW",
        "outputId": "0241aa32-e771-4b02-d80e-c4378c401e4d"
      },
      "outputs": [
        {
          "output_type": "stream",
          "name": "stdout",
          "text": [
            "Female    2994\n",
            "Male      2115\n",
            "Other        1\n",
            "Name: gender, dtype: int64\n",
            "0    4612\n",
            "1     498\n",
            "Name: hypertension, dtype: int64\n"
          ]
        }
      ],
      "source": [
        "print(df['gender'].value_counts())\n",
        "\n",
        "print(df['hypertension'].value_counts())\n"
      ]
    },
    {
      "cell_type": "code",
      "execution_count": 46,
      "metadata": {
        "colab": {
          "base_uri": "https://localhost:8080/",
          "height": 1000
        },
        "id": "PdSjgc-8qDfB",
        "outputId": "06aa3aba-2221-420a-ffe8-dee1d10b7f12"
      },
      "outputs": [
        {
          "output_type": "display_data",
          "data": {
            "text/plain": [
              "<Figure size 432x288 with 1 Axes>"
            ],
            "image/png": "[encoded data removed]"
          },
          "metadata": {
            "needs_background": "light"
          }
        },
        {
          "output_type": "display_data",
          "data": {
            "text/plain": [
              "<Figure size 432x288 with 1 Axes>"
            ],
            "image/png": "[encoded data removed]"
          },
          "metadata": {
            "needs_background": "light"
          }
        },
        {
          "output_type": "display_data",
          "data": {
            "text/plain": [
              "<Figure size 432x288 with 1 Axes>"
            ],
            "image/png": "[encoded data removed]"
          },
          "metadata": {
            "needs_background": "light"
          }
        },
        {
          "output_type": "display_data",
          "data": {
            "text/plain": [
              "<Figure size 432x288 with 1 Axes>"
            ],
            "image/png": "[encoded data removed]"
          },
          "metadata": {
            "needs_background": "light"
          }
        },
        {
          "output_type": "display_data",
          "data": {
            "text/plain": [
              "<Figure size 432x288 with 1 Axes>"
            ],
            "image/png": "[encoded data removed]"
          },
          "metadata": {
            "needs_background": "light"
          }
        },
        {
          "output_type": "display_data",
          "data": {
            "text/plain": [
              "<Figure size 432x288 with 1 Axes>"
            ],
            "image/png": "[encoded data removed]"
          },
          "metadata": {
            "needs_background": "light"
          }
        },
        {
          "output_type": "display_data",
          "data": {
            "text/plain": [
              "<Figure size 432x288 with 1 Axes>"
            ],
            "image/png": "[encoded data removed]"
          },
          "metadata": {
            "needs_background": "light"
          }
        }
      ],
      "source": [
        "for features in features_category:\n",
        "  sns.countplot(data=df, x=features, palette=\"viridis\")\n",
        "  plt.show()"
      ]
    },
    {
      "cell_type": "code",
      "execution_count": 47,
      "metadata": {
        "id": "Ikmm4pRyrPD9",
        "colab": {
          "base_uri": "https://localhost:8080/",
          "height": 1000
        },
        "outputId": "4c8c3e98-a39c-41af-c36d-16eb491386d8"
      },
      "outputs": [
        {
          "output_type": "display_data",
          "data": {
            "text/plain": [
              "<Figure size 360x360 with 1 Axes>"
            ],
            "image/png": "[encoded data removed]"
          },
          "metadata": {
            "needs_background": "light"
          }
        },
        {
          "output_type": "display_data",
          "data": {
            "text/plain": [
              "<Figure size 360x360 with 1 Axes>"
            ],
            "image/png": "[encoded data removed]"
          },
          "metadata": {
            "needs_background": "light"
          }
        },
        {
          "output_type": "display_data",
          "data": {
            "text/plain": [
              "<Figure size 360x360 with 1 Axes>"
            ],
            "image/png": "[encoded data removed]"
          },
          "metadata": {
            "needs_background": "light"
          }
        }
      ],
      "source": [
        "for features in features_continous:\n",
        "  sns.displot(data=df, x=features, palette=\"viridis\")\n",
        "  plt.xticks(rotation= 45)\n",
        "  plt.show()"
      ]
    },
    {
      "cell_type": "markdown",
      "metadata": {
        "id": "YSjWT0l0vaxg"
      },
      "source": [
        "## ***Data Cleaning*** "
      ]
    },
    {
      "cell_type": "markdown",
      "metadata": {
        "id": "9Ab2ucxEv5oB"
      },
      "source": [
        "- Removing duplicates/ missing values"
      ]
    },
    {
      "cell_type": "code",
      "execution_count": 48,
      "metadata": {
        "id": "_uzntQdswBDb",
        "colab": {
          "base_uri": "https://localhost:8080/",
          "height": 301
        },
        "outputId": "48e2ebf8-5d7a-4694-d91d-a4e2e1e106b8"
      },
      "outputs": [
        {
          "output_type": "execute_result",
          "data": {
            "text/plain": [
              "       gender   age  hypertension  heart_disease ever_married work_type  \\\n",
              "id                                                                        \n",
              "545      Male  42.0             0              0          Yes   Private   \n",
              "41097  Female  23.0             1              0           No   Private   \n",
              "37759  Female  53.0             0              0          Yes   Private   \n",
              "56420    Male  17.0             1              0           No   Private   \n",
              "51856    Male  38.0             1              0          Yes   Private   \n",
              "\n",
              "      Residence_type  avg_glucose_level   bmi smoking_status  stroke  \n",
              "id                                                                    \n",
              "545            Rural             210.48  71.9   never smoked       0  \n",
              "41097          Urban              70.03  78.0         smokes       0  \n",
              "37759          Rural              72.63  66.8        Unknown       0  \n",
              "56420          Rural              61.67  97.6        Unknown       0  \n",
              "51856          Rural              56.90  92.0   never smoked       0  "
            ],
            "text/html": [
              "\n",
              "  <div id=\"df-505e86a1-6024-435d-970e-bb8af3b193c2\">\n",
              "    <div class=\"colab-df-container\">\n",
              "      <div>\n",
              "<style scoped>\n",
              "    .dataframe tbody tr th:only-of-type {\n",
              "        vertical-align: middle;\n",
              "    }\n",
              "\n",
              "    .dataframe tbody tr th {\n",
              "        vertical-align: top;\n",
              "    }\n",
              "\n",
              "    .dataframe thead th {\n",
              "        text-align: right;\n",
              "    }\n",
              "</style>\n",
              "<table border=\"1\" class=\"dataframe\">\n",
              "  <thead>\n",
              "    <tr style=\"text-align: right;\">\n",
              "      <th></th>\n",
              "      <th>gender</th>\n",
              "      <th>age</th>\n",
              "      <th>hypertension</th>\n",
              "      <th>heart_disease</th>\n",
              "      <th>ever_married</th>\n",
              "      <th>work_type</th>\n",
              "      <th>Residence_type</th>\n",
              "      <th>avg_glucose_level</th>\n",
              "      <th>bmi</th>\n",
              "      <th>smoking_status</th>\n",
              "      <th>stroke</th>\n",
              "    </tr>\n",
              "    <tr>\n",
              "      <th>id</th>\n",
              "      <th></th>\n",
              "      <th></th>\n",
              "      <th></th>\n",
              "      <th></th>\n",
              "      <th></th>\n",
              "      <th></th>\n",
              "      <th></th>\n",
              "      <th></th>\n",
              "      <th></th>\n",
              "      <th></th>\n",
              "      <th></th>\n",
              "    </tr>\n",
              "  </thead>\n",
              "  <tbody>\n",
              "    <tr>\n",
              "      <th>545</th>\n",
              "      <td>Male</td>\n",
              "      <td>42.0</td>\n",
              "      <td>0</td>\n",
              "      <td>0</td>\n",
              "      <td>Yes</td>\n",
              "      <td>Private</td>\n",
              "      <td>Rural</td>\n",
              "      <td>210.48</td>\n",
              "      <td>71.9</td>\n",
              "      <td>never smoked</td>\n",
              "      <td>0</td>\n",
              "    </tr>\n",
              "    <tr>\n",
              "      <th>41097</th>\n",
              "      <td>Female</td>\n",
              "      <td>23.0</td>\n",
              "      <td>1</td>\n",
              "      <td>0</td>\n",
              "      <td>No</td>\n",
              "      <td>Private</td>\n",
              "      <td>Urban</td>\n",
              "      <td>70.03</td>\n",
              "      <td>78.0</td>\n",
              "      <td>smokes</td>\n",
              "      <td>0</td>\n",
              "    </tr>\n",
              "    <tr>\n",
              "      <th>37759</th>\n",
              "      <td>Female</td>\n",
              "      <td>53.0</td>\n",
              "      <td>0</td>\n",
              "      <td>0</td>\n",
              "      <td>Yes</td>\n",
              "      <td>Private</td>\n",
              "      <td>Rural</td>\n",
              "      <td>72.63</td>\n",
              "      <td>66.8</td>\n",
              "      <td>Unknown</td>\n",
              "      <td>0</td>\n",
              "    </tr>\n",
              "    <tr>\n",
              "      <th>56420</th>\n",
              "      <td>Male</td>\n",
              "      <td>17.0</td>\n",
              "      <td>1</td>\n",
              "      <td>0</td>\n",
              "      <td>No</td>\n",
              "      <td>Private</td>\n",
              "      <td>Rural</td>\n",
              "      <td>61.67</td>\n",
              "      <td>97.6</td>\n",
              "      <td>Unknown</td>\n",
              "      <td>0</td>\n",
              "    </tr>\n",
              "    <tr>\n",
              "      <th>51856</th>\n",
              "      <td>Male</td>\n",
              "      <td>38.0</td>\n",
              "      <td>1</td>\n",
              "      <td>0</td>\n",
              "      <td>Yes</td>\n",
              "      <td>Private</td>\n",
              "      <td>Rural</td>\n",
              "      <td>56.90</td>\n",
              "      <td>92.0</td>\n",
              "      <td>never smoked</td>\n",
              "      <td>0</td>\n",
              "    </tr>\n",
              "  </tbody>\n",
              "</table>\n",
              "</div>\n",
              "      <button class=\"colab-df-convert\" onclick=\"convertToInteractive('df-505e86a1-6024-435d-970e-bb8af3b193c2')\"\n",
              "              title=\"Convert this dataframe to an interactive table.\"\n",
              "              style=\"display:none;\">\n",
              "        \n",
              "  <svg xmlns=\"http://www.w3.org/2000/svg\" height=\"24px\"viewBox=\"0 0 24 24\"\n",
              "       width=\"24px\">\n",
              "    <path d=\"M0 0h24v24H0V0z\" fill=\"none\"/>\n",
              "    <path d=\"M18.56 5.44l.94 2.06.94-2.06 2.06-.94-2.06-.94-.94-2.06-.94 2.06-2.06.94zm-11 1L8.5 8.5l.94-2.06 2.06-.94-2.06-.94L8.5 2.5l-.94 2.06-2.06.94zm10 10l.94 2.06.94-2.06 2.06-.94-2.06-.94-.94-2.06-.94 2.06-2.06.94z\"/><path d=\"M17.41 7.96l-1.37-1.37c-.4-.4-.92-.59-1.43-.59-.52 0-1.04.2-1.43.59L10.3 9.45l-7.72 7.72c-.78.78-.78 2.05 0 2.83L4 21.41c.39.39.9.59 1.41.59.51 0 1.02-.2 1.41-.59l7.78-7.78 2.81-2.81c.8-.78.8-2.07 0-2.86zM5.41 20L4 18.59l7.72-7.72 1.47 1.35L5.41 20z\"/>\n",
              "  </svg>\n",
              "      </button>\n",
              "      \n",
              "  <style>\n",
              "    .colab-df-container {\n",
              "      display:flex;\n",
              "      flex-wrap:wrap;\n",
              "      gap: 12px;\n",
              "    }\n",
              "\n",
              "    .colab-df-convert {\n",
              "      background-color: #E8F0FE;\n",
              "      border: none;\n",
              "      border-radius: 50%;\n",
              "      cursor: pointer;\n",
              "      display: none;\n",
              "      fill: #1967D2;\n",
              "      height: 32px;\n",
              "      padding: 0 0 0 0;\n",
              "      width: 32px;\n",
              "    }\n",
              "\n",
              "    .colab-df-convert:hover {\n",
              "      background-color: #E2EBFA;\n",
              "      box-shadow: 0px 1px 2px rgba(60, 64, 67, 0.3), 0px 1px 3px 1px rgba(60, 64, 67, 0.15);\n",
              "      fill: #174EA6;\n",
              "    }\n",
              "\n",
              "    [theme=dark] .colab-df-convert {\n",
              "      background-color: #3B4455;\n",
              "      fill: #D2E3FC;\n",
              "    }\n",
              "\n",
              "    [theme=dark] .colab-df-convert:hover {\n",
              "      background-color: #434B5C;\n",
              "      box-shadow: 0px 1px 3px 1px rgba(0, 0, 0, 0.15);\n",
              "      filter: drop-shadow(0px 1px 2px rgba(0, 0, 0, 0.3));\n",
              "      fill: #FFFFFF;\n",
              "    }\n",
              "  </style>\n",
              "\n",
              "      <script>\n",
              "        const buttonEl =\n",
              "          document.querySelector('#df-505e86a1-6024-435d-970e-bb8af3b193c2 button.colab-df-convert');\n",
              "        buttonEl.style.display =\n",
              "          google.colab.kernel.accessAllowed ? 'block' : 'none';\n",
              "\n",
              "        async function convertToInteractive(key) {\n",
              "          const element = document.querySelector('#df-505e86a1-6024-435d-970e-bb8af3b193c2');\n",
              "          const dataTable =\n",
              "            await google.colab.kernel.invokeFunction('convertToInteractive',\n",
              "                                                     [key], {});\n",
              "          if (!dataTable) return;\n",
              "\n",
              "          const docLinkHtml = 'Like what you see? Visit the ' +\n",
              "            '<a target=\"_blank\" href=https://colab.research.google.com/notebooks/data_table.ipynb>data table notebook</a>'\n",
              "            + ' to learn more about interactive tables.';\n",
              "          element.innerHTML = '';\n",
              "          dataTable['output_type'] = 'display_data';\n",
              "          await google.colab.output.renderOutput(dataTable, element);\n",
              "          const docLink = document.createElement('div');\n",
              "          docLink.innerHTML = docLinkHtml;\n",
              "          element.appendChild(docLink);\n",
              "        }\n",
              "      </script>\n",
              "    </div>\n",
              "  </div>\n",
              "  "
            ]
          },
          "metadata": {},
          "execution_count": 48
        }
      ],
      "source": [
        "# observed how many null values were in the bmi\n",
        "df.loc[df['bmi']> 65]"
      ]
    },
    {
      "cell_type": "code",
      "execution_count": 49,
      "metadata": {
        "id": "hr3hHHM7zoxr"
      },
      "outputs": [],
      "source": [
        "# deleted outliers in bmi\n",
        "df.drop( df[df['bmi']> 65].index, inplace= True)"
      ]
    },
    {
      "cell_type": "code",
      "execution_count": 50,
      "metadata": {
        "id": "VxF13j6CwdEw",
        "colab": {
          "base_uri": "https://localhost:8080/"
        },
        "outputId": "dacb7b77-a4f4-4b62-dcf4-65e3b67d9282"
      },
      "outputs": [
        {
          "output_type": "execute_result",
          "data": {
            "text/plain": [
              "gender                 0\n",
              "age                    0\n",
              "hypertension           0\n",
              "heart_disease          0\n",
              "ever_married           0\n",
              "work_type              0\n",
              "Residence_type         0\n",
              "avg_glucose_level      0\n",
              "bmi                  201\n",
              "smoking_status         0\n",
              "stroke                 0\n",
              "dtype: int64"
            ]
          },
          "metadata": {},
          "execution_count": 50
        }
      ],
      "source": [
        "df.isnull().sum()"
      ]
    },
    {
      "cell_type": "code",
      "execution_count": 51,
      "metadata": {
        "id": "u-vfN68YxKnn"
      },
      "outputs": [],
      "source": [
        "# To treat all missing data, \n",
        "# interpolation was performed since 201 (3.93%) of bmi data was missing.\n",
        "df.interpolate(inplace= True)"
      ]
    },
    {
      "cell_type": "code",
      "execution_count": 52,
      "metadata": {
        "id": "p0fVJjqg5t2A",
        "colab": {
          "base_uri": "https://localhost:8080/"
        },
        "outputId": "b3407fe2-b0dd-4f8c-d2f8-a19db5e4d12f"
      },
      "outputs": [
        {
          "output_type": "execute_result",
          "data": {
            "text/plain": [
              "gender               0\n",
              "age                  0\n",
              "hypertension         0\n",
              "heart_disease        0\n",
              "ever_married         0\n",
              "work_type            0\n",
              "Residence_type       0\n",
              "avg_glucose_level    0\n",
              "bmi                  0\n",
              "smoking_status       0\n",
              "stroke               0\n",
              "dtype: int64"
            ]
          },
          "metadata": {},
          "execution_count": 52
        }
      ],
      "source": [
        "df.isnull().sum()"
      ]
    },
    {
      "cell_type": "code",
      "execution_count": 53,
      "metadata": {
        "id": "D27geFvh53kv",
        "colab": {
          "base_uri": "https://localhost:8080/"
        },
        "outputId": "e6e7f9dc-264b-4256-e4f4-5e2104c65432"
      },
      "outputs": [
        {
          "output_type": "execute_result",
          "data": {
            "text/plain": [
              "0"
            ]
          },
          "metadata": {},
          "execution_count": 53
        }
      ],
      "source": [
        "# No duplicated data fields\n",
        "df.duplicated().sum()"
      ]
    },
    {
      "cell_type": "code",
      "execution_count": 54,
      "metadata": {
        "id": "bsIzHBQe6LQd",
        "colab": {
          "base_uri": "https://localhost:8080/"
        },
        "outputId": "ff4bcbdb-3610-41a5-d9e3-2f6323902d54"
      },
      "outputs": [
        {
          "output_type": "stream",
          "name": "stdout",
          "text": [
            "<class 'pandas.core.frame.DataFrame'>\n",
            "Int64Index: 5105 entries, 9046 to 44679\n",
            "Data columns (total 11 columns):\n",
            " #   Column             Non-Null Count  Dtype  \n",
            "---  ------             --------------  -----  \n",
            " 0   gender             5105 non-null   object \n",
            " 1   age                5105 non-null   float64\n",
            " 2   hypertension       5105 non-null   int64  \n",
            " 3   heart_disease      5105 non-null   int64  \n",
            " 4   ever_married       5105 non-null   object \n",
            " 5   work_type          5105 non-null   object \n",
            " 6   Residence_type     5105 non-null   object \n",
            " 7   avg_glucose_level  5105 non-null   float64\n",
            " 8   bmi                5105 non-null   float64\n",
            " 9   smoking_status     5105 non-null   object \n",
            " 10  stroke             5105 non-null   int64  \n",
            "dtypes: float64(3), int64(3), object(5)\n",
            "memory usage: 478.6+ KB\n"
          ]
        }
      ],
      "source": [
        "df.info()"
      ]
    },
    {
      "cell_type": "code",
      "execution_count": 55,
      "metadata": {
        "id": "00fKMhkUBjB_",
        "colab": {
          "base_uri": "https://localhost:8080/"
        },
        "outputId": "1094b207-6cea-4b48-9dfa-5f30970abcd3"
      },
      "outputs": [
        {
          "output_type": "execute_result",
          "data": {
            "text/plain": [
              "never smoked       1890\n",
              "Unknown            1542\n",
              "formerly smoked     885\n",
              "smokes              788\n",
              "Name: smoking_status, dtype: int64"
            ]
          },
          "metadata": {},
          "execution_count": 55
        }
      ],
      "source": [
        "df.smoking_status.value_counts()"
      ]
    },
    {
      "cell_type": "markdown",
      "metadata": {
        "id": "2K799MMP7zgq"
      },
      "source": [
        "## ***Data Visuals***"
      ]
    },
    {
      "cell_type": "code",
      "execution_count": 56,
      "metadata": {
        "id": "fvV4RlR5_uyr"
      },
      "outputs": [],
      "source": [
        "# replace strings with integers \n",
        "df.gender.replace( ['Female', 'Male', 'Other'], [0,1,2], inplace= True)\n",
        "df.ever_married.replace( ['No','Yes'], [0,1], inplace= True)\n",
        "df.work_type.replace( ['Private','Self-employed', 'children', 'Govt_job', 'Never_worked'], [0,1,2,3,4], inplace= True)\n",
        "df.Residence_type.replace( ['Rural','Urban'], [0,1], inplace= True)\n",
        "df.smoking_status.replace(['never smoked','Unknown','formerly smoked', 'smokes'], [0,1,2,3], inplace= True)\n",
        "df.hypertension.replace(['No','Yes'], [0,1],  inplace= True)\n",
        "df.heart_disease.replace( ['No','Yes'], [0,1], inplace= True)\n",
        "df.stroke.replace( ['No','Yes'], [0,1], inplace= True)"
      ]
    },
    {
      "cell_type": "code",
      "execution_count": 57,
      "metadata": {
        "id": "qEtATj4gNbKU",
        "colab": {
          "base_uri": "https://localhost:8080/"
        },
        "outputId": "9be00684-551a-4fb8-924b-a2f591919c48"
      },
      "outputs": [
        {
          "output_type": "stream",
          "name": "stdout",
          "text": [
            "<class 'pandas.core.frame.DataFrame'>\n",
            "Int64Index: 5105 entries, 9046 to 44679\n",
            "Data columns (total 11 columns):\n",
            " #   Column             Non-Null Count  Dtype  \n",
            "---  ------             --------------  -----  \n",
            " 0   gender             5105 non-null   float64\n",
            " 1   age                5105 non-null   float64\n",
            " 2   hypertension       5105 non-null   float64\n",
            " 3   heart_disease      5105 non-null   float64\n",
            " 4   ever_married       5105 non-null   float64\n",
            " 5   work_type          5105 non-null   float64\n",
            " 6   Residence_type     5105 non-null   float64\n",
            " 7   avg_glucose_level  5105 non-null   float64\n",
            " 8   bmi                5105 non-null   float64\n",
            " 9   smoking_status     5105 non-null   float64\n",
            " 10  stroke             5105 non-null   float64\n",
            "dtypes: float64(11)\n",
            "memory usage: 478.6 KB\n"
          ]
        }
      ],
      "source": [
        "# Change all datatypes to float\n",
        "df = df.astype(np.float64)\n",
        "df.info()"
      ]
    },
    {
      "cell_type": "code",
      "execution_count": 58,
      "metadata": {
        "id": "MLx7ZgIhVZEI",
        "colab": {
          "base_uri": "https://localhost:8080/"
        },
        "outputId": "2c1974fa-bfe5-4687-e1d0-f0901dbb0f35"
      },
      "outputs": [
        {
          "output_type": "execute_result",
          "data": {
            "text/plain": [
              "0.0    2992\n",
              "1.0    2112\n",
              "2.0       1\n",
              "Name: gender, dtype: int64"
            ]
          },
          "metadata": {},
          "execution_count": 58
        }
      ],
      "source": [
        "df.gender.value_counts()"
      ]
    },
    {
      "cell_type": "code",
      "execution_count": 59,
      "metadata": {
        "id": "KSmNYQ1V8nXi",
        "colab": {
          "base_uri": "https://localhost:8080/",
          "height": 532
        },
        "outputId": "95dbcd4d-e0bd-473b-a2a1-477e23247792"
      },
      "outputs": [
        {
          "output_type": "execute_result",
          "data": {
            "text/plain": [
              "<matplotlib.axes._subplots.AxesSubplot at 0x7f20b56de040>"
            ]
          },
          "metadata": {},
          "execution_count": 59
        },
        {
          "output_type": "display_data",
          "data": {
            "text/plain": [
              "<Figure size 1080x720 with 2 Axes>"
            ],
            "image/png": "[encoded data removed]"
          },
          "metadata": {
            "needs_background": "light"
          }
        }
      ],
      "source": [
        "# corr\n",
        "corr =df.corr()\n",
        "\n",
        "# correlation heatmap\n",
        "plt.figure(figsize= (15,10))\n",
        "sns.heatmap(corr, \n",
        "        annot= True,\n",
        "        cmap= 'coolwarm', \n",
        "        xticklabels=corr.columns,\n",
        "        yticklabels=corr.columns)\n"
      ]
    },
    {
      "cell_type": "code",
      "execution_count": 60,
      "metadata": {
        "id": "WVrdk_uWIt3G",
        "colab": {
          "base_uri": "https://localhost:8080/"
        },
        "outputId": "70d75087-fb4a-45f4-c05d-2e15c85c5b41"
      },
      "outputs": [
        {
          "output_type": "execute_result",
          "data": {
            "text/plain": [
              "Index(['gender', 'age', 'hypertension', 'heart_disease', 'ever_married',\n",
              "       'work_type', 'Residence_type', 'avg_glucose_level', 'bmi',\n",
              "       'smoking_status', 'stroke'],\n",
              "      dtype='object')"
            ]
          },
          "metadata": {},
          "execution_count": 60
        }
      ],
      "source": [
        "df.columns"
      ]
    },
    {
      "cell_type": "markdown",
      "metadata": {
        "id": "H-J6WVxp82Mu"
      },
      "source": [
        "This correlation matrix shows that 'age', 'hypertension', 'heart_disease', 'ever_married' and 'avg_glucose_level' hasa stronger corrlation with the target variable 'stroke'. "
      ]
    },
    {
      "cell_type": "markdown",
      "metadata": {
        "id": "HypZ5buzJH9K"
      },
      "source": [
        "## Data Visualisation: \n",
        "\n",
        "### Univariate and Bivariate analysis"
      ]
    },
    {
      "cell_type": "markdown",
      "metadata": {
        "id": "9Px9oJIXJH6A"
      },
      "source": [
        "Age"
      ]
    },
    {
      "cell_type": "code",
      "execution_count": 61,
      "metadata": {
        "id": "mGvUT07fLxml",
        "colab": {
          "base_uri": "https://localhost:8080/",
          "height": 1000
        },
        "outputId": "287f5d84-29ee-4cf9-8081-42c135642e3a"
      },
      "outputs": [
        {
          "output_type": "display_data",
          "data": {
            "text/plain": [
              "<Figure size 432x288 with 1 Axes>"
            ],
            "image/png": "[encoded data removed]"
          },
          "metadata": {
            "needs_background": "light"
          }
        },
        {
          "output_type": "display_data",
          "data": {
            "text/plain": [
              "<Figure size 432x288 with 1 Axes>"
            ],
            "image/png": "[encoded data removed]"
          },
          "metadata": {
            "needs_background": "light"
          }
        },
        {
          "output_type": "display_data",
          "data": {
            "text/plain": [
              "<Figure size 432x288 with 1 Axes>"
            ],
            "image/png": "[encoded data removed]"
          },
          "metadata": {
            "needs_background": "light"
          }
        },
        {
          "output_type": "display_data",
          "data": {
            "text/plain": [
              "<Figure size 432x288 with 1 Axes>"
            ],
            "image/png": "[encoded data removed]"
          },
          "metadata": {
            "needs_background": "light"
          }
        },
        {
          "output_type": "display_data",
          "data": {
            "text/plain": [
              "<Figure size 432x288 with 1 Axes>"
            ],
            "image/png": "[encoded data removed]"
          },
          "metadata": {
            "needs_background": "light"
          }
        },
        {
          "output_type": "display_data",
          "data": {
            "text/plain": [
              "<Figure size 432x288 with 1 Axes>"
            ],
            "image/png": "[encoded data removed]"
          },
          "metadata": {
            "needs_background": "light"
          }
        },
        {
          "output_type": "display_data",
          "data": {
            "text/plain": [
              "<Figure size 432x288 with 1 Axes>"
            ],
            "image/png": "[encoded data removed]"
          },
          "metadata": {
            "needs_background": "light"
          }
        }
      ],
      "source": [
        "for features in features_category:\n",
        "  sns.barplot(data=df, x=features, y= 'stroke', palette=\"viridis\")\n",
        "  plt.show()"
      ]
    },
    {
      "cell_type": "code",
      "execution_count": 62,
      "metadata": {
        "id": "YjoZo_NLL4q3",
        "colab": {
          "base_uri": "https://localhost:8080/",
          "height": 830
        },
        "outputId": "1057e1ee-adfe-4cab-8318-a3c9effae6c9"
      },
      "outputs": [
        {
          "output_type": "display_data",
          "data": {
            "text/plain": [
              "<Figure size 432x288 with 1 Axes>"
            ],
            "image/png": "[encoded data removed]"
          },
          "metadata": {
            "needs_background": "light"
          }
        },
        {
          "output_type": "display_data",
          "data": {
            "text/plain": [
              "<Figure size 432x288 with 1 Axes>"
            ],
            "image/png": "[encoded data removed]"
          },
          "metadata": {
            "needs_background": "light"
          }
        },
        {
          "output_type": "display_data",
          "data": {
            "text/plain": [
              "<Figure size 432x288 with 1 Axes>"
            ],
            "image/png": "[encoded data removed]"
          },
          "metadata": {
            "needs_background": "light"
          }
        }
      ],
      "source": [
        "for features in features_continous:\n",
        "  sns.boxplot(data=df, x= 'stroke', y= features, palette=\"viridis\")\n",
        "  plt.xticks(rotation= 45)\n",
        "  plt.show()"
      ]
    },
    {
      "cell_type": "markdown",
      "metadata": {
        "id": "3DjN1jnSWCq4"
      },
      "source": [
        "'avg_glucose_level':\n",
        "\n",
        "Research has found that it is possible for a person to have an average glucose level above 175 mg/dL alothough it is conidered to be high. However for the puproses of finding a predicting a stroke under 'typical'circumstance, individuals that have a average glucose level greater than 150 and no stroke will be removed from the analysis\n",
        "\n",
        "'bmi':\n",
        "\n",
        "research has found a strong association between individuals who are overweight/ obese and stroke. Thus, fields where individuals with bmi greater than 50 and do not have stroke will be removed  greater than "
      ]
    },
    {
      "cell_type": "code",
      "execution_count": 63,
      "metadata": {
        "id": "TtE13YoPMFKG",
        "colab": {
          "base_uri": "https://localhost:8080/",
          "height": 519
        },
        "outputId": "685f135a-4f5e-489c-be5d-fcdfac519d29"
      },
      "outputs": [
        {
          "output_type": "execute_result",
          "data": {
            "text/plain": [
              "       gender   age  hypertension  heart_disease  ever_married  work_type  \\\n",
              "id                                                                          \n",
              "32257     0.0  47.0           0.0            0.0           1.0        0.0   \n",
              "41413     0.0  75.0           0.0            1.0           1.0        1.0   \n",
              "28674     0.0  74.0           1.0            0.0           1.0        1.0   \n",
              "4057      1.0  71.0           0.0            0.0           1.0        0.0   \n",
              "36275     0.0  54.0           0.0            0.0           1.0        0.0   \n",
              "...       ...   ...           ...            ...           ...        ...   \n",
              "28788     1.0  40.0           0.0            0.0           1.0        0.0   \n",
              "38009     1.0  41.0           0.0            0.0           1.0        0.0   \n",
              "11184     0.0  82.0           0.0            0.0           1.0        1.0   \n",
              "68967     1.0  39.0           0.0            0.0           1.0        0.0   \n",
              "66684     1.0  70.0           0.0            0.0           1.0        1.0   \n",
              "\n",
              "       Residence_type  avg_glucose_level   bmi  smoking_status  stroke  \n",
              "id                                                                      \n",
              "32257             1.0             210.95  50.1             1.0     0.0  \n",
              "41413             0.0             243.53  27.0             0.0     0.0  \n",
              "28674             1.0             205.84  54.6             0.0     0.0  \n",
              "4057              1.0             198.21  27.3             2.0     0.0  \n",
              "36275             0.0             206.72  26.7             0.0     0.0  \n",
              "...               ...                ...   ...             ...     ...  \n",
              "28788             1.0             191.15  33.6             3.0     0.0  \n",
              "38009             1.0             223.78  32.3             0.0     0.0  \n",
              "11184             0.0             211.58  36.9             0.0     0.0  \n",
              "68967             1.0             179.38  27.7             1.0     0.0  \n",
              "66684             0.0             193.88  24.3             1.0     0.0  \n",
              "\n",
              "[521 rows x 11 columns]"
            ],
            "text/html": [
              "\n",
              "  <div id=\"df-cebc611f-e0c0-41f9-84b9-f2966a6370d5\">\n",
              "    <div class=\"colab-df-container\">\n",
              "      <div>\n",
              "<style scoped>\n",
              "    .dataframe tbody tr th:only-of-type {\n",
              "        vertical-align: middle;\n",
              "    }\n",
              "\n",
              "    .dataframe tbody tr th {\n",
              "        vertical-align: top;\n",
              "    }\n",
              "\n",
              "    .dataframe thead th {\n",
              "        text-align: right;\n",
              "    }\n",
              "</style>\n",
              "<table border=\"1\" class=\"dataframe\">\n",
              "  <thead>\n",
              "    <tr style=\"text-align: right;\">\n",
              "      <th></th>\n",
              "      <th>gender</th>\n",
              "      <th>age</th>\n",
              "      <th>hypertension</th>\n",
              "      <th>heart_disease</th>\n",
              "      <th>ever_married</th>\n",
              "      <th>work_type</th>\n",
              "      <th>Residence_type</th>\n",
              "      <th>avg_glucose_level</th>\n",
              "      <th>bmi</th>\n",
              "      <th>smoking_status</th>\n",
              "      <th>stroke</th>\n",
              "    </tr>\n",
              "    <tr>\n",
              "      <th>id</th>\n",
              "      <th></th>\n",
              "      <th></th>\n",
              "      <th></th>\n",
              "      <th></th>\n",
              "      <th></th>\n",
              "      <th></th>\n",
              "      <th></th>\n",
              "      <th></th>\n",
              "      <th></th>\n",
              "      <th></th>\n",
              "      <th></th>\n",
              "    </tr>\n",
              "  </thead>\n",
              "  <tbody>\n",
              "    <tr>\n",
              "      <th>32257</th>\n",
              "      <td>0.0</td>\n",
              "      <td>47.0</td>\n",
              "      <td>0.0</td>\n",
              "      <td>0.0</td>\n",
              "      <td>1.0</td>\n",
              "      <td>0.0</td>\n",
              "      <td>1.0</td>\n",
              "      <td>210.95</td>\n",
              "      <td>50.1</td>\n",
              "      <td>1.0</td>\n",
              "      <td>0.0</td>\n",
              "    </tr>\n",
              "    <tr>\n",
              "      <th>41413</th>\n",
              "      <td>0.0</td>\n",
              "      <td>75.0</td>\n",
              "      <td>0.0</td>\n",
              "      <td>1.0</td>\n",
              "      <td>1.0</td>\n",
              "      <td>1.0</td>\n",
              "      <td>0.0</td>\n",
              "      <td>243.53</td>\n",
              "      <td>27.0</td>\n",
              "      <td>0.0</td>\n",
              "      <td>0.0</td>\n",
              "    </tr>\n",
              "    <tr>\n",
              "      <th>28674</th>\n",
              "      <td>0.0</td>\n",
              "      <td>74.0</td>\n",
              "      <td>1.0</td>\n",
              "      <td>0.0</td>\n",
              "      <td>1.0</td>\n",
              "      <td>1.0</td>\n",
              "      <td>1.0</td>\n",
              "      <td>205.84</td>\n",
              "      <td>54.6</td>\n",
              "      <td>0.0</td>\n",
              "      <td>0.0</td>\n",
              "    </tr>\n",
              "    <tr>\n",
              "      <th>4057</th>\n",
              "      <td>1.0</td>\n",
              "      <td>71.0</td>\n",
              "      <td>0.0</td>\n",
              "      <td>0.0</td>\n",
              "      <td>1.0</td>\n",
              "      <td>0.0</td>\n",
              "      <td>1.0</td>\n",
              "      <td>198.21</td>\n",
              "      <td>27.3</td>\n",
              "      <td>2.0</td>\n",
              "      <td>0.0</td>\n",
              "    </tr>\n",
              "    <tr>\n",
              "      <th>36275</th>\n",
              "      <td>0.0</td>\n",
              "      <td>54.0</td>\n",
              "      <td>0.0</td>\n",
              "      <td>0.0</td>\n",
              "      <td>1.0</td>\n",
              "      <td>0.0</td>\n",
              "      <td>0.0</td>\n",
              "      <td>206.72</td>\n",
              "      <td>26.7</td>\n",
              "      <td>0.0</td>\n",
              "      <td>0.0</td>\n",
              "    </tr>\n",
              "    <tr>\n",
              "      <th>...</th>\n",
              "      <td>...</td>\n",
              "      <td>...</td>\n",
              "      <td>...</td>\n",
              "      <td>...</td>\n",
              "      <td>...</td>\n",
              "      <td>...</td>\n",
              "      <td>...</td>\n",
              "      <td>...</td>\n",
              "      <td>...</td>\n",
              "      <td>...</td>\n",
              "      <td>...</td>\n",
              "    </tr>\n",
              "    <tr>\n",
              "      <th>28788</th>\n",
              "      <td>1.0</td>\n",
              "      <td>40.0</td>\n",
              "      <td>0.0</td>\n",
              "      <td>0.0</td>\n",
              "      <td>1.0</td>\n",
              "      <td>0.0</td>\n",
              "      <td>1.0</td>\n",
              "      <td>191.15</td>\n",
              "      <td>33.6</td>\n",
              "      <td>3.0</td>\n",
              "      <td>0.0</td>\n",
              "    </tr>\n",
              "    <tr>\n",
              "      <th>38009</th>\n",
              "      <td>1.0</td>\n",
              "      <td>41.0</td>\n",
              "      <td>0.0</td>\n",
              "      <td>0.0</td>\n",
              "      <td>1.0</td>\n",
              "      <td>0.0</td>\n",
              "      <td>1.0</td>\n",
              "      <td>223.78</td>\n",
              "      <td>32.3</td>\n",
              "      <td>0.0</td>\n",
              "      <td>0.0</td>\n",
              "    </tr>\n",
              "    <tr>\n",
              "      <th>11184</th>\n",
              "      <td>0.0</td>\n",
              "      <td>82.0</td>\n",
              "      <td>0.0</td>\n",
              "      <td>0.0</td>\n",
              "      <td>1.0</td>\n",
              "      <td>1.0</td>\n",
              "      <td>0.0</td>\n",
              "      <td>211.58</td>\n",
              "      <td>36.9</td>\n",
              "      <td>0.0</td>\n",
              "      <td>0.0</td>\n",
              "    </tr>\n",
              "    <tr>\n",
              "      <th>68967</th>\n",
              "      <td>1.0</td>\n",
              "      <td>39.0</td>\n",
              "      <td>0.0</td>\n",
              "      <td>0.0</td>\n",
              "      <td>1.0</td>\n",
              "      <td>0.0</td>\n",
              "      <td>1.0</td>\n",
              "      <td>179.38</td>\n",
              "      <td>27.7</td>\n",
              "      <td>1.0</td>\n",
              "      <td>0.0</td>\n",
              "    </tr>\n",
              "    <tr>\n",
              "      <th>66684</th>\n",
              "      <td>1.0</td>\n",
              "      <td>70.0</td>\n",
              "      <td>0.0</td>\n",
              "      <td>0.0</td>\n",
              "      <td>1.0</td>\n",
              "      <td>1.0</td>\n",
              "      <td>0.0</td>\n",
              "      <td>193.88</td>\n",
              "      <td>24.3</td>\n",
              "      <td>1.0</td>\n",
              "      <td>0.0</td>\n",
              "    </tr>\n",
              "  </tbody>\n",
              "</table>\n",
              "<p>521 rows × 11 columns</p>\n",
              "</div>\n",
              "      <button class=\"colab-df-convert\" onclick=\"convertToInteractive('df-cebc611f-e0c0-41f9-84b9-f2966a6370d5')\"\n",
              "              title=\"Convert this dataframe to an interactive table.\"\n",
              "              style=\"display:none;\">\n",
              "        \n",
              "  <svg xmlns=\"http://www.w3.org/2000/svg\" height=\"24px\"viewBox=\"0 0 24 24\"\n",
              "       width=\"24px\">\n",
              "    <path d=\"M0 0h24v24H0V0z\" fill=\"none\"/>\n",
              "    <path d=\"M18.56 5.44l.94 2.06.94-2.06 2.06-.94-2.06-.94-.94-2.06-.94 2.06-2.06.94zm-11 1L8.5 8.5l.94-2.06 2.06-.94-2.06-.94L8.5 2.5l-.94 2.06-2.06.94zm10 10l.94 2.06.94-2.06 2.06-.94-2.06-.94-.94-2.06-.94 2.06-2.06.94z\"/><path d=\"M17.41 7.96l-1.37-1.37c-.4-.4-.92-.59-1.43-.59-.52 0-1.04.2-1.43.59L10.3 9.45l-7.72 7.72c-.78.78-.78 2.05 0 2.83L4 21.41c.39.39.9.59 1.41.59.51 0 1.02-.2 1.41-.59l7.78-7.78 2.81-2.81c.8-.78.8-2.07 0-2.86zM5.41 20L4 18.59l7.72-7.72 1.47 1.35L5.41 20z\"/>\n",
              "  </svg>\n",
              "      </button>\n",
              "      \n",
              "  <style>\n",
              "    .colab-df-container {\n",
              "      display:flex;\n",
              "      flex-wrap:wrap;\n",
              "      gap: 12px;\n",
              "    }\n",
              "\n",
              "    .colab-df-convert {\n",
              "      background-color: #E8F0FE;\n",
              "      border: none;\n",
              "      border-radius: 50%;\n",
              "      cursor: pointer;\n",
              "      display: none;\n",
              "      fill: #1967D2;\n",
              "      height: 32px;\n",
              "      padding: 0 0 0 0;\n",
              "      width: 32px;\n",
              "    }\n",
              "\n",
              "    .colab-df-convert:hover {\n",
              "      background-color: #E2EBFA;\n",
              "      box-shadow: 0px 1px 2px rgba(60, 64, 67, 0.3), 0px 1px 3px 1px rgba(60, 64, 67, 0.15);\n",
              "      fill: #174EA6;\n",
              "    }\n",
              "\n",
              "    [theme=dark] .colab-df-convert {\n",
              "      background-color: #3B4455;\n",
              "      fill: #D2E3FC;\n",
              "    }\n",
              "\n",
              "    [theme=dark] .colab-df-convert:hover {\n",
              "      background-color: #434B5C;\n",
              "      box-shadow: 0px 1px 3px 1px rgba(0, 0, 0, 0.15);\n",
              "      filter: drop-shadow(0px 1px 2px rgba(0, 0, 0, 0.3));\n",
              "      fill: #FFFFFF;\n",
              "    }\n",
              "  </style>\n",
              "\n",
              "      <script>\n",
              "        const buttonEl =\n",
              "          document.querySelector('#df-cebc611f-e0c0-41f9-84b9-f2966a6370d5 button.colab-df-convert');\n",
              "        buttonEl.style.display =\n",
              "          google.colab.kernel.accessAllowed ? 'block' : 'none';\n",
              "\n",
              "        async function convertToInteractive(key) {\n",
              "          const element = document.querySelector('#df-cebc611f-e0c0-41f9-84b9-f2966a6370d5');\n",
              "          const dataTable =\n",
              "            await google.colab.kernel.invokeFunction('convertToInteractive',\n",
              "                                                     [key], {});\n",
              "          if (!dataTable) return;\n",
              "\n",
              "          const docLinkHtml = 'Like what you see? Visit the ' +\n",
              "            '<a target=\"_blank\" href=https://colab.research.google.com/notebooks/data_table.ipynb>data table notebook</a>'\n",
              "            + ' to learn more about interactive tables.';\n",
              "          element.innerHTML = '';\n",
              "          dataTable['output_type'] = 'display_data';\n",
              "          await google.colab.output.renderOutput(dataTable, element);\n",
              "          const docLink = document.createElement('div');\n",
              "          docLink.innerHTML = docLinkHtml;\n",
              "          element.appendChild(docLink);\n",
              "        }\n",
              "      </script>\n",
              "    </div>\n",
              "  </div>\n",
              "  "
            ]
          },
          "metadata": {},
          "execution_count": 63
        }
      ],
      "source": [
        "df.loc[(df['avg_glucose_level'] >= 175) & (df['stroke']== 0)]"
      ]
    },
    {
      "cell_type": "code",
      "execution_count": 64,
      "metadata": {
        "id": "rv1rSKRQSo3J",
        "colab": {
          "base_uri": "https://localhost:8080/",
          "height": 519
        },
        "outputId": "b1551c90-890f-4f8c-d0d3-1a1a0f77ad79"
      },
      "outputs": [
        {
          "output_type": "execute_result",
          "data": {
            "text/plain": [
              "       gender   age  hypertension  heart_disease  ever_married  work_type  \\\n",
              "id                                                                          \n",
              "32257     0.0  47.0           0.0            0.0           1.0        0.0   \n",
              "28674     0.0  74.0           1.0            0.0           1.0        1.0   \n",
              "72911     0.0  57.0           1.0            0.0           1.0        0.0   \n",
              "1703      0.0  52.0           0.0            0.0           1.0        0.0   \n",
              "38805     0.0  37.0           0.0            0.0           1.0        0.0   \n",
              "...       ...   ...           ...            ...           ...        ...   \n",
              "1696      0.0  43.0           0.0            0.0           1.0        0.0   \n",
              "72696     0.0  53.0           0.0            0.0           1.0        0.0   \n",
              "16245     1.0  51.0           1.0            0.0           1.0        1.0   \n",
              "40732     0.0  50.0           0.0            0.0           1.0        1.0   \n",
              "38349     0.0  49.0           0.0            0.0           1.0        3.0   \n",
              "\n",
              "       Residence_type  avg_glucose_level   bmi  smoking_status  stroke  \n",
              "id                                                                      \n",
              "32257             1.0             210.95  50.1             1.0     0.0  \n",
              "28674             1.0             205.84  54.6             0.0     0.0  \n",
              "72911             0.0             129.54  60.9             3.0     0.0  \n",
              "1703              1.0              82.24  54.7             2.0     0.0  \n",
              "38805             0.0              75.18  48.2             2.0     0.0  \n",
              "...               ...                ...   ...             ...     ...  \n",
              "1696              1.0             100.88  47.6             3.0     0.0  \n",
              "72696             1.0              70.51  54.1             0.0     0.0  \n",
              "16245             0.0             211.83  56.6             0.0     0.0  \n",
              "40732             0.0             126.85  49.5             2.0     0.0  \n",
              "38349             1.0              69.92  47.6             0.0     0.0  \n",
              "\n",
              "[110 rows x 11 columns]"
            ],
            "text/html": [
              "\n",
              "  <div id=\"df-3e12eb1e-60e0-4ac1-8d47-f8f0a030b51c\">\n",
              "    <div class=\"colab-df-container\">\n",
              "      <div>\n",
              "<style scoped>\n",
              "    .dataframe tbody tr th:only-of-type {\n",
              "        vertical-align: middle;\n",
              "    }\n",
              "\n",
              "    .dataframe tbody tr th {\n",
              "        vertical-align: top;\n",
              "    }\n",
              "\n",
              "    .dataframe thead th {\n",
              "        text-align: right;\n",
              "    }\n",
              "</style>\n",
              "<table border=\"1\" class=\"dataframe\">\n",
              "  <thead>\n",
              "    <tr style=\"text-align: right;\">\n",
              "      <th></th>\n",
              "      <th>gender</th>\n",
              "      <th>age</th>\n",
              "      <th>hypertension</th>\n",
              "      <th>heart_disease</th>\n",
              "      <th>ever_married</th>\n",
              "      <th>work_type</th>\n",
              "      <th>Residence_type</th>\n",
              "      <th>avg_glucose_level</th>\n",
              "      <th>bmi</th>\n",
              "      <th>smoking_status</th>\n",
              "      <th>stroke</th>\n",
              "    </tr>\n",
              "    <tr>\n",
              "      <th>id</th>\n",
              "      <th></th>\n",
              "      <th></th>\n",
              "      <th></th>\n",
              "      <th></th>\n",
              "      <th></th>\n",
              "      <th></th>\n",
              "      <th></th>\n",
              "      <th></th>\n",
              "      <th></th>\n",
              "      <th></th>\n",
              "      <th></th>\n",
              "    </tr>\n",
              "  </thead>\n",
              "  <tbody>\n",
              "    <tr>\n",
              "      <th>32257</th>\n",
              "      <td>0.0</td>\n",
              "      <td>47.0</td>\n",
              "      <td>0.0</td>\n",
              "      <td>0.0</td>\n",
              "      <td>1.0</td>\n",
              "      <td>0.0</td>\n",
              "      <td>1.0</td>\n",
              "      <td>210.95</td>\n",
              "      <td>50.1</td>\n",
              "      <td>1.0</td>\n",
              "      <td>0.0</td>\n",
              "    </tr>\n",
              "    <tr>\n",
              "      <th>28674</th>\n",
              "      <td>0.0</td>\n",
              "      <td>74.0</td>\n",
              "      <td>1.0</td>\n",
              "      <td>0.0</td>\n",
              "      <td>1.0</td>\n",
              "      <td>1.0</td>\n",
              "      <td>1.0</td>\n",
              "      <td>205.84</td>\n",
              "      <td>54.6</td>\n",
              "      <td>0.0</td>\n",
              "      <td>0.0</td>\n",
              "    </tr>\n",
              "    <tr>\n",
              "      <th>72911</th>\n",
              "      <td>0.0</td>\n",
              "      <td>57.0</td>\n",
              "      <td>1.0</td>\n",
              "      <td>0.0</td>\n",
              "      <td>1.0</td>\n",
              "      <td>0.0</td>\n",
              "      <td>0.0</td>\n",
              "      <td>129.54</td>\n",
              "      <td>60.9</td>\n",
              "      <td>3.0</td>\n",
              "      <td>0.0</td>\n",
              "    </tr>\n",
              "    <tr>\n",
              "      <th>1703</th>\n",
              "      <td>0.0</td>\n",
              "      <td>52.0</td>\n",
              "      <td>0.0</td>\n",
              "      <td>0.0</td>\n",
              "      <td>1.0</td>\n",
              "      <td>0.0</td>\n",
              "      <td>1.0</td>\n",
              "      <td>82.24</td>\n",
              "      <td>54.7</td>\n",
              "      <td>2.0</td>\n",
              "      <td>0.0</td>\n",
              "    </tr>\n",
              "    <tr>\n",
              "      <th>38805</th>\n",
              "      <td>0.0</td>\n",
              "      <td>37.0</td>\n",
              "      <td>0.0</td>\n",
              "      <td>0.0</td>\n",
              "      <td>1.0</td>\n",
              "      <td>0.0</td>\n",
              "      <td>0.0</td>\n",
              "      <td>75.18</td>\n",
              "      <td>48.2</td>\n",
              "      <td>2.0</td>\n",
              "      <td>0.0</td>\n",
              "    </tr>\n",
              "    <tr>\n",
              "      <th>...</th>\n",
              "      <td>...</td>\n",
              "      <td>...</td>\n",
              "      <td>...</td>\n",
              "      <td>...</td>\n",
              "      <td>...</td>\n",
              "      <td>...</td>\n",
              "      <td>...</td>\n",
              "      <td>...</td>\n",
              "      <td>...</td>\n",
              "      <td>...</td>\n",
              "      <td>...</td>\n",
              "    </tr>\n",
              "    <tr>\n",
              "      <th>1696</th>\n",
              "      <td>0.0</td>\n",
              "      <td>43.0</td>\n",
              "      <td>0.0</td>\n",
              "      <td>0.0</td>\n",
              "      <td>1.0</td>\n",
              "      <td>0.0</td>\n",
              "      <td>1.0</td>\n",
              "      <td>100.88</td>\n",
              "      <td>47.6</td>\n",
              "      <td>3.0</td>\n",
              "      <td>0.0</td>\n",
              "    </tr>\n",
              "    <tr>\n",
              "      <th>72696</th>\n",
              "      <td>0.0</td>\n",
              "      <td>53.0</td>\n",
              "      <td>0.0</td>\n",
              "      <td>0.0</td>\n",
              "      <td>1.0</td>\n",
              "      <td>0.0</td>\n",
              "      <td>1.0</td>\n",
              "      <td>70.51</td>\n",
              "      <td>54.1</td>\n",
              "      <td>0.0</td>\n",
              "      <td>0.0</td>\n",
              "    </tr>\n",
              "    <tr>\n",
              "      <th>16245</th>\n",
              "      <td>1.0</td>\n",
              "      <td>51.0</td>\n",
              "      <td>1.0</td>\n",
              "      <td>0.0</td>\n",
              "      <td>1.0</td>\n",
              "      <td>1.0</td>\n",
              "      <td>0.0</td>\n",
              "      <td>211.83</td>\n",
              "      <td>56.6</td>\n",
              "      <td>0.0</td>\n",
              "      <td>0.0</td>\n",
              "    </tr>\n",
              "    <tr>\n",
              "      <th>40732</th>\n",
              "      <td>0.0</td>\n",
              "      <td>50.0</td>\n",
              "      <td>0.0</td>\n",
              "      <td>0.0</td>\n",
              "      <td>1.0</td>\n",
              "      <td>1.0</td>\n",
              "      <td>0.0</td>\n",
              "      <td>126.85</td>\n",
              "      <td>49.5</td>\n",
              "      <td>2.0</td>\n",
              "      <td>0.0</td>\n",
              "    </tr>\n",
              "    <tr>\n",
              "      <th>38349</th>\n",
              "      <td>0.0</td>\n",
              "      <td>49.0</td>\n",
              "      <td>0.0</td>\n",
              "      <td>0.0</td>\n",
              "      <td>1.0</td>\n",
              "      <td>3.0</td>\n",
              "      <td>1.0</td>\n",
              "      <td>69.92</td>\n",
              "      <td>47.6</td>\n",
              "      <td>0.0</td>\n",
              "      <td>0.0</td>\n",
              "    </tr>\n",
              "  </tbody>\n",
              "</table>\n",
              "<p>110 rows × 11 columns</p>\n",
              "</div>\n",
              "      <button class=\"colab-df-convert\" onclick=\"convertToInteractive('df-3e12eb1e-60e0-4ac1-8d47-f8f0a030b51c')\"\n",
              "              title=\"Convert this dataframe to an interactive table.\"\n",
              "              style=\"display:none;\">\n",
              "        \n",
              "  <svg xmlns=\"http://www.w3.org/2000/svg\" height=\"24px\"viewBox=\"0 0 24 24\"\n",
              "       width=\"24px\">\n",
              "    <path d=\"M0 0h24v24H0V0z\" fill=\"none\"/>\n",
              "    <path d=\"M18.56 5.44l.94 2.06.94-2.06 2.06-.94-2.06-.94-.94-2.06-.94 2.06-2.06.94zm-11 1L8.5 8.5l.94-2.06 2.06-.94-2.06-.94L8.5 2.5l-.94 2.06-2.06.94zm10 10l.94 2.06.94-2.06 2.06-.94-2.06-.94-.94-2.06-.94 2.06-2.06.94z\"/><path d=\"M17.41 7.96l-1.37-1.37c-.4-.4-.92-.59-1.43-.59-.52 0-1.04.2-1.43.59L10.3 9.45l-7.72 7.72c-.78.78-.78 2.05 0 2.83L4 21.41c.39.39.9.59 1.41.59.51 0 1.02-.2 1.41-.59l7.78-7.78 2.81-2.81c.8-.78.8-2.07 0-2.86zM5.41 20L4 18.59l7.72-7.72 1.47 1.35L5.41 20z\"/>\n",
              "  </svg>\n",
              "      </button>\n",
              "      \n",
              "  <style>\n",
              "    .colab-df-container {\n",
              "      display:flex;\n",
              "      flex-wrap:wrap;\n",
              "      gap: 12px;\n",
              "    }\n",
              "\n",
              "    .colab-df-convert {\n",
              "      background-color: #E8F0FE;\n",
              "      border: none;\n",
              "      border-radius: 50%;\n",
              "      cursor: pointer;\n",
              "      display: none;\n",
              "      fill: #1967D2;\n",
              "      height: 32px;\n",
              "      padding: 0 0 0 0;\n",
              "      width: 32px;\n",
              "    }\n",
              "\n",
              "    .colab-df-convert:hover {\n",
              "      background-color: #E2EBFA;\n",
              "      box-shadow: 0px 1px 2px rgba(60, 64, 67, 0.3), 0px 1px 3px 1px rgba(60, 64, 67, 0.15);\n",
              "      fill: #174EA6;\n",
              "    }\n",
              "\n",
              "    [theme=dark] .colab-df-convert {\n",
              "      background-color: #3B4455;\n",
              "      fill: #D2E3FC;\n",
              "    }\n",
              "\n",
              "    [theme=dark] .colab-df-convert:hover {\n",
              "      background-color: #434B5C;\n",
              "      box-shadow: 0px 1px 3px 1px rgba(0, 0, 0, 0.15);\n",
              "      filter: drop-shadow(0px 1px 2px rgba(0, 0, 0, 0.3));\n",
              "      fill: #FFFFFF;\n",
              "    }\n",
              "  </style>\n",
              "\n",
              "      <script>\n",
              "        const buttonEl =\n",
              "          document.querySelector('#df-3e12eb1e-60e0-4ac1-8d47-f8f0a030b51c button.colab-df-convert');\n",
              "        buttonEl.style.display =\n",
              "          google.colab.kernel.accessAllowed ? 'block' : 'none';\n",
              "\n",
              "        async function convertToInteractive(key) {\n",
              "          const element = document.querySelector('#df-3e12eb1e-60e0-4ac1-8d47-f8f0a030b51c');\n",
              "          const dataTable =\n",
              "            await google.colab.kernel.invokeFunction('convertToInteractive',\n",
              "                                                     [key], {});\n",
              "          if (!dataTable) return;\n",
              "\n",
              "          const docLinkHtml = 'Like what you see? Visit the ' +\n",
              "            '<a target=\"_blank\" href=https://colab.research.google.com/notebooks/data_table.ipynb>data table notebook</a>'\n",
              "            + ' to learn more about interactive tables.';\n",
              "          element.innerHTML = '';\n",
              "          dataTable['output_type'] = 'display_data';\n",
              "          await google.colab.output.renderOutput(dataTable, element);\n",
              "          const docLink = document.createElement('div');\n",
              "          docLink.innerHTML = docLinkHtml;\n",
              "          element.appendChild(docLink);\n",
              "        }\n",
              "      </script>\n",
              "    </div>\n",
              "  </div>\n",
              "  "
            ]
          },
          "metadata": {},
          "execution_count": 64
        }
      ],
      "source": [
        "df.loc[(df['bmi'] >= 47) & (df['stroke']== 0)]"
      ]
    },
    {
      "cell_type": "code",
      "source": [
        "df.loc[(df['avg_glucose_level'] >= 146) & (df['stroke']== 0)]"
      ],
      "metadata": {
        "colab": {
          "base_uri": "https://localhost:8080/",
          "height": 519
        },
        "id": "tebwArWY7tXT",
        "outputId": "b099848b-e799-4764-ff45-181101fc05af"
      },
      "execution_count": 65,
      "outputs": [
        {
          "output_type": "execute_result",
          "data": {
            "text/plain": [
              "       gender   age  hypertension  heart_disease  ever_married  work_type  \\\n",
              "id                                                                          \n",
              "46136     1.0  14.0           0.0            0.0           0.0        4.0   \n",
              "32257     0.0  47.0           0.0            0.0           1.0        0.0   \n",
              "41413     0.0  75.0           0.0            1.0           1.0        1.0   \n",
              "28674     0.0  74.0           1.0            0.0           1.0        1.0   \n",
              "63884     0.0  37.0           0.0            0.0           1.0        0.0   \n",
              "...       ...   ...           ...            ...           ...        ...   \n",
              "68967     1.0  39.0           0.0            0.0           1.0        0.0   \n",
              "66684     1.0  70.0           0.0            0.0           1.0        1.0   \n",
              "39935     0.0  34.0           0.0            0.0           1.0        0.0   \n",
              "65411     0.0  51.0           0.0            0.0           1.0        0.0   \n",
              "37544     1.0  51.0           0.0            0.0           1.0        0.0   \n",
              "\n",
              "       Residence_type  avg_glucose_level   bmi  smoking_status  stroke  \n",
              "id                                                                      \n",
              "46136             0.0             161.28  19.1             1.0     0.0  \n",
              "32257             1.0             210.95  50.1             1.0     0.0  \n",
              "41413             0.0             243.53  27.0             0.0     0.0  \n",
              "28674             1.0             205.84  54.6             0.0     0.0  \n",
              "63884             0.0             162.96  39.4             0.0     0.0  \n",
              "...               ...                ...   ...             ...     ...  \n",
              "68967             1.0             179.38  27.7             1.0     0.0  \n",
              "66684             0.0             193.88  24.3             1.0     0.0  \n",
              "39935             0.0             174.37  23.0             0.0     0.0  \n",
              "65411             1.0             152.56  21.8             1.0     0.0  \n",
              "37544             0.0             166.29  25.6             2.0     0.0  \n",
              "\n",
              "[670 rows x 11 columns]"
            ],
            "text/html": [
              "\n",
              "  <div id=\"df-e1f796b9-f773-4671-899c-c5230b87b6af\">\n",
              "    <div class=\"colab-df-container\">\n",
              "      <div>\n",
              "<style scoped>\n",
              "    .dataframe tbody tr th:only-of-type {\n",
              "        vertical-align: middle;\n",
              "    }\n",
              "\n",
              "    .dataframe tbody tr th {\n",
              "        vertical-align: top;\n",
              "    }\n",
              "\n",
              "    .dataframe thead th {\n",
              "        text-align: right;\n",
              "    }\n",
              "</style>\n",
              "<table border=\"1\" class=\"dataframe\">\n",
              "  <thead>\n",
              "    <tr style=\"text-align: right;\">\n",
              "      <th></th>\n",
              "      <th>gender</th>\n",
              "      <th>age</th>\n",
              "      <th>hypertension</th>\n",
              "      <th>heart_disease</th>\n",
              "      <th>ever_married</th>\n",
              "      <th>work_type</th>\n",
              "      <th>Residence_type</th>\n",
              "      <th>avg_glucose_level</th>\n",
              "      <th>bmi</th>\n",
              "      <th>smoking_status</th>\n",
              "      <th>stroke</th>\n",
              "    </tr>\n",
              "    <tr>\n",
              "      <th>id</th>\n",
              "      <th></th>\n",
              "      <th></th>\n",
              "      <th></th>\n",
              "      <th></th>\n",
              "      <th></th>\n",
              "      <th></th>\n",
              "      <th></th>\n",
              "      <th></th>\n",
              "      <th></th>\n",
              "      <th></th>\n",
              "      <th></th>\n",
              "    </tr>\n",
              "  </thead>\n",
              "  <tbody>\n",
              "    <tr>\n",
              "      <th>46136</th>\n",
              "      <td>1.0</td>\n",
              "      <td>14.0</td>\n",
              "      <td>0.0</td>\n",
              "      <td>0.0</td>\n",
              "      <td>0.0</td>\n",
              "      <td>4.0</td>\n",
              "      <td>0.0</td>\n",
              "      <td>161.28</td>\n",
              "      <td>19.1</td>\n",
              "      <td>1.0</td>\n",
              "      <td>0.0</td>\n",
              "    </tr>\n",
              "    <tr>\n",
              "      <th>32257</th>\n",
              "      <td>0.0</td>\n",
              "      <td>47.0</td>\n",
              "      <td>0.0</td>\n",
              "      <td>0.0</td>\n",
              "      <td>1.0</td>\n",
              "      <td>0.0</td>\n",
              "      <td>1.0</td>\n",
              "      <td>210.95</td>\n",
              "      <td>50.1</td>\n",
              "      <td>1.0</td>\n",
              "      <td>0.0</td>\n",
              "    </tr>\n",
              "    <tr>\n",
              "      <th>41413</th>\n",
              "      <td>0.0</td>\n",
              "      <td>75.0</td>\n",
              "      <td>0.0</td>\n",
              "      <td>1.0</td>\n",
              "      <td>1.0</td>\n",
              "      <td>1.0</td>\n",
              "      <td>0.0</td>\n",
              "      <td>243.53</td>\n",
              "      <td>27.0</td>\n",
              "      <td>0.0</td>\n",
              "      <td>0.0</td>\n",
              "    </tr>\n",
              "    <tr>\n",
              "      <th>28674</th>\n",
              "      <td>0.0</td>\n",
              "      <td>74.0</td>\n",
              "      <td>1.0</td>\n",
              "      <td>0.0</td>\n",
              "      <td>1.0</td>\n",
              "      <td>1.0</td>\n",
              "      <td>1.0</td>\n",
              "      <td>205.84</td>\n",
              "      <td>54.6</td>\n",
              "      <td>0.0</td>\n",
              "      <td>0.0</td>\n",
              "    </tr>\n",
              "    <tr>\n",
              "      <th>63884</th>\n",
              "      <td>0.0</td>\n",
              "      <td>37.0</td>\n",
              "      <td>0.0</td>\n",
              "      <td>0.0</td>\n",
              "      <td>1.0</td>\n",
              "      <td>0.0</td>\n",
              "      <td>0.0</td>\n",
              "      <td>162.96</td>\n",
              "      <td>39.4</td>\n",
              "      <td>0.0</td>\n",
              "      <td>0.0</td>\n",
              "    </tr>\n",
              "    <tr>\n",
              "      <th>...</th>\n",
              "      <td>...</td>\n",
              "      <td>...</td>\n",
              "      <td>...</td>\n",
              "      <td>...</td>\n",
              "      <td>...</td>\n",
              "      <td>...</td>\n",
              "      <td>...</td>\n",
              "      <td>...</td>\n",
              "      <td>...</td>\n",
              "      <td>...</td>\n",
              "      <td>...</td>\n",
              "    </tr>\n",
              "    <tr>\n",
              "      <th>68967</th>\n",
              "      <td>1.0</td>\n",
              "      <td>39.0</td>\n",
              "      <td>0.0</td>\n",
              "      <td>0.0</td>\n",
              "      <td>1.0</td>\n",
              "      <td>0.0</td>\n",
              "      <td>1.0</td>\n",
              "      <td>179.38</td>\n",
              "      <td>27.7</td>\n",
              "      <td>1.0</td>\n",
              "      <td>0.0</td>\n",
              "    </tr>\n",
              "    <tr>\n",
              "      <th>66684</th>\n",
              "      <td>1.0</td>\n",
              "      <td>70.0</td>\n",
              "      <td>0.0</td>\n",
              "      <td>0.0</td>\n",
              "      <td>1.0</td>\n",
              "      <td>1.0</td>\n",
              "      <td>0.0</td>\n",
              "      <td>193.88</td>\n",
              "      <td>24.3</td>\n",
              "      <td>1.0</td>\n",
              "      <td>0.0</td>\n",
              "    </tr>\n",
              "    <tr>\n",
              "      <th>39935</th>\n",
              "      <td>0.0</td>\n",
              "      <td>34.0</td>\n",
              "      <td>0.0</td>\n",
              "      <td>0.0</td>\n",
              "      <td>1.0</td>\n",
              "      <td>0.0</td>\n",
              "      <td>0.0</td>\n",
              "      <td>174.37</td>\n",
              "      <td>23.0</td>\n",
              "      <td>0.0</td>\n",
              "      <td>0.0</td>\n",
              "    </tr>\n",
              "    <tr>\n",
              "      <th>65411</th>\n",
              "      <td>0.0</td>\n",
              "      <td>51.0</td>\n",
              "      <td>0.0</td>\n",
              "      <td>0.0</td>\n",
              "      <td>1.0</td>\n",
              "      <td>0.0</td>\n",
              "      <td>1.0</td>\n",
              "      <td>152.56</td>\n",
              "      <td>21.8</td>\n",
              "      <td>1.0</td>\n",
              "      <td>0.0</td>\n",
              "    </tr>\n",
              "    <tr>\n",
              "      <th>37544</th>\n",
              "      <td>1.0</td>\n",
              "      <td>51.0</td>\n",
              "      <td>0.0</td>\n",
              "      <td>0.0</td>\n",
              "      <td>1.0</td>\n",
              "      <td>0.0</td>\n",
              "      <td>0.0</td>\n",
              "      <td>166.29</td>\n",
              "      <td>25.6</td>\n",
              "      <td>2.0</td>\n",
              "      <td>0.0</td>\n",
              "    </tr>\n",
              "  </tbody>\n",
              "</table>\n",
              "<p>670 rows × 11 columns</p>\n",
              "</div>\n",
              "      <button class=\"colab-df-convert\" onclick=\"convertToInteractive('df-e1f796b9-f773-4671-899c-c5230b87b6af')\"\n",
              "              title=\"Convert this dataframe to an interactive table.\"\n",
              "              style=\"display:none;\">\n",
              "        \n",
              "  <svg xmlns=\"http://www.w3.org/2000/svg\" height=\"24px\"viewBox=\"0 0 24 24\"\n",
              "       width=\"24px\">\n",
              "    <path d=\"M0 0h24v24H0V0z\" fill=\"none\"/>\n",
              "    <path d=\"M18.56 5.44l.94 2.06.94-2.06 2.06-.94-2.06-.94-.94-2.06-.94 2.06-2.06.94zm-11 1L8.5 8.5l.94-2.06 2.06-.94-2.06-.94L8.5 2.5l-.94 2.06-2.06.94zm10 10l.94 2.06.94-2.06 2.06-.94-2.06-.94-.94-2.06-.94 2.06-2.06.94z\"/><path d=\"M17.41 7.96l-1.37-1.37c-.4-.4-.92-.59-1.43-.59-.52 0-1.04.2-1.43.59L10.3 9.45l-7.72 7.72c-.78.78-.78 2.05 0 2.83L4 21.41c.39.39.9.59 1.41.59.51 0 1.02-.2 1.41-.59l7.78-7.78 2.81-2.81c.8-.78.8-2.07 0-2.86zM5.41 20L4 18.59l7.72-7.72 1.47 1.35L5.41 20z\"/>\n",
              "  </svg>\n",
              "      </button>\n",
              "      \n",
              "  <style>\n",
              "    .colab-df-container {\n",
              "      display:flex;\n",
              "      flex-wrap:wrap;\n",
              "      gap: 12px;\n",
              "    }\n",
              "\n",
              "    .colab-df-convert {\n",
              "      background-color: #E8F0FE;\n",
              "      border: none;\n",
              "      border-radius: 50%;\n",
              "      cursor: pointer;\n",
              "      display: none;\n",
              "      fill: #1967D2;\n",
              "      height: 32px;\n",
              "      padding: 0 0 0 0;\n",
              "      width: 32px;\n",
              "    }\n",
              "\n",
              "    .colab-df-convert:hover {\n",
              "      background-color: #E2EBFA;\n",
              "      box-shadow: 0px 1px 2px rgba(60, 64, 67, 0.3), 0px 1px 3px 1px rgba(60, 64, 67, 0.15);\n",
              "      fill: #174EA6;\n",
              "    }\n",
              "\n",
              "    [theme=dark] .colab-df-convert {\n",
              "      background-color: #3B4455;\n",
              "      fill: #D2E3FC;\n",
              "    }\n",
              "\n",
              "    [theme=dark] .colab-df-convert:hover {\n",
              "      background-color: #434B5C;\n",
              "      box-shadow: 0px 1px 3px 1px rgba(0, 0, 0, 0.15);\n",
              "      filter: drop-shadow(0px 1px 2px rgba(0, 0, 0, 0.3));\n",
              "      fill: #FFFFFF;\n",
              "    }\n",
              "  </style>\n",
              "\n",
              "      <script>\n",
              "        const buttonEl =\n",
              "          document.querySelector('#df-e1f796b9-f773-4671-899c-c5230b87b6af button.colab-df-convert');\n",
              "        buttonEl.style.display =\n",
              "          google.colab.kernel.accessAllowed ? 'block' : 'none';\n",
              "\n",
              "        async function convertToInteractive(key) {\n",
              "          const element = document.querySelector('#df-e1f796b9-f773-4671-899c-c5230b87b6af');\n",
              "          const dataTable =\n",
              "            await google.colab.kernel.invokeFunction('convertToInteractive',\n",
              "                                                     [key], {});\n",
              "          if (!dataTable) return;\n",
              "\n",
              "          const docLinkHtml = 'Like what you see? Visit the ' +\n",
              "            '<a target=\"_blank\" href=https://colab.research.google.com/notebooks/data_table.ipynb>data table notebook</a>'\n",
              "            + ' to learn more about interactive tables.';\n",
              "          element.innerHTML = '';\n",
              "          dataTable['output_type'] = 'display_data';\n",
              "          await google.colab.output.renderOutput(dataTable, element);\n",
              "          const docLink = document.createElement('div');\n",
              "          docLink.innerHTML = docLinkHtml;\n",
              "          element.appendChild(docLink);\n",
              "        }\n",
              "      </script>\n",
              "    </div>\n",
              "  </div>\n",
              "  "
            ]
          },
          "metadata": {},
          "execution_count": 65
        }
      ]
    },
    {
      "cell_type": "code",
      "execution_count": 66,
      "metadata": {
        "id": "hpJvvYoEkQWG"
      },
      "outputs": [],
      "source": [
        "# Removing 'age' outliers \n",
        "index_age= df[(df['age']< 20) & (df['stroke']== 1)].index\n",
        "\n",
        "df.drop(index_age, inplace= True)\n",
        "\n",
        "# Removing 'avg_glucose_level' outliers \n",
        "index_glucose_lvl_0= df[ (df['avg_glucose_level']> 143) & (df['stroke']== 0)].index\n",
        "\n",
        "df.drop(index_glucose_lvl_0, inplace= True)\n",
        "\n",
        "# Removing 'bmi' outliers \n",
        "index_bmi_0= df[(df['bmi']> 45) & (df['stroke']== 0)].index\n",
        "\n",
        "df.drop(index_bmi_0, inplace= True)\n",
        "\n",
        "index_bmi_1= df[(df['bmi']> 44) & (df['stroke']== 1)].index\n",
        "\n",
        "df.drop(index_bmi_1, inplace= True)"
      ]
    },
    {
      "cell_type": "code",
      "execution_count": 67,
      "metadata": {
        "id": "aXrWsqBhf1_B",
        "colab": {
          "base_uri": "https://localhost:8080/",
          "height": 830
        },
        "outputId": "304b825b-74c6-4a59-bb7e-ce4e02f6337f"
      },
      "outputs": [
        {
          "output_type": "display_data",
          "data": {
            "text/plain": [
              "<Figure size 432x288 with 1 Axes>"
            ],
            "image/png": "[encoded data removed]"
          },
          "metadata": {
            "needs_background": "light"
          }
        },
        {
          "output_type": "display_data",
          "data": {
            "text/plain": [
              "<Figure size 432x288 with 1 Axes>"
            ],
            "image/png": "[encoded data removed]"
          },
          "metadata": {
            "needs_background": "light"
          }
        },
        {
          "output_type": "display_data",
          "data": {
            "text/plain": [
              "<Figure size 432x288 with 1 Axes>"
            ],
            "image/png": "[encoded data removed]"
          },
          "metadata": {
            "needs_background": "light"
          }
        }
      ],
      "source": [
        "for features in features_continous:\n",
        "  sns.boxplot(data=df, x= 'stroke', y= features, palette=\"viridis\")\n",
        "  plt.xticks(rotation= 45)\n",
        "  plt.show()"
      ]
    },
    {
      "cell_type": "code",
      "source": [
        "df.info()"
      ],
      "metadata": {
        "colab": {
          "base_uri": "https://localhost:8080/"
        },
        "id": "Z-1nYHMsAPPk",
        "outputId": "a5b11d7f-531d-457b-d966-f52775a8470a"
      },
      "execution_count": 68,
      "outputs": [
        {
          "output_type": "stream",
          "name": "stdout",
          "text": [
            "<class 'pandas.core.frame.DataFrame'>\n",
            "Int64Index: 4293 entries, 9046 to 44679\n",
            "Data columns (total 11 columns):\n",
            " #   Column             Non-Null Count  Dtype  \n",
            "---  ------             --------------  -----  \n",
            " 0   gender             4293 non-null   float64\n",
            " 1   age                4293 non-null   float64\n",
            " 2   hypertension       4293 non-null   float64\n",
            " 3   heart_disease      4293 non-null   float64\n",
            " 4   ever_married       4293 non-null   float64\n",
            " 5   work_type          4293 non-null   float64\n",
            " 6   Residence_type     4293 non-null   float64\n",
            " 7   avg_glucose_level  4293 non-null   float64\n",
            " 8   bmi                4293 non-null   float64\n",
            " 9   smoking_status     4293 non-null   float64\n",
            " 10  stroke             4293 non-null   float64\n",
            "dtypes: float64(11)\n",
            "memory usage: 531.5 KB\n"
          ]
        }
      ]
    },
    {
      "cell_type": "code",
      "source": [
        "# corr\n",
        "corr =df.corr()\n",
        "\n",
        "# correlation heatmap\n",
        "plt.figure(figsize= (15,10))\n",
        "sns.heatmap(corr, \n",
        "        annot= True,\n",
        "        cmap= 'coolwarm', \n",
        "        xticklabels=corr.columns,\n",
        "        yticklabels=corr.columns)"
      ],
      "metadata": {
        "colab": {
          "base_uri": "https://localhost:8080/",
          "height": 527
        },
        "id": "14-mxlMw3mvA",
        "outputId": "cfad7a40-e4bb-400f-f09a-3bbc9ba06ef8"
      },
      "execution_count": 69,
      "outputs": [
        {
          "output_type": "execute_result",
          "data": {
            "text/plain": [
              "<matplotlib.axes._subplots.AxesSubplot at 0x7f20b0b21220>"
            ]
          },
          "metadata": {},
          "execution_count": 69
        },
        {
          "output_type": "display_data",
          "data": {
            "text/plain": [
              "<Figure size 1080x720 with 2 Axes>"
            ],
            "image/png": "[encoded data removed]"
          },
          "metadata": {
            "needs_background": "light"
          }
        }
      ]
    },
    {
      "cell_type": "markdown",
      "metadata": {
        "id": "8klRMtA8a9Dc"
      },
      "source": [
        "## Summary:\n",
        "\n",
        "- features_continous:\n",
        "\n",
        "\n",
        "- features_category:\n",
        "\n",
        "There is a class imbalance for the feature target 'stroke' is thus this would need to addressed.\n"
      ]
    },
    {
      "cell_type": "code",
      "source": [
        "# 0= No, 1= Yes\n",
        "sns.countplot(data=df, x=df['stroke'], palette=\"viridis\")"
      ],
      "metadata": {
        "id": "nd20iVuJZapj",
        "colab": {
          "base_uri": "https://localhost:8080/",
          "height": 296
        },
        "outputId": "f4b8c434-d2c1-41cf-b06c-9cce12313a25"
      },
      "execution_count": 95,
      "outputs": [
        {
          "output_type": "execute_result",
          "data": {
            "text/plain": [
              "<matplotlib.axes._subplots.AxesSubplot at 0x7f20b0c2de20>"
            ]
          },
          "metadata": {},
          "execution_count": 95
        },
        {
          "output_type": "display_data",
          "data": {
            "text/plain": [
              "<Figure size 432x288 with 1 Axes>"
            ],
            "image/png": "[encoded data removed]"
          },
          "metadata": {
            "needs_background": "light"
          }
        }
      ]
    },
    {
      "cell_type": "markdown",
      "metadata": {
        "id": "8ZEM-CPpb3XN"
      },
      "source": [
        "### Split X and Y\n"
      ]
    },
    {
      "cell_type": "code",
      "execution_count": 70,
      "metadata": {
        "id": "sFCa0y-XloNA",
        "colab": {
          "base_uri": "https://localhost:8080/"
        },
        "outputId": "a052f467-c754-47ec-ce83-6970ef165a5f"
      },
      "outputs": [
        {
          "output_type": "stream",
          "name": "stdout",
          "text": [
            "(4293, 10)\n",
            "(4293,)\n"
          ]
        }
      ],
      "source": [
        "Target_variable= ['stroke']\n",
        "\n",
        "features= ['gender', 'hypertension', 'heart_disease', 'ever_married',\n",
        "           'work_type', 'Residence_type','smoking_status','age',\n",
        "           'avg_glucose_level','bmi' ]\n",
        "\n",
        "Features2= ['age','avg_glucose_level', 'bmi' ]\n",
        "\n",
        "X= df[features].values.reshape(-1, 10)\n",
        "\n",
        "y= df['stroke']\n",
        "\n",
        "print(X.shape)\n",
        "print(y.shape)"
      ]
    },
    {
      "cell_type": "code",
      "execution_count": 71,
      "metadata": {
        "id": "Miag32avN5AP",
        "colab": {
          "base_uri": "https://localhost:8080/"
        },
        "outputId": "6dd5de4c-a9fc-4aee-b042-c723d48f80fa"
      },
      "outputs": [
        {
          "output_type": "execute_result",
          "data": {
            "text/plain": [
              "((3005, 10), (1288, 10))"
            ]
          },
          "metadata": {},
          "execution_count": 71
        }
      ],
      "source": [
        "# Feature\n",
        "X_train, X_test, y_train, y_test = train_test_split(\n",
        "    X,\n",
        "    y,\n",
        "    test_size= 0.3,\n",
        "    random_state=0)\n",
        "\n",
        "X_train.shape, X_test.shape\n",
        "\n"
      ]
    },
    {
      "cell_type": "markdown",
      "metadata": {
        "id": "cOpBIVG-cnSU"
      },
      "source": [
        "### Resampling Imbalanced target outcomes"
      ]
    },
    {
      "cell_type": "code",
      "execution_count": 72,
      "metadata": {
        "id": "UufYYcF0QNd6",
        "colab": {
          "base_uri": "https://localhost:8080/"
        },
        "outputId": "11284f45-047e-495b-817a-cacf2ce0c9fd"
      },
      "outputs": [
        {
          "output_type": "stream",
          "name": "stdout",
          "text": [
            "(237, 11) (4056, 11)\n"
          ]
        }
      ],
      "source": [
        "stroke= df[df['stroke']== 1]\n",
        "\n",
        "no_stroke= df[df['stroke']== 0]\n",
        "\n",
        "print(stroke.shape, no_stroke.shape)"
      ]
    },
    {
      "cell_type": "code",
      "execution_count": 73,
      "metadata": {
        "id": "5KZrQrpkQwzm",
        "colab": {
          "base_uri": "https://localhost:8080/"
        },
        "outputId": "3602283a-05b5-434a-c5cb-6f672f09c713"
      },
      "outputs": [
        {
          "output_type": "execute_result",
          "data": {
            "text/plain": [
              "((8070, 10), (8070,))"
            ]
          },
          "metadata": {},
          "execution_count": 73
        }
      ],
      "source": [
        "# Implementing oversampling to handling feature imbalance\n",
        "smk= SMOTETomek(random_state=40)\n",
        "X_res, y_res= smk.fit_resample(X,y)\n",
        "\n",
        "\n",
        "X_res.shape, y_res.shape # Dataset wil be oversampled"
      ]
    },
    {
      "cell_type": "code",
      "execution_count": 74,
      "metadata": {
        "id": "Ke5cmkFeRvYV",
        "colab": {
          "base_uri": "https://localhost:8080/"
        },
        "outputId": "de906d72-36bc-48c8-8c7d-a89d379589aa"
      },
      "outputs": [
        {
          "output_type": "stream",
          "name": "stdout",
          "text": [
            "Orignal dataset shape Counter({0.0: 4056, 1.0: 237})\n",
            "Resampled dataset shape Counter({1.0: 4035, 0.0: 4035})\n"
          ]
        }
      ],
      "source": [
        "# See how the shape for for the sample has changed\n",
        "from collections import Counter \n",
        "print('Orignal dataset shape {}'.format(Counter(y)))\n",
        "print('Resampled dataset shape {}'.format(Counter(y_res)))"
      ]
    },
    {
      "cell_type": "code",
      "source": [
        "## RandomeOversampler to handle \n",
        "from imblearn.over_sampling import RandomOverSampler\n",
        "\n",
        "os= RandomOverSampler(random_state= 42)\n",
        "X_train_res, y_train_res = os.fit_resample(X,y)\n",
        "\n",
        "print('Orignal dataset shape {}'.format(Counter(y)))\n",
        "print('Resampled dataset shape {}'.format(Counter(y_train_res)))"
      ],
      "metadata": {
        "id": "qTXZ7idGeBGO",
        "colab": {
          "base_uri": "https://localhost:8080/"
        },
        "outputId": "bf8744c8-6a34-443c-d606-1736fd6ace03"
      },
      "execution_count": 75,
      "outputs": [
        {
          "output_type": "stream",
          "name": "stdout",
          "text": [
            "Orignal dataset shape Counter({0.0: 4056, 1.0: 237})\n",
            "Resampled dataset shape Counter({1.0: 4056, 0.0: 4056})\n"
          ]
        }
      ]
    },
    {
      "cell_type": "code",
      "source": [
        "# Run model\n",
        "\n",
        "model=DecisionTreeClassifier(random_state= 15, criterion = 'entropy', max_depth=10)\n",
        "model= model.fit(X_train_res,y_train_res)"
      ],
      "metadata": {
        "id": "wjAKB994yABb"
      },
      "execution_count": 76,
      "outputs": []
    },
    {
      "cell_type": "markdown",
      "metadata": {
        "id": "AWGAhM55GJjF"
      },
      "source": [
        "### Feature selection"
      ]
    },
    {
      "cell_type": "code",
      "execution_count": 77,
      "metadata": {
        "id": "IM1zls9XHHDr",
        "colab": {
          "base_uri": "https://localhost:8080/"
        },
        "outputId": "9da62694-d670-4a42-899e-050adafad789"
      },
      "outputs": [
        {
          "output_type": "stream",
          "name": "stdout",
          "text": [
            "The feature importance for gender is: 0.02097609850008045\n",
            "The feature importance for hypertension is: 0.005579693640687892\n",
            "The feature importance for heart_disease is: 0.0007735070203814587\n",
            "The feature importance for ever_married is: 0.011038066351933416\n",
            "The feature importance for work_type is: 0.019344496752047066\n",
            "The feature importance for Residence_type is: 0.00928356315867766\n",
            "The feature importance for smoking_status is: 0.03749892434260319\n",
            "The feature importance for age is: 0.5345725446936179\n",
            "The feature importance for avg_glucose_level is: 0.22399693892286418\n",
            "The feature importance for bmi is: 0.13693616661710667\n"
          ]
        }
      ],
      "source": [
        "features= ['gender','hypertension', 'heart_disease', 'ever_married',\n",
        "           'work_type', 'Residence_type','smoking_status','age',\n",
        "           'avg_glucose_level','bmi']\n",
        "\n",
        "feature_importance_col = []\n",
        "feature_importance = []\n",
        "\n",
        "for i,column in enumerate(df[features]):\n",
        "  print('The feature importance for {} is: {}'.format(column, model.feature_importances_[i]))\n",
        "\n",
        "\n",
        "  feature_importance_col.append(column)\n",
        "  feature_importance.append(model.feature_importances_[i])"
      ]
    },
    {
      "cell_type": "code",
      "source": [
        "# Turn Feature importance into a dataframe\n",
        "fi_df= zip(feature_importance_col, feature_importance)\n",
        "fi_df= pd.DataFrame(fi_df, columns= ['Feature', 'Feature Importance'])\n",
        "\n",
        "# Sort by Feature importance\n",
        "fi_df= fi_df.sort_values('Feature Importance', ascending= False).reset_index()\n",
        "fi_df"
      ],
      "metadata": {
        "id": "hneMePwSrtUT",
        "colab": {
          "base_uri": "https://localhost:8080/",
          "height": 362
        },
        "outputId": "0e03da4e-b489-4e3d-c8d2-cd8ffaabc862"
      },
      "execution_count": 78,
      "outputs": [
        {
          "output_type": "execute_result",
          "data": {
            "text/plain": [
              "   index            Feature  Feature Importance\n",
              "0      7                age            0.534573\n",
              "1      8  avg_glucose_level            0.223997\n",
              "2      9                bmi            0.136936\n",
              "3      6     smoking_status            0.037499\n",
              "4      0             gender            0.020976\n",
              "5      4          work_type            0.019344\n",
              "6      3       ever_married            0.011038\n",
              "7      5     Residence_type            0.009284\n",
              "8      1       hypertension            0.005580\n",
              "9      2      heart_disease            0.000774"
            ],
            "text/html": [
              "\n",
              "  <div id=\"df-716cf452-d6a0-4464-aece-e420fb500b37\">\n",
              "    <div class=\"colab-df-container\">\n",
              "      <div>\n",
              "<style scoped>\n",
              "    .dataframe tbody tr th:only-of-type {\n",
              "        vertical-align: middle;\n",
              "    }\n",
              "\n",
              "    .dataframe tbody tr th {\n",
              "        vertical-align: top;\n",
              "    }\n",
              "\n",
              "    .dataframe thead th {\n",
              "        text-align: right;\n",
              "    }\n",
              "</style>\n",
              "<table border=\"1\" class=\"dataframe\">\n",
              "  <thead>\n",
              "    <tr style=\"text-align: right;\">\n",
              "      <th></th>\n",
              "      <th>index</th>\n",
              "      <th>Feature</th>\n",
              "      <th>Feature Importance</th>\n",
              "    </tr>\n",
              "  </thead>\n",
              "  <tbody>\n",
              "    <tr>\n",
              "      <th>0</th>\n",
              "      <td>7</td>\n",
              "      <td>age</td>\n",
              "      <td>0.534573</td>\n",
              "    </tr>\n",
              "    <tr>\n",
              "      <th>1</th>\n",
              "      <td>8</td>\n",
              "      <td>avg_glucose_level</td>\n",
              "      <td>0.223997</td>\n",
              "    </tr>\n",
              "    <tr>\n",
              "      <th>2</th>\n",
              "      <td>9</td>\n",
              "      <td>bmi</td>\n",
              "      <td>0.136936</td>\n",
              "    </tr>\n",
              "    <tr>\n",
              "      <th>3</th>\n",
              "      <td>6</td>\n",
              "      <td>smoking_status</td>\n",
              "      <td>0.037499</td>\n",
              "    </tr>\n",
              "    <tr>\n",
              "      <th>4</th>\n",
              "      <td>0</td>\n",
              "      <td>gender</td>\n",
              "      <td>0.020976</td>\n",
              "    </tr>\n",
              "    <tr>\n",
              "      <th>5</th>\n",
              "      <td>4</td>\n",
              "      <td>work_type</td>\n",
              "      <td>0.019344</td>\n",
              "    </tr>\n",
              "    <tr>\n",
              "      <th>6</th>\n",
              "      <td>3</td>\n",
              "      <td>ever_married</td>\n",
              "      <td>0.011038</td>\n",
              "    </tr>\n",
              "    <tr>\n",
              "      <th>7</th>\n",
              "      <td>5</td>\n",
              "      <td>Residence_type</td>\n",
              "      <td>0.009284</td>\n",
              "    </tr>\n",
              "    <tr>\n",
              "      <th>8</th>\n",
              "      <td>1</td>\n",
              "      <td>hypertension</td>\n",
              "      <td>0.005580</td>\n",
              "    </tr>\n",
              "    <tr>\n",
              "      <th>9</th>\n",
              "      <td>2</td>\n",
              "      <td>heart_disease</td>\n",
              "      <td>0.000774</td>\n",
              "    </tr>\n",
              "  </tbody>\n",
              "</table>\n",
              "</div>\n",
              "      <button class=\"colab-df-convert\" onclick=\"convertToInteractive('df-716cf452-d6a0-4464-aece-e420fb500b37')\"\n",
              "              title=\"Convert this dataframe to an interactive table.\"\n",
              "              style=\"display:none;\">\n",
              "        \n",
              "  <svg xmlns=\"http://www.w3.org/2000/svg\" height=\"24px\"viewBox=\"0 0 24 24\"\n",
              "       width=\"24px\">\n",
              "    <path d=\"M0 0h24v24H0V0z\" fill=\"none\"/>\n",
              "    <path d=\"M18.56 5.44l.94 2.06.94-2.06 2.06-.94-2.06-.94-.94-2.06-.94 2.06-2.06.94zm-11 1L8.5 8.5l.94-2.06 2.06-.94-2.06-.94L8.5 2.5l-.94 2.06-2.06.94zm10 10l.94 2.06.94-2.06 2.06-.94-2.06-.94-.94-2.06-.94 2.06-2.06.94z\"/><path d=\"M17.41 7.96l-1.37-1.37c-.4-.4-.92-.59-1.43-.59-.52 0-1.04.2-1.43.59L10.3 9.45l-7.72 7.72c-.78.78-.78 2.05 0 2.83L4 21.41c.39.39.9.59 1.41.59.51 0 1.02-.2 1.41-.59l7.78-7.78 2.81-2.81c.8-.78.8-2.07 0-2.86zM5.41 20L4 18.59l7.72-7.72 1.47 1.35L5.41 20z\"/>\n",
              "  </svg>\n",
              "      </button>\n",
              "      \n",
              "  <style>\n",
              "    .colab-df-container {\n",
              "      display:flex;\n",
              "      flex-wrap:wrap;\n",
              "      gap: 12px;\n",
              "    }\n",
              "\n",
              "    .colab-df-convert {\n",
              "      background-color: #E8F0FE;\n",
              "      border: none;\n",
              "      border-radius: 50%;\n",
              "      cursor: pointer;\n",
              "      display: none;\n",
              "      fill: #1967D2;\n",
              "      height: 32px;\n",
              "      padding: 0 0 0 0;\n",
              "      width: 32px;\n",
              "    }\n",
              "\n",
              "    .colab-df-convert:hover {\n",
              "      background-color: #E2EBFA;\n",
              "      box-shadow: 0px 1px 2px rgba(60, 64, 67, 0.3), 0px 1px 3px 1px rgba(60, 64, 67, 0.15);\n",
              "      fill: #174EA6;\n",
              "    }\n",
              "\n",
              "    [theme=dark] .colab-df-convert {\n",
              "      background-color: #3B4455;\n",
              "      fill: #D2E3FC;\n",
              "    }\n",
              "\n",
              "    [theme=dark] .colab-df-convert:hover {\n",
              "      background-color: #434B5C;\n",
              "      box-shadow: 0px 1px 3px 1px rgba(0, 0, 0, 0.15);\n",
              "      filter: drop-shadow(0px 1px 2px rgba(0, 0, 0, 0.3));\n",
              "      fill: #FFFFFF;\n",
              "    }\n",
              "  </style>\n",
              "\n",
              "      <script>\n",
              "        const buttonEl =\n",
              "          document.querySelector('#df-716cf452-d6a0-4464-aece-e420fb500b37 button.colab-df-convert');\n",
              "        buttonEl.style.display =\n",
              "          google.colab.kernel.accessAllowed ? 'block' : 'none';\n",
              "\n",
              "        async function convertToInteractive(key) {\n",
              "          const element = document.querySelector('#df-716cf452-d6a0-4464-aece-e420fb500b37');\n",
              "          const dataTable =\n",
              "            await google.colab.kernel.invokeFunction('convertToInteractive',\n",
              "                                                     [key], {});\n",
              "          if (!dataTable) return;\n",
              "\n",
              "          const docLinkHtml = 'Like what you see? Visit the ' +\n",
              "            '<a target=\"_blank\" href=https://colab.research.google.com/notebooks/data_table.ipynb>data table notebook</a>'\n",
              "            + ' to learn more about interactive tables.';\n",
              "          element.innerHTML = '';\n",
              "          dataTable['output_type'] = 'display_data';\n",
              "          await google.colab.output.renderOutput(dataTable, element);\n",
              "          const docLink = document.createElement('div');\n",
              "          docLink.innerHTML = docLinkHtml;\n",
              "          element.appendChild(docLink);\n",
              "        }\n",
              "      </script>\n",
              "    </div>\n",
              "  </div>\n",
              "  "
            ]
          },
          "metadata": {},
          "execution_count": 78
        }
      ]
    },
    {
      "cell_type": "code",
      "execution_count": 79,
      "metadata": {
        "id": "xx-kXyIyPq6n",
        "colab": {
          "base_uri": "https://localhost:8080/",
          "height": 564
        },
        "outputId": "34e8f15a-e1af-41bb-fa7a-6529ee8b17e9"
      },
      "outputs": [
        {
          "output_type": "display_data",
          "data": {
            "text/plain": [
              "<Figure size 720x576 with 1 Axes>"
            ],
            "image/png": "[encoded data removed]"
          },
          "metadata": {
            "needs_background": "light"
          }
        }
      ],
      "source": [
        "# Plot Meant importance\n",
        "plt.figure(figsize=(10,8))\n",
        "sns.barplot(\n",
        "    x= feature_importance_col,\n",
        "    y= feature_importance\n",
        ")\n",
        "plt.axhline(np.mean(feature_importance), color='k', linestyle=\"--\",\n",
        "            alpha=0.5, label=\"Mean Importance\")\n",
        "plt.xticks(rotation=90)\n",
        "plt.legend()\n",
        "plt.show()"
      ]
    },
    {
      "cell_type": "code",
      "source": [],
      "metadata": {
        "id": "0KPi4Bwnw0ZB"
      },
      "execution_count": 79,
      "outputs": []
    },
    {
      "cell_type": "code",
      "source": [
        "# New Features after feature selction has been conducted.\n",
        "Target_variable= ['stroke']\n",
        "\n",
        "features2= ['age','avg_glucose_level', 'bmi']\n",
        "\n",
        "X2= df[features2].values.reshape(-1, 3)\n",
        "\n",
        "y2= df['stroke']\n",
        "\n",
        "print(X2.shape)\n",
        "print(y.shape)\n"
      ],
      "metadata": {
        "id": "M34wCbJZzm1_",
        "colab": {
          "base_uri": "https://localhost:8080/"
        },
        "outputId": "0347a25a-a6c3-40a0-af49-ccda20400330"
      },
      "execution_count": 80,
      "outputs": [
        {
          "output_type": "stream",
          "name": "stdout",
          "text": [
            "(4293, 3)\n",
            "(4293,)\n"
          ]
        }
      ]
    },
    {
      "cell_type": "code",
      "source": [
        "# Test and split \n",
        "X_train2, X_test2, y_train2, y_test2 = train_test_split(\n",
        "    X2,\n",
        "    y2,\n",
        "    test_size= 0.3,\n",
        "    random_state=0)\n",
        "\n",
        "X_train2.shape, X_test2.shape"
      ],
      "metadata": {
        "id": "8pg5BOXw0ZKf",
        "colab": {
          "base_uri": "https://localhost:8080/"
        },
        "outputId": "1a4ff7b5-7b93-471a-f34a-d345b498f6a8"
      },
      "execution_count": 81,
      "outputs": [
        {
          "output_type": "execute_result",
          "data": {
            "text/plain": [
              "((3005, 3), (1288, 3))"
            ]
          },
          "metadata": {},
          "execution_count": 81
        }
      ]
    },
    {
      "cell_type": "code",
      "source": [
        "# Resampling of new features selected\n",
        "os= RandomOverSampler(random_state= 42)\n",
        "X_train_res2, y_train_res2 = os.fit_resample(X2,y2)\n",
        "\n",
        "print('Orignal dataset shape {}'.format(Counter(y2)))\n",
        "print('Resampled dataset shape {}'.format(Counter(y_train_res2)))"
      ],
      "metadata": {
        "id": "HdexHmnE0phD",
        "colab": {
          "base_uri": "https://localhost:8080/"
        },
        "outputId": "4f64a724-403a-40e1-ba03-809fcfce0812"
      },
      "execution_count": 82,
      "outputs": [
        {
          "output_type": "stream",
          "name": "stdout",
          "text": [
            "Orignal dataset shape Counter({0.0: 4056, 1.0: 237})\n",
            "Resampled dataset shape Counter({1.0: 4056, 0.0: 4056})\n"
          ]
        }
      ]
    },
    {
      "cell_type": "markdown",
      "source": [
        "### Running Logistic Regression Model"
      ],
      "metadata": {
        "id": "y5dOZrl61FJH"
      }
    },
    {
      "cell_type": "markdown",
      "source": [
        "**first Model- no Synthetic Minority Over-Sampling Technique and Tomek links applied or features removed**"
      ],
      "metadata": {
        "id": "CNsX7zuz4jAh"
      }
    },
    {
      "cell_type": "code",
      "source": [
        "# Training the model- No Resampling \n",
        "logR1= LogisticRegression(multi_class='auto', solver='lbfgs',max_iter=200)\n",
        "\n",
        "model_fit1= logR1.fit(X_train, y_train)"
      ],
      "metadata": {
        "id": "vGoBipgE1vk2",
        "colab": {
          "base_uri": "https://localhost:8080/"
        },
        "outputId": "c39d4583-443e-4f40-e2b2-f5197d9b38f0"
      },
      "execution_count": 83,
      "outputs": [
        {
          "output_type": "stream",
          "name": "stderr",
          "text": [
            "/usr/local/lib/python3.8/dist-packages/sklearn/linear_model/_logistic.py:814: ConvergenceWarning: lbfgs failed to converge (status=1):\n",
            "STOP: TOTAL NO. of ITERATIONS REACHED LIMIT.\n",
            "\n",
            "Increase the number of iterations (max_iter) or scale the data as shown in:\n",
            "    https://scikit-learn.org/stable/modules/preprocessing.html\n",
            "Please also refer to the documentation for alternative solver options:\n",
            "    https://scikit-learn.org/stable/modules/linear_model.html#logistic-regression\n",
            "  n_iter_i = _check_optimize_result(\n"
          ]
        }
      ]
    },
    {
      "cell_type": "code",
      "source": [
        "# predict- predict class labels for samples in x\n",
        "logR1.predict(X_train)\n",
        "y_pred1= logR1.predict(X_train)"
      ],
      "metadata": {
        "id": "c-ysTmPH4XH2"
      },
      "execution_count": 84,
      "outputs": []
    },
    {
      "cell_type": "code",
      "source": [
        "print('first Model- no resampling or features removed')\n",
        "# Accuracy on the Trained data\n",
        "print('Training Accuracy Score:', logR1.score(X_train,y_train))\n",
        "\n",
        "# Accuracy on the Test data\n",
        "print('Testing Accuracy Score:', logR1.score(X_test,y_test))\n",
        "\n",
        "# Classification Report\n",
        "print(classification_report(y_train, y_pred1))"
      ],
      "metadata": {
        "id": "Bna0KHMu5FE0",
        "colab": {
          "base_uri": "https://localhost:8080/"
        },
        "outputId": "a5e5dee4-fea2-4274-f2bd-4eb987dc3bfc"
      },
      "execution_count": 85,
      "outputs": [
        {
          "output_type": "stream",
          "name": "stdout",
          "text": [
            "first Model- no resampling or features removed\n",
            "Training Accuracy Score: 0.9620632279534109\n",
            "Testing Accuracy Score: 0.9611801242236024\n",
            "              precision    recall  f1-score   support\n",
            "\n",
            "         0.0       0.96      1.00      0.98      2842\n",
            "         1.0       0.95      0.32      0.48       163\n",
            "\n",
            "    accuracy                           0.96      3005\n",
            "   macro avg       0.95      0.66      0.73      3005\n",
            "weighted avg       0.96      0.96      0.95      3005\n",
            "\n"
          ]
        }
      ]
    },
    {
      "cell_type": "markdown",
      "source": [
        "**Second Model- Synthetic Minority Over-Sampling Technique and Tomek links applied but no features selection conducted**"
      ],
      "metadata": {
        "id": "57Dsw7aQ4y7h"
      }
    },
    {
      "cell_type": "code",
      "source": [
        "# Training the model- Overresampling but no features selction conducted\n",
        "logR2= LogisticRegression(multi_class='auto', solver='lbfgs',max_iter=200)\n",
        "\n",
        "model_fit2= logR2.fit(X_train_res,y_train_res)"
      ],
      "metadata": {
        "id": "dxMtOjaa3C_5",
        "colab": {
          "base_uri": "https://localhost:8080/"
        },
        "outputId": "74532eac-6afa-41b2-a1b9-a3fbad259183"
      },
      "execution_count": 86,
      "outputs": [
        {
          "output_type": "stream",
          "name": "stderr",
          "text": [
            "/usr/local/lib/python3.8/dist-packages/sklearn/linear_model/_logistic.py:814: ConvergenceWarning: lbfgs failed to converge (status=1):\n",
            "STOP: TOTAL NO. of ITERATIONS REACHED LIMIT.\n",
            "\n",
            "Increase the number of iterations (max_iter) or scale the data as shown in:\n",
            "    https://scikit-learn.org/stable/modules/preprocessing.html\n",
            "Please also refer to the documentation for alternative solver options:\n",
            "    https://scikit-learn.org/stable/modules/linear_model.html#logistic-regression\n",
            "  n_iter_i = _check_optimize_result(\n"
          ]
        }
      ]
    },
    {
      "cell_type": "code",
      "source": [
        "# predict- predict class labels for samples in x\n",
        "logR2.predict(X_train_res)\n",
        "y_pred2= logR2.predict(X_train_res)\n"
      ],
      "metadata": {
        "id": "KIcJfZYT5Wdx"
      },
      "execution_count": 87,
      "outputs": []
    },
    {
      "cell_type": "code",
      "source": [
        "print('Second Model- Overresampling but no features removed')\n",
        "\n",
        "# Accuracy on the Trained data\n",
        "print('Training Accuracy Score:', logR2.score(X_train_res,y_train_res))\n",
        "\n",
        "# Accuracy on the Test data\n",
        "print('Testing Accuracy Score:', logR2.score(X_test,y_test))\n",
        "\n",
        "# Classification Report\n",
        "print(classification_report(y_train_res, y_pred2))"
      ],
      "metadata": {
        "id": "8W3uNxBl5ZOz",
        "colab": {
          "base_uri": "https://localhost:8080/"
        },
        "outputId": "b230b290-48eb-4aaa-97b9-5063e847187f"
      },
      "execution_count": 88,
      "outputs": [
        {
          "output_type": "stream",
          "name": "stdout",
          "text": [
            "Second Model- Overresampling but no features removed\n",
            "Training Accuracy Score: 0.8122534516765286\n",
            "Testing Accuracy Score: 0.7989130434782609\n",
            "              precision    recall  f1-score   support\n",
            "\n",
            "         0.0       0.82      0.80      0.81      4056\n",
            "         1.0       0.81      0.82      0.81      4056\n",
            "\n",
            "    accuracy                           0.81      8112\n",
            "   macro avg       0.81      0.81      0.81      8112\n",
            "weighted avg       0.81      0.81      0.81      8112\n",
            "\n"
          ]
        }
      ]
    },
    {
      "cell_type": "markdown",
      "source": [
        "**Third Model- Synthetic Minority Over-Sampling Technique and Tomek links applied + importance features selected**"
      ],
      "metadata": {
        "id": "3j5jCfVX5aYn"
      }
    },
    {
      "cell_type": "code",
      "source": [
        "X_train2, X_test2, y_train2, y_test2 = train_test_split(\n",
        "    X2,\n",
        "    y2,\n",
        "    test_size= 0.3,\n",
        "    random_state=0)\n",
        "\n",
        "X_train2.shape, X_test2.shape"
      ],
      "metadata": {
        "id": "8BhYeBB_-DIG",
        "colab": {
          "base_uri": "https://localhost:8080/"
        },
        "outputId": "fbafdedb-68df-47c1-ca60-b72fc3ac6d0a"
      },
      "execution_count": 89,
      "outputs": [
        {
          "output_type": "execute_result",
          "data": {
            "text/plain": [
              "((3005, 3), (1288, 3))"
            ]
          },
          "metadata": {},
          "execution_count": 89
        }
      ]
    },
    {
      "cell_type": "code",
      "source": [
        "# Training the model- Oversampling + importance features selected\n",
        "logR3= LogisticRegression(multi_class='auto', solver='lbfgs',max_iter=200)\n",
        "\n",
        "model_fit3= logR3.fit(X_train_res2, y_train_res2)"
      ],
      "metadata": {
        "id": "hGXKds4V3T3T"
      },
      "execution_count": 90,
      "outputs": []
    },
    {
      "cell_type": "code",
      "source": [
        "# predict- predict class labels for samples in x\n",
        "logR3.predict(X_train_res2)\n",
        "y_pred3= logR3.predict(X_train_res2)\n"
      ],
      "metadata": {
        "id": "Xq7urlEq5lsV"
      },
      "execution_count": 91,
      "outputs": []
    },
    {
      "cell_type": "code",
      "source": [
        "print('Third Model- Oversampling conducted + only important features selected')\n",
        "\n",
        "# Accuracy on the Trained data\n",
        "print('Training Accuracy Score:', logR3.score(X_train_res2,y_train_res2))\n",
        "\n",
        "# Accuracy on the Test data\n",
        "print('Testing Accuracy Score:', logR3.score(X_test2,y_test2))\n",
        "\n",
        "# Classification Report\n",
        "print(classification_report(y_train_res2, y_pred3))"
      ],
      "metadata": {
        "id": "lb8WJ3Yj4fib",
        "colab": {
          "base_uri": "https://localhost:8080/"
        },
        "outputId": "faa6bfd7-b4ec-4f3a-dae2-51b1e8be99c0"
      },
      "execution_count": 92,
      "outputs": [
        {
          "output_type": "stream",
          "name": "stdout",
          "text": [
            "Third Model- Oversampling conducted + only important features selected\n",
            "Training Accuracy Score: 0.806336291913215\n",
            "Testing Accuracy Score: 0.8004658385093167\n",
            "              precision    recall  f1-score   support\n",
            "\n",
            "         0.0       0.81      0.80      0.80      4056\n",
            "         1.0       0.80      0.82      0.81      4056\n",
            "\n",
            "    accuracy                           0.81      8112\n",
            "   macro avg       0.81      0.81      0.81      8112\n",
            "weighted avg       0.81      0.81      0.81      8112\n",
            "\n"
          ]
        }
      ]
    }
  ],
  "metadata": {
    "colab": {
      "provenance": [],
      "authorship_tag": "ABX9TyOUQmzXpfs5T2J/KbG88C0J",
      "include_colab_link": true
    },
    "kernelspec": {
      "display_name": "Python 3",
      "name": "python3"
    },
    "language_info": {
      "name": "python"
    }
  },
  "nbformat": 4,
  "nbformat_minor": 0
}