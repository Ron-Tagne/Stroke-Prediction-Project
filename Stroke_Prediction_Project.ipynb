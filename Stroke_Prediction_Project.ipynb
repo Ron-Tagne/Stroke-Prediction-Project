{
  "cells": [
    {
      "cell_type": "markdown",
      "metadata": {
        "id": "view-in-github",
        "colab_type": "text"
      },
      "source": [
        "<a href=\"https://colab.research.google.com/github/Ron-Tagne/Stroke-Prediction-Project/blob/main/Stroke_Prediction_Project.ipynb\" target=\"_parent\"><img src=\"https://colab.research.google.com/assets/colab-badge.svg\" alt=\"Open In Colab\"/></a>"
      ]
    },
    {
      "cell_type": "code",
      "execution_count": 1,
      "metadata": {
        "id": "IbIgBmlUkhQG"
      },
      "outputs": [],
      "source": [
        "from google.colab import drive"
      ]
    },
    {
      "cell_type": "code",
      "execution_count": 2,
      "metadata": {
        "colab": {
          "base_uri": "https://localhost:8080/"
        },
        "id": "W_bN6YJVkp2L",
        "outputId": "12cf6302-7a8e-4c93-90ba-e724f3c58404"
      },
      "outputs": [
        {
          "output_type": "stream",
          "name": "stdout",
          "text": [
            "Mounted at /content/drive\n"
          ]
        }
      ],
      "source": [
        "drive.mount('/content/drive')"
      ]
    },
    {
      "cell_type": "code",
      "execution_count": 3,
      "metadata": {
        "id": "bmOckOSEkstS"
      },
      "outputs": [],
      "source": [
        "#common\n",
        "import pandas as pd\n",
        "import numpy as np\n",
        "import matplotlib.pyplot as plt\n",
        "import seaborn as sns\n",
        "\n",
        "# Machinelearning\n",
        "from sklearn.model_selection import train_test_split\n",
        "from imblearn.combine import SMOTETomek #To resample imbalanced target feature\n",
        "from sklearn.tree import DecisionTreeClassifier\n",
        "from sklearn.metrics import classification_report\n",
        "from sklearn.metrics import accuracy_score\n",
        "from sklearn.metrics import confusion_matrix\n",
        "from sklearn.linear_model import LogisticRegression\n",
        "from sklearn.metrics import f1_score,  recall_score, precision_score, plot_roc_curve, roc_curve, roc_auc_score"
      ]
    },
    {
      "cell_type": "code",
      "execution_count": 4,
      "metadata": {
        "id": "Kyy5cjkql7A_"
      },
      "outputs": [],
      "source": [
        "# Loading the dataset\n",
        "df= pd.read_csv('/content/drive/MyDrive/Data Science (1)/Projects/EDs + Data Cleaning/Stroke Prediction Dataset/healthcare-dataset-stroke-data.csv',\n",
        "                index_col= 'id')\n"
      ]
    },
    {
      "cell_type": "code",
      "execution_count": 5,
      "metadata": {
        "colab": {
          "base_uri": "https://localhost:8080/"
        },
        "id": "BAmrIrgNmC2m",
        "outputId": "e74c771e-a1c2-498e-e2d8-6d13b39122af"
      },
      "outputs": [
        {
          "output_type": "stream",
          "name": "stdout",
          "text": [
            "<class 'pandas.core.frame.DataFrame'>\n",
            "Int64Index: 5110 entries, 9046 to 44679\n",
            "Data columns (total 11 columns):\n",
            " #   Column             Non-Null Count  Dtype  \n",
            "---  ------             --------------  -----  \n",
            " 0   gender             5110 non-null   object \n",
            " 1   age                5110 non-null   float64\n",
            " 2   hypertension       5110 non-null   int64  \n",
            " 3   heart_disease      5110 non-null   int64  \n",
            " 4   ever_married       5110 non-null   object \n",
            " 5   work_type          5110 non-null   object \n",
            " 6   Residence_type     5110 non-null   object \n",
            " 7   avg_glucose_level  5110 non-null   float64\n",
            " 8   bmi                4909 non-null   float64\n",
            " 9   smoking_status     5110 non-null   object \n",
            " 10  stroke             5110 non-null   int64  \n",
            "dtypes: float64(3), int64(3), object(5)\n",
            "memory usage: 479.1+ KB\n"
          ]
        }
      ],
      "source": [
        "df.info()"
      ]
    },
    {
      "cell_type": "code",
      "execution_count": 6,
      "metadata": {
        "colab": {
          "base_uri": "https://localhost:8080/"
        },
        "id": "MPrXHNXcpqLv",
        "outputId": "c7c71834-1ca1-4bc6-9bde-78ffef538935"
      },
      "outputs": [
        {
          "output_type": "execute_result",
          "data": {
            "text/plain": [
              "Index(['gender', 'age', 'hypertension', 'heart_disease', 'ever_married',\n",
              "       'work_type', 'Residence_type', 'avg_glucose_level', 'bmi',\n",
              "       'smoking_status', 'stroke'],\n",
              "      dtype='object')"
            ]
          },
          "metadata": {},
          "execution_count": 6
        }
      ],
      "source": [
        "df.columns"
      ]
    },
    {
      "cell_type": "code",
      "execution_count": 7,
      "metadata": {
        "id": "KDeSYRSlpc5E"
      },
      "outputs": [],
      "source": [
        "features_category= ['gender','hypertension', 'heart_disease', 'ever_married',\n",
        "                    'work_type', 'Residence_type','smoking_status']\n",
        "\n",
        "features_continous= ['age','avg_glucose_level','bmi']\n",
        "\n",
        "Target_variable= ['stroke']\n",
        "\n",
        "features= ['gender','hypertension', 'heart_disease', 'ever_married',\n",
        "           'work_type', 'Residence_type','smoking_status','age',\n",
        "           'avg_glucose_level','bmi']\n",
        "\n"
      ]
    },
    {
      "cell_type": "code",
      "execution_count": 8,
      "metadata": {
        "colab": {
          "base_uri": "https://localhost:8080/"
        },
        "id": "KQIo9Pj-OvAP",
        "outputId": "4b8638a8-3888-4b9e-bfe1-15e6332840ec"
      },
      "outputs": [
        {
          "output_type": "execute_result",
          "data": {
            "text/plain": [
              "0    4861\n",
              "1     249\n",
              "Name: stroke, dtype: int64"
            ]
          },
          "metadata": {},
          "execution_count": 8
        }
      ],
      "source": [
        "df['stroke'].value_counts()"
      ]
    },
    {
      "cell_type": "code",
      "execution_count": 9,
      "metadata": {
        "colab": {
          "base_uri": "https://localhost:8080/"
        },
        "id": "E-0BUqzosceW",
        "outputId": "1ee21e9d-db20-415f-f83f-f55f44771c0a"
      },
      "outputs": [
        {
          "output_type": "stream",
          "name": "stdout",
          "text": [
            "Female    2994\n",
            "Male      2115\n",
            "Other        1\n",
            "Name: gender, dtype: int64\n",
            "0    4612\n",
            "1     498\n",
            "Name: hypertension, dtype: int64\n"
          ]
        }
      ],
      "source": [
        "print(df['gender'].value_counts())\n",
        "\n",
        "print(df['hypertension'].value_counts())\n"
      ]
    },
    {
      "cell_type": "code",
      "execution_count": 10,
      "metadata": {
        "colab": {
          "base_uri": "https://localhost:8080/",
          "height": 1000
        },
        "id": "PdSjgc-8qDfB",
        "outputId": "41c0a8ce-23e2-46d0-fe70-18454a3ce7e2"
      },
      "outputs": [
        {
          "output_type": "display_data",
          "data": {
            "text/plain": [
              "<Figure size 432x288 with 1 Axes>"
            ],
            "image/png": "[encoded data removed]"
          },
          "metadata": {
            "needs_background": "light"
          }
        },
        {
          "output_type": "display_data",
          "data": {
            "text/plain": [
              "<Figure size 432x288 with 1 Axes>"
            ],
            "image/png": "[encoded data removed]"
          },
          "metadata": {
            "needs_background": "light"
          }
        },
        {
          "output_type": "display_data",
          "data": {
            "text/plain": [
              "<Figure size 432x288 with 1 Axes>"
            ],
            "image/png": "[encoded data removed]"
          },
          "metadata": {
            "needs_background": "light"
          }
        },
        {
          "output_type": "display_data",
          "data": {
            "text/plain": [
              "<Figure size 432x288 with 1 Axes>"
            ],
            "image/png": "[encoded data removed]"
          },
          "metadata": {
            "needs_background": "light"
          }
        },
        {
          "output_type": "display_data",
          "data": {
            "text/plain": [
              "<Figure size 432x288 with 1 Axes>"
            ],
            "image/png": "[encoded data removed]"
          },
          "metadata": {
            "needs_background": "light"
          }
        },
        {
          "output_type": "display_data",
          "data": {
            "text/plain": [
              "<Figure size 432x288 with 1 Axes>"
            ],
            "image/png": "[encoded data removed]"
          },
          "metadata": {
            "needs_background": "light"
          }
        },
        {
          "output_type": "display_data",
          "data": {
            "text/plain": [
              "<Figure size 432x288 with 1 Axes>"
            ],
            "image/png": "[encoded data removed]"
          },
          "metadata": {
            "needs_background": "light"
          }
        }
      ],
      "source": [
        "for features in features_category:\n",
        "  sns.countplot(data=df, x=features, palette=\"viridis\")\n",
        "  plt.show()"
      ]
    },
    {
      "cell_type": "code",
      "execution_count": 11,
      "metadata": {
        "colab": {
          "base_uri": "https://localhost:8080/",
          "height": 1000
        },
        "id": "Ikmm4pRyrPD9",
        "outputId": "4a90ca2f-b61a-431e-b64c-9ab31041c758"
      },
      "outputs": [
        {
          "output_type": "display_data",
          "data": {
            "text/plain": [
              "<Figure size 360x360 with 1 Axes>"
            ],
            "image/png": "[encoded data removed]"
          },
          "metadata": {
            "needs_background": "light"
          }
        },
        {
          "output_type": "display_data",
          "data": {
            "text/plain": [
              "<Figure size 360x360 with 1 Axes>"
            ],
            "image/png": "[encoded data removed]"
          },
          "metadata": {
            "needs_background": "light"
          }
        },
        {
          "output_type": "display_data",
          "data": {
            "text/plain": [
              "<Figure size 360x360 with 1 Axes>"
            ],
            "image/png": "[encoded data removed]"
          },
          "metadata": {
            "needs_background": "light"
          }
        }
      ],
      "source": [
        "for features in features_continous:\n",
        "  sns.displot(data=df, x=features, palette=\"viridis\")\n",
        "  plt.xticks(rotation= 45)\n",
        "  plt.show()"
      ]
    },
    {
      "cell_type": "markdown",
      "metadata": {
        "id": "YSjWT0l0vaxg"
      },
      "source": [
        "## ***Data Cleaning*** "
      ]
    },
    {
      "cell_type": "markdown",
      "metadata": {
        "id": "9Ab2ucxEv5oB"
      },
      "source": [
        "- Removing duplicates/ missing values"
      ]
    },
    {
      "cell_type": "code",
      "execution_count": 12,
      "metadata": {
        "colab": {
          "base_uri": "https://localhost:8080/",
          "height": 238
        },
        "id": "_uzntQdswBDb",
        "outputId": "cd297e9a-1b18-45c4-9b35-32e219f5ed3b"
      },
      "outputs": [
        {
          "output_type": "execute_result",
          "data": {
            "text/plain": [
              "       gender   age  hypertension  heart_disease ever_married work_type  \\\n",
              "id                                                                        \n",
              "545      Male  42.0             0              0          Yes   Private   \n",
              "41097  Female  23.0             1              0           No   Private   \n",
              "37759  Female  53.0             0              0          Yes   Private   \n",
              "56420    Male  17.0             1              0           No   Private   \n",
              "51856    Male  38.0             1              0          Yes   Private   \n",
              "\n",
              "      Residence_type  avg_glucose_level   bmi smoking_status  stroke  \n",
              "id                                                                    \n",
              "545            Rural             210.48  71.9   never smoked       0  \n",
              "41097          Urban              70.03  78.0         smokes       0  \n",
              "37759          Rural              72.63  66.8        Unknown       0  \n",
              "56420          Rural              61.67  97.6        Unknown       0  \n",
              "51856          Rural              56.90  92.0   never smoked       0  "
            ],
            "text/html": [
              "\n",
              "  <div id=\"df-6f879dcf-47ef-423f-94f2-44805ba93341\">\n",
              "    <div class=\"colab-df-container\">\n",
              "      <div>\n",
              "<style scoped>\n",
              "    .dataframe tbody tr th:only-of-type {\n",
              "        vertical-align: middle;\n",
              "    }\n",
              "\n",
              "    .dataframe tbody tr th {\n",
              "        vertical-align: top;\n",
              "    }\n",
              "\n",
              "    .dataframe thead th {\n",
              "        text-align: right;\n",
              "    }\n",
              "</style>\n",
              "<table border=\"1\" class=\"dataframe\">\n",
              "  <thead>\n",
              "    <tr style=\"text-align: right;\">\n",
              "      <th></th>\n",
              "      <th>gender</th>\n",
              "      <th>age</th>\n",
              "      <th>hypertension</th>\n",
              "      <th>heart_disease</th>\n",
              "      <th>ever_married</th>\n",
              "      <th>work_type</th>\n",
              "      <th>Residence_type</th>\n",
              "      <th>avg_glucose_level</th>\n",
              "      <th>bmi</th>\n",
              "      <th>smoking_status</th>\n",
              "      <th>stroke</th>\n",
              "    </tr>\n",
              "    <tr>\n",
              "      <th>id</th>\n",
              "      <th></th>\n",
              "      <th></th>\n",
              "      <th></th>\n",
              "      <th></th>\n",
              "      <th></th>\n",
              "      <th></th>\n",
              "      <th></th>\n",
              "      <th></th>\n",
              "      <th></th>\n",
              "      <th></th>\n",
              "      <th></th>\n",
              "    </tr>\n",
              "  </thead>\n",
              "  <tbody>\n",
              "    <tr>\n",
              "      <th>545</th>\n",
              "      <td>Male</td>\n",
              "      <td>42.0</td>\n",
              "      <td>0</td>\n",
              "      <td>0</td>\n",
              "      <td>Yes</td>\n",
              "      <td>Private</td>\n",
              "      <td>Rural</td>\n",
              "      <td>210.48</td>\n",
              "      <td>71.9</td>\n",
              "      <td>never smoked</td>\n",
              "      <td>0</td>\n",
              "    </tr>\n",
              "    <tr>\n",
              "      <th>41097</th>\n",
              "      <td>Female</td>\n",
              "      <td>23.0</td>\n",
              "      <td>1</td>\n",
              "      <td>0</td>\n",
              "      <td>No</td>\n",
              "      <td>Private</td>\n",
              "      <td>Urban</td>\n",
              "      <td>70.03</td>\n",
              "      <td>78.0</td>\n",
              "      <td>smokes</td>\n",
              "      <td>0</td>\n",
              "    </tr>\n",
              "    <tr>\n",
              "      <th>37759</th>\n",
              "      <td>Female</td>\n",
              "      <td>53.0</td>\n",
              "      <td>0</td>\n",
              "      <td>0</td>\n",
              "      <td>Yes</td>\n",
              "      <td>Private</td>\n",
              "      <td>Rural</td>\n",
              "      <td>72.63</td>\n",
              "      <td>66.8</td>\n",
              "      <td>Unknown</td>\n",
              "      <td>0</td>\n",
              "    </tr>\n",
              "    <tr>\n",
              "      <th>56420</th>\n",
              "      <td>Male</td>\n",
              "      <td>17.0</td>\n",
              "      <td>1</td>\n",
              "      <td>0</td>\n",
              "      <td>No</td>\n",
              "      <td>Private</td>\n",
              "      <td>Rural</td>\n",
              "      <td>61.67</td>\n",
              "      <td>97.6</td>\n",
              "      <td>Unknown</td>\n",
              "      <td>0</td>\n",
              "    </tr>\n",
              "    <tr>\n",
              "      <th>51856</th>\n",
              "      <td>Male</td>\n",
              "      <td>38.0</td>\n",
              "      <td>1</td>\n",
              "      <td>0</td>\n",
              "      <td>Yes</td>\n",
              "      <td>Private</td>\n",
              "      <td>Rural</td>\n",
              "      <td>56.90</td>\n",
              "      <td>92.0</td>\n",
              "      <td>never smoked</td>\n",
              "      <td>0</td>\n",
              "    </tr>\n",
              "  </tbody>\n",
              "</table>\n",
              "</div>\n",
              "      <button class=\"colab-df-convert\" onclick=\"convertToInteractive('df-6f879dcf-47ef-423f-94f2-44805ba93341')\"\n",
              "              title=\"Convert this dataframe to an interactive table.\"\n",
              "              style=\"display:none;\">\n",
              "        \n",
              "  <svg xmlns=\"http://www.w3.org/2000/svg\" height=\"24px\"viewBox=\"0 0 24 24\"\n",
              "       width=\"24px\">\n",
              "    <path d=\"M0 0h24v24H0V0z\" fill=\"none\"/>\n",
              "    <path d=\"M18.56 5.44l.94 2.06.94-2.06 2.06-.94-2.06-.94-.94-2.06-.94 2.06-2.06.94zm-11 1L8.5 8.5l.94-2.06 2.06-.94-2.06-.94L8.5 2.5l-.94 2.06-2.06.94zm10 10l.94 2.06.94-2.06 2.06-.94-2.06-.94-.94-2.06-.94 2.06-2.06.94z\"/><path d=\"M17.41 7.96l-1.37-1.37c-.4-.4-.92-.59-1.43-.59-.52 0-1.04.2-1.43.59L10.3 9.45l-7.72 7.72c-.78.78-.78 2.05 0 2.83L4 21.41c.39.39.9.59 1.41.59.51 0 1.02-.2 1.41-.59l7.78-7.78 2.81-2.81c.8-.78.8-2.07 0-2.86zM5.41 20L4 18.59l7.72-7.72 1.47 1.35L5.41 20z\"/>\n",
              "  </svg>\n",
              "      </button>\n",
              "      \n",
              "  <style>\n",
              "    .colab-df-container {\n",
              "      display:flex;\n",
              "      flex-wrap:wrap;\n",
              "      gap: 12px;\n",
              "    }\n",
              "\n",
              "    .colab-df-convert {\n",
              "      background-color: #E8F0FE;\n",
              "      border: none;\n",
              "      border-radius: 50%;\n",
              "      cursor: pointer;\n",
              "      display: none;\n",
              "      fill: #1967D2;\n",
              "      height: 32px;\n",
              "      padding: 0 0 0 0;\n",
              "      width: 32px;\n",
              "    }\n",
              "\n",
              "    .colab-df-convert:hover {\n",
              "      background-color: #E2EBFA;\n",
              "      box-shadow: 0px 1px 2px rgba(60, 64, 67, 0.3), 0px 1px 3px 1px rgba(60, 64, 67, 0.15);\n",
              "      fill: #174EA6;\n",
              "    }\n",
              "\n",
              "    [theme=dark] .colab-df-convert {\n",
              "      background-color: #3B4455;\n",
              "      fill: #D2E3FC;\n",
              "    }\n",
              "\n",
              "    [theme=dark] .colab-df-convert:hover {\n",
              "      background-color: #434B5C;\n",
              "      box-shadow: 0px 1px 3px 1px rgba(0, 0, 0, 0.15);\n",
              "      filter: drop-shadow(0px 1px 2px rgba(0, 0, 0, 0.3));\n",
              "      fill: #FFFFFF;\n",
              "    }\n",
              "  </style>\n",
              "\n",
              "      <script>\n",
              "        const buttonEl =\n",
              "          document.querySelector('#df-6f879dcf-47ef-423f-94f2-44805ba93341 button.colab-df-convert');\n",
              "        buttonEl.style.display =\n",
              "          google.colab.kernel.accessAllowed ? 'block' : 'none';\n",
              "\n",
              "        async function convertToInteractive(key) {\n",
              "          const element = document.querySelector('#df-6f879dcf-47ef-423f-94f2-44805ba93341');\n",
              "          const dataTable =\n",
              "            await google.colab.kernel.invokeFunction('convertToInteractive',\n",
              "                                                     [key], {});\n",
              "          if (!dataTable) return;\n",
              "\n",
              "          const docLinkHtml = 'Like what you see? Visit the ' +\n",
              "            '<a target=\"_blank\" href=https://colab.research.google.com/notebooks/data_table.ipynb>data table notebook</a>'\n",
              "            + ' to learn more about interactive tables.';\n",
              "          element.innerHTML = '';\n",
              "          dataTable['output_type'] = 'display_data';\n",
              "          await google.colab.output.renderOutput(dataTable, element);\n",
              "          const docLink = document.createElement('div');\n",
              "          docLink.innerHTML = docLinkHtml;\n",
              "          element.appendChild(docLink);\n",
              "        }\n",
              "      </script>\n",
              "    </div>\n",
              "  </div>\n",
              "  "
            ]
          },
          "metadata": {},
          "execution_count": 12
        }
      ],
      "source": [
        "# observed how many null values were in the bmi\n",
        "df.loc[df['bmi']> 65]"
      ]
    },
    {
      "cell_type": "code",
      "execution_count": 13,
      "metadata": {
        "id": "hr3hHHM7zoxr"
      },
      "outputs": [],
      "source": [
        "# deleted outliers in bmi\n",
        "df.drop( df[df['bmi']> 65].index, inplace= True)"
      ]
    },
    {
      "cell_type": "code",
      "execution_count": 14,
      "metadata": {
        "colab": {
          "base_uri": "https://localhost:8080/"
        },
        "id": "VxF13j6CwdEw",
        "outputId": "a0ae8ec6-b8b2-44f3-fb68-b445cde7dc70"
      },
      "outputs": [
        {
          "output_type": "execute_result",
          "data": {
            "text/plain": [
              "gender                 0\n",
              "age                    0\n",
              "hypertension           0\n",
              "heart_disease          0\n",
              "ever_married           0\n",
              "work_type              0\n",
              "Residence_type         0\n",
              "avg_glucose_level      0\n",
              "bmi                  201\n",
              "smoking_status         0\n",
              "stroke                 0\n",
              "dtype: int64"
            ]
          },
          "metadata": {},
          "execution_count": 14
        }
      ],
      "source": [
        "df.isnull().sum()"
      ]
    },
    {
      "cell_type": "code",
      "execution_count": 15,
      "metadata": {
        "id": "u-vfN68YxKnn"
      },
      "outputs": [],
      "source": [
        "# To treat all missing data, \n",
        "# interpolation was performed since 201 (3.93%) of bmi data was missing.\n",
        "df.interpolate(inplace= True)"
      ]
    },
    {
      "cell_type": "code",
      "execution_count": 16,
      "metadata": {
        "colab": {
          "base_uri": "https://localhost:8080/"
        },
        "id": "p0fVJjqg5t2A",
        "outputId": "c7520af5-ae8c-4e3d-fb2f-f1764e1b17ff"
      },
      "outputs": [
        {
          "output_type": "execute_result",
          "data": {
            "text/plain": [
              "gender               0\n",
              "age                  0\n",
              "hypertension         0\n",
              "heart_disease        0\n",
              "ever_married         0\n",
              "work_type            0\n",
              "Residence_type       0\n",
              "avg_glucose_level    0\n",
              "bmi                  0\n",
              "smoking_status       0\n",
              "stroke               0\n",
              "dtype: int64"
            ]
          },
          "metadata": {},
          "execution_count": 16
        }
      ],
      "source": [
        "df.isnull().sum()"
      ]
    },
    {
      "cell_type": "code",
      "execution_count": 17,
      "metadata": {
        "colab": {
          "base_uri": "https://localhost:8080/"
        },
        "id": "D27geFvh53kv",
        "outputId": "1b2a362c-0074-4b69-f1e3-e93054a7e203"
      },
      "outputs": [
        {
          "output_type": "execute_result",
          "data": {
            "text/plain": [
              "0"
            ]
          },
          "metadata": {},
          "execution_count": 17
        }
      ],
      "source": [
        "# No duplicated data fields\n",
        "df.duplicated().sum()"
      ]
    },
    {
      "cell_type": "code",
      "execution_count": 18,
      "metadata": {
        "colab": {
          "base_uri": "https://localhost:8080/"
        },
        "id": "bsIzHBQe6LQd",
        "outputId": "691a2d5e-d98b-4c77-f516-431d29f16c1f"
      },
      "outputs": [
        {
          "output_type": "stream",
          "name": "stdout",
          "text": [
            "<class 'pandas.core.frame.DataFrame'>\n",
            "Int64Index: 5105 entries, 9046 to 44679\n",
            "Data columns (total 11 columns):\n",
            " #   Column             Non-Null Count  Dtype  \n",
            "---  ------             --------------  -----  \n",
            " 0   gender             5105 non-null   object \n",
            " 1   age                5105 non-null   float64\n",
            " 2   hypertension       5105 non-null   int64  \n",
            " 3   heart_disease      5105 non-null   int64  \n",
            " 4   ever_married       5105 non-null   object \n",
            " 5   work_type          5105 non-null   object \n",
            " 6   Residence_type     5105 non-null   object \n",
            " 7   avg_glucose_level  5105 non-null   float64\n",
            " 8   bmi                5105 non-null   float64\n",
            " 9   smoking_status     5105 non-null   object \n",
            " 10  stroke             5105 non-null   int64  \n",
            "dtypes: float64(3), int64(3), object(5)\n",
            "memory usage: 478.6+ KB\n"
          ]
        }
      ],
      "source": [
        "df.info()"
      ]
    },
    {
      "cell_type": "code",
      "execution_count": 19,
      "metadata": {
        "colab": {
          "base_uri": "https://localhost:8080/"
        },
        "id": "00fKMhkUBjB_",
        "outputId": "c9d7762c-159d-4e70-8712-92c98e25bded"
      },
      "outputs": [
        {
          "output_type": "execute_result",
          "data": {
            "text/plain": [
              "never smoked       1890\n",
              "Unknown            1542\n",
              "formerly smoked     885\n",
              "smokes              788\n",
              "Name: smoking_status, dtype: int64"
            ]
          },
          "metadata": {},
          "execution_count": 19
        }
      ],
      "source": [
        "df.smoking_status.value_counts()"
      ]
    },
    {
      "cell_type": "markdown",
      "metadata": {
        "id": "2K799MMP7zgq"
      },
      "source": [
        "## ***Data Visuals***"
      ]
    },
    {
      "cell_type": "code",
      "execution_count": 20,
      "metadata": {
        "id": "fvV4RlR5_uyr"
      },
      "outputs": [],
      "source": [
        "# replace strings with integers \n",
        "df.gender.replace( ['Female', 'Male', 'Other'], [0,1,2], inplace= True)\n",
        "df.ever_married.replace( ['No','Yes'], [0,1], inplace= True)\n",
        "df.work_type.replace( ['Private','Self-employed', 'children', 'Govt_job', 'Never_worked'], [0,1,2,3,4], inplace= True)\n",
        "df.Residence_type.replace( ['Rural','Urban'], [0,1], inplace= True)\n",
        "df.smoking_status.replace(['never smoked','Unknown','formerly smoked', 'smokes'], [0,1,2,3], inplace= True)\n",
        "df.hypertension.replace(['No','Yes'], [0,1],  inplace= True)\n",
        "df.heart_disease.replace( ['No','Yes'], [0,1], inplace= True)\n",
        "df.stroke.replace( ['No','Yes'], [0,1], inplace= True)"
      ]
    },
    {
      "cell_type": "code",
      "execution_count": 21,
      "metadata": {
        "colab": {
          "base_uri": "https://localhost:8080/"
        },
        "id": "qEtATj4gNbKU",
        "outputId": "19b316f5-6d68-4dbb-daff-115c5d65f2ad"
      },
      "outputs": [
        {
          "output_type": "stream",
          "name": "stdout",
          "text": [
            "<class 'pandas.core.frame.DataFrame'>\n",
            "Int64Index: 5105 entries, 9046 to 44679\n",
            "Data columns (total 11 columns):\n",
            " #   Column             Non-Null Count  Dtype  \n",
            "---  ------             --------------  -----  \n",
            " 0   gender             5105 non-null   float64\n",
            " 1   age                5105 non-null   float64\n",
            " 2   hypertension       5105 non-null   float64\n",
            " 3   heart_disease      5105 non-null   float64\n",
            " 4   ever_married       5105 non-null   float64\n",
            " 5   work_type          5105 non-null   float64\n",
            " 6   Residence_type     5105 non-null   float64\n",
            " 7   avg_glucose_level  5105 non-null   float64\n",
            " 8   bmi                5105 non-null   float64\n",
            " 9   smoking_status     5105 non-null   float64\n",
            " 10  stroke             5105 non-null   float64\n",
            "dtypes: float64(11)\n",
            "memory usage: 478.6 KB\n"
          ]
        }
      ],
      "source": [
        "# Change all datatypes to float\n",
        "df = df.astype(np.float64)\n",
        "df.info()"
      ]
    },
    {
      "cell_type": "code",
      "execution_count": 22,
      "metadata": {
        "colab": {
          "base_uri": "https://localhost:8080/"
        },
        "id": "MLx7ZgIhVZEI",
        "outputId": "68f05e00-71a9-4566-c26b-c43ae34e65c4"
      },
      "outputs": [
        {
          "output_type": "execute_result",
          "data": {
            "text/plain": [
              "0.0    2992\n",
              "1.0    2112\n",
              "2.0       1\n",
              "Name: gender, dtype: int64"
            ]
          },
          "metadata": {},
          "execution_count": 22
        }
      ],
      "source": [
        "df.gender.value_counts()"
      ]
    },
    {
      "cell_type": "code",
      "execution_count": 23,
      "metadata": {
        "colab": {
          "base_uri": "https://localhost:8080/",
          "height": 693
        },
        "id": "KSmNYQ1V8nXi",
        "outputId": "b198fc69-7010-4c98-beb9-67fd453d9c32"
      },
      "outputs": [
        {
          "output_type": "execute_result",
          "data": {
            "text/plain": [
              "<matplotlib.axes._subplots.AxesSubplot at 0x7fd19bb37370>"
            ]
          },
          "metadata": {},
          "execution_count": 23
        },
        {
          "output_type": "display_data",
          "data": {
            "text/plain": [
              "<Figure size 1080x720 with 2 Axes>"
            ],
            "image/png": "[encoded data removed]"
          },
          "metadata": {
            "needs_background": "light"
          }
        }
      ],
      "source": [
        "# corr\n",
        "corr =df.corr()\n",
        "\n",
        "# correlation heatmap\n",
        "plt.figure(figsize= (15,10))\n",
        "sns.heatmap(corr, \n",
        "        annot= True,\n",
        "        cmap= 'coolwarm', \n",
        "        xticklabels=corr.columns,\n",
        "        yticklabels=corr.columns)\n"
      ]
    },
    {
      "cell_type": "code",
      "execution_count": 24,
      "metadata": {
        "colab": {
          "base_uri": "https://localhost:8080/"
        },
        "id": "WVrdk_uWIt3G",
        "outputId": "84ac578f-50e2-43c6-c1cb-34a775f35513"
      },
      "outputs": [
        {
          "output_type": "execute_result",
          "data": {
            "text/plain": [
              "Index(['gender', 'age', 'hypertension', 'heart_disease', 'ever_married',\n",
              "       'work_type', 'Residence_type', 'avg_glucose_level', 'bmi',\n",
              "       'smoking_status', 'stroke'],\n",
              "      dtype='object')"
            ]
          },
          "metadata": {},
          "execution_count": 24
        }
      ],
      "source": [
        "df.columns"
      ]
    },
    {
      "cell_type": "markdown",
      "metadata": {
        "id": "H-J6WVxp82Mu"
      },
      "source": [
        "This correlation matrix shows that 'age', 'hypertension', 'heart_disease', 'ever_married' and 'avg_glucose_level' hasa stronger corrlation with the target variable 'stroke'. "
      ]
    },
    {
      "cell_type": "markdown",
      "metadata": {
        "id": "HypZ5buzJH9K"
      },
      "source": [
        "## Data Visualisation: \n",
        "\n",
        "### Univariate and Bivariate analysis"
      ]
    },
    {
      "cell_type": "markdown",
      "metadata": {
        "id": "9Px9oJIXJH6A"
      },
      "source": [
        "Age"
      ]
    },
    {
      "cell_type": "code",
      "execution_count": 24,
      "metadata": {
        "id": "T0dxHOdBFHy7"
      },
      "outputs": [],
      "source": []
    },
    {
      "cell_type": "code",
      "execution_count": 25,
      "metadata": {
        "colab": {
          "base_uri": "https://localhost:8080/",
          "height": 1000
        },
        "id": "mGvUT07fLxml",
        "outputId": "8b334a65-5dcb-4c60-95fa-aa88e0ecef95"
      },
      "outputs": [
        {
          "output_type": "display_data",
          "data": {
            "text/plain": [
              "<Figure size 432x288 with 1 Axes>"
            ],
            "image/png": "[encoded data removed]"
          },
          "metadata": {
            "needs_background": "light"
          }
        },
        {
          "output_type": "display_data",
          "data": {
            "text/plain": [
              "<Figure size 432x288 with 1 Axes>"
            ],
            "image/png": "[encoded data removed]"
          },
          "metadata": {
            "needs_background": "light"
          }
        },
        {
          "output_type": "display_data",
          "data": {
            "text/plain": [
              "<Figure size 432x288 with 1 Axes>"
            ],
            "image/png": "[encoded data removed]"
          },
          "metadata": {
            "needs_background": "light"
          }
        },
        {
          "output_type": "display_data",
          "data": {
            "text/plain": [
              "<Figure size 432x288 with 1 Axes>"
            ],
            "image/png": "[encoded data removed]"
          },
          "metadata": {
            "needs_background": "light"
          }
        },
        {
          "output_type": "display_data",
          "data": {
            "text/plain": [
              "<Figure size 432x288 with 1 Axes>"
            ],
            "image/png": "[encoded data removed]"
          },
          "metadata": {
            "needs_background": "light"
          }
        },
        {
          "output_type": "display_data",
          "data": {
            "text/plain": [
              "<Figure size 432x288 with 1 Axes>"
            ],
            "image/png": "[encoded data removed]"
          },
          "metadata": {
            "needs_background": "light"
          }
        },
        {
          "output_type": "display_data",
          "data": {
            "text/plain": [
              "<Figure size 432x288 with 1 Axes>"
            ],
            "image/png": "[encoded data removed]"
          },
          "metadata": {
            "needs_background": "light"
          }
        }
      ],
      "source": [
        "for features in features_category:\n",
        "  sns.barplot(data=df, x=features, y= 'stroke', palette=\"viridis\")\n",
        "  plt.show()"
      ]
    },
    {
      "cell_type": "code",
      "execution_count": 26,
      "metadata": {
        "colab": {
          "base_uri": "https://localhost:8080/",
          "height": 830
        },
        "id": "YjoZo_NLL4q3",
        "outputId": "507bb3d5-c722-43a3-dd17-3b3cca364bb6"
      },
      "outputs": [
        {
          "output_type": "display_data",
          "data": {
            "text/plain": [
              "<Figure size 432x288 with 1 Axes>"
            ],
            "image/png": "[encoded data removed]"
          },
          "metadata": {
            "needs_background": "light"
          }
        },
        {
          "output_type": "display_data",
          "data": {
            "text/plain": [
              "<Figure size 432x288 with 1 Axes>"
            ],
            "image/png": "[encoded data removed]"
          },
          "metadata": {
            "needs_background": "light"
          }
        },
        {
          "output_type": "display_data",
          "data": {
            "text/plain": [
              "<Figure size 432x288 with 1 Axes>"
            ],
            "image/png": "[encoded data removed]"
          },
          "metadata": {
            "needs_background": "light"
          }
        }
      ],
      "source": [
        "for features in features_continous:\n",
        "  sns.boxplot(data=df, x= 'stroke', y= features, palette=\"viridis\")\n",
        "  plt.xticks(rotation= 45)\n",
        "  plt.show()"
      ]
    },
    {
      "cell_type": "markdown",
      "metadata": {
        "id": "3DjN1jnSWCq4"
      },
      "source": [
        "'avg_glucose_level':\n",
        "\n",
        "Research has found that it is possible for a person to have an average glucose level above 175 mg/dL alothough it is conidered to be high. However for the puproses of finding a predicting a stroke under 'typical'circumstance, individuals that have a average glucose level greater than 150 and no stroke will be removed from the analysis\n",
        "\n",
        "'bmi':\n",
        "\n",
        "research has found a strong association between individuals who are overweight/ obese and stroke. Thus, fields where individuals with bmi greater than 50 and do not have stroke will be removed  greater than "
      ]
    },
    {
      "cell_type": "code",
      "execution_count": 27,
      "metadata": {
        "colab": {
          "base_uri": "https://localhost:8080/",
          "height": 455
        },
        "id": "TtE13YoPMFKG",
        "outputId": "beed9dd2-2fff-4f52-ac79-664975ac7d17"
      },
      "outputs": [
        {
          "output_type": "execute_result",
          "data": {
            "text/plain": [
              "       gender   age  hypertension  heart_disease  ever_married  work_type  \\\n",
              "id                                                                          \n",
              "32257     0.0  47.0           0.0            0.0           1.0        0.0   \n",
              "41413     0.0  75.0           0.0            1.0           1.0        1.0   \n",
              "28674     0.0  74.0           1.0            0.0           1.0        1.0   \n",
              "4057      1.0  71.0           0.0            0.0           1.0        0.0   \n",
              "36275     0.0  54.0           0.0            0.0           1.0        0.0   \n",
              "...       ...   ...           ...            ...           ...        ...   \n",
              "28788     1.0  40.0           0.0            0.0           1.0        0.0   \n",
              "38009     1.0  41.0           0.0            0.0           1.0        0.0   \n",
              "11184     0.0  82.0           0.0            0.0           1.0        1.0   \n",
              "68967     1.0  39.0           0.0            0.0           1.0        0.0   \n",
              "66684     1.0  70.0           0.0            0.0           1.0        1.0   \n",
              "\n",
              "       Residence_type  avg_glucose_level   bmi  smoking_status  stroke  \n",
              "id                                                                      \n",
              "32257             1.0             210.95  50.1             1.0     0.0  \n",
              "41413             0.0             243.53  27.0             0.0     0.0  \n",
              "28674             1.0             205.84  54.6             0.0     0.0  \n",
              "4057              1.0             198.21  27.3             2.0     0.0  \n",
              "36275             0.0             206.72  26.7             0.0     0.0  \n",
              "...               ...                ...   ...             ...     ...  \n",
              "28788             1.0             191.15  33.6             3.0     0.0  \n",
              "38009             1.0             223.78  32.3             0.0     0.0  \n",
              "11184             0.0             211.58  36.9             0.0     0.0  \n",
              "68967             1.0             179.38  27.7             1.0     0.0  \n",
              "66684             0.0             193.88  24.3             1.0     0.0  \n",
              "\n",
              "[521 rows x 11 columns]"
            ],
            "text/html": [
              "\n",
              "  <div id=\"df-544b3c92-ce5e-4ce2-8ea8-43df95e1293e\">\n",
              "    <div class=\"colab-df-container\">\n",
              "      <div>\n",
              "<style scoped>\n",
              "    .dataframe tbody tr th:only-of-type {\n",
              "        vertical-align: middle;\n",
              "    }\n",
              "\n",
              "    .dataframe tbody tr th {\n",
              "        vertical-align: top;\n",
              "    }\n",
              "\n",
              "    .dataframe thead th {\n",
              "        text-align: right;\n",
              "    }\n",
              "</style>\n",
              "<table border=\"1\" class=\"dataframe\">\n",
              "  <thead>\n",
              "    <tr style=\"text-align: right;\">\n",
              "      <th></th>\n",
              "      <th>gender</th>\n",
              "      <th>age</th>\n",
              "      <th>hypertension</th>\n",
              "      <th>heart_disease</th>\n",
              "      <th>ever_married</th>\n",
              "      <th>work_type</th>\n",
              "      <th>Residence_type</th>\n",
              "      <th>avg_glucose_level</th>\n",
              "      <th>bmi</th>\n",
              "      <th>smoking_status</th>\n",
              "      <th>stroke</th>\n",
              "    </tr>\n",
              "    <tr>\n",
              "      <th>id</th>\n",
              "      <th></th>\n",
              "      <th></th>\n",
              "      <th></th>\n",
              "      <th></th>\n",
              "      <th></th>\n",
              "      <th></th>\n",
              "      <th></th>\n",
              "      <th></th>\n",
              "      <th></th>\n",
              "      <th></th>\n",
              "      <th></th>\n",
              "    </tr>\n",
              "  </thead>\n",
              "  <tbody>\n",
              "    <tr>\n",
              "      <th>32257</th>\n",
              "      <td>0.0</td>\n",
              "      <td>47.0</td>\n",
              "      <td>0.0</td>\n",
              "      <td>0.0</td>\n",
              "      <td>1.0</td>\n",
              "      <td>0.0</td>\n",
              "      <td>1.0</td>\n",
              "      <td>210.95</td>\n",
              "      <td>50.1</td>\n",
              "      <td>1.0</td>\n",
              "      <td>0.0</td>\n",
              "    </tr>\n",
              "    <tr>\n",
              "      <th>41413</th>\n",
              "      <td>0.0</td>\n",
              "      <td>75.0</td>\n",
              "      <td>0.0</td>\n",
              "      <td>1.0</td>\n",
              "      <td>1.0</td>\n",
              "      <td>1.0</td>\n",
              "      <td>0.0</td>\n",
              "      <td>243.53</td>\n",
              "      <td>27.0</td>\n",
              "      <td>0.0</td>\n",
              "      <td>0.0</td>\n",
              "    </tr>\n",
              "    <tr>\n",
              "      <th>28674</th>\n",
              "      <td>0.0</td>\n",
              "      <td>74.0</td>\n",
              "      <td>1.0</td>\n",
              "      <td>0.0</td>\n",
              "      <td>1.0</td>\n",
              "      <td>1.0</td>\n",
              "      <td>1.0</td>\n",
              "      <td>205.84</td>\n",
              "      <td>54.6</td>\n",
              "      <td>0.0</td>\n",
              "      <td>0.0</td>\n",
              "    </tr>\n",
              "    <tr>\n",
              "      <th>4057</th>\n",
              "      <td>1.0</td>\n",
              "      <td>71.0</td>\n",
              "      <td>0.0</td>\n",
              "      <td>0.0</td>\n",
              "      <td>1.0</td>\n",
              "      <td>0.0</td>\n",
              "      <td>1.0</td>\n",
              "      <td>198.21</td>\n",
              "      <td>27.3</td>\n",
              "      <td>2.0</td>\n",
              "      <td>0.0</td>\n",
              "    </tr>\n",
              "    <tr>\n",
              "      <th>36275</th>\n",
              "      <td>0.0</td>\n",
              "      <td>54.0</td>\n",
              "      <td>0.0</td>\n",
              "      <td>0.0</td>\n",
              "      <td>1.0</td>\n",
              "      <td>0.0</td>\n",
              "      <td>0.0</td>\n",
              "      <td>206.72</td>\n",
              "      <td>26.7</td>\n",
              "      <td>0.0</td>\n",
              "      <td>0.0</td>\n",
              "    </tr>\n",
              "    <tr>\n",
              "      <th>...</th>\n",
              "      <td>...</td>\n",
              "      <td>...</td>\n",
              "      <td>...</td>\n",
              "      <td>...</td>\n",
              "      <td>...</td>\n",
              "      <td>...</td>\n",
              "      <td>...</td>\n",
              "      <td>...</td>\n",
              "      <td>...</td>\n",
              "      <td>...</td>\n",
              "      <td>...</td>\n",
              "    </tr>\n",
              "    <tr>\n",
              "      <th>28788</th>\n",
              "      <td>1.0</td>\n",
              "      <td>40.0</td>\n",
              "      <td>0.0</td>\n",
              "      <td>0.0</td>\n",
              "      <td>1.0</td>\n",
              "      <td>0.0</td>\n",
              "      <td>1.0</td>\n",
              "      <td>191.15</td>\n",
              "      <td>33.6</td>\n",
              "      <td>3.0</td>\n",
              "      <td>0.0</td>\n",
              "    </tr>\n",
              "    <tr>\n",
              "      <th>38009</th>\n",
              "      <td>1.0</td>\n",
              "      <td>41.0</td>\n",
              "      <td>0.0</td>\n",
              "      <td>0.0</td>\n",
              "      <td>1.0</td>\n",
              "      <td>0.0</td>\n",
              "      <td>1.0</td>\n",
              "      <td>223.78</td>\n",
              "      <td>32.3</td>\n",
              "      <td>0.0</td>\n",
              "      <td>0.0</td>\n",
              "    </tr>\n",
              "    <tr>\n",
              "      <th>11184</th>\n",
              "      <td>0.0</td>\n",
              "      <td>82.0</td>\n",
              "      <td>0.0</td>\n",
              "      <td>0.0</td>\n",
              "      <td>1.0</td>\n",
              "      <td>1.0</td>\n",
              "      <td>0.0</td>\n",
              "      <td>211.58</td>\n",
              "      <td>36.9</td>\n",
              "      <td>0.0</td>\n",
              "      <td>0.0</td>\n",
              "    </tr>\n",
              "    <tr>\n",
              "      <th>68967</th>\n",
              "      <td>1.0</td>\n",
              "      <td>39.0</td>\n",
              "      <td>0.0</td>\n",
              "      <td>0.0</td>\n",
              "      <td>1.0</td>\n",
              "      <td>0.0</td>\n",
              "      <td>1.0</td>\n",
              "      <td>179.38</td>\n",
              "      <td>27.7</td>\n",
              "      <td>1.0</td>\n",
              "      <td>0.0</td>\n",
              "    </tr>\n",
              "    <tr>\n",
              "      <th>66684</th>\n",
              "      <td>1.0</td>\n",
              "      <td>70.0</td>\n",
              "      <td>0.0</td>\n",
              "      <td>0.0</td>\n",
              "      <td>1.0</td>\n",
              "      <td>1.0</td>\n",
              "      <td>0.0</td>\n",
              "      <td>193.88</td>\n",
              "      <td>24.3</td>\n",
              "      <td>1.0</td>\n",
              "      <td>0.0</td>\n",
              "    </tr>\n",
              "  </tbody>\n",
              "</table>\n",
              "<p>521 rows × 11 columns</p>\n",
              "</div>\n",
              "      <button class=\"colab-df-convert\" onclick=\"convertToInteractive('df-544b3c92-ce5e-4ce2-8ea8-43df95e1293e')\"\n",
              "              title=\"Convert this dataframe to an interactive table.\"\n",
              "              style=\"display:none;\">\n",
              "        \n",
              "  <svg xmlns=\"http://www.w3.org/2000/svg\" height=\"24px\"viewBox=\"0 0 24 24\"\n",
              "       width=\"24px\">\n",
              "    <path d=\"M0 0h24v24H0V0z\" fill=\"none\"/>\n",
              "    <path d=\"M18.56 5.44l.94 2.06.94-2.06 2.06-.94-2.06-.94-.94-2.06-.94 2.06-2.06.94zm-11 1L8.5 8.5l.94-2.06 2.06-.94-2.06-.94L8.5 2.5l-.94 2.06-2.06.94zm10 10l.94 2.06.94-2.06 2.06-.94-2.06-.94-.94-2.06-.94 2.06-2.06.94z\"/><path d=\"M17.41 7.96l-1.37-1.37c-.4-.4-.92-.59-1.43-.59-.52 0-1.04.2-1.43.59L10.3 9.45l-7.72 7.72c-.78.78-.78 2.05 0 2.83L4 21.41c.39.39.9.59 1.41.59.51 0 1.02-.2 1.41-.59l7.78-7.78 2.81-2.81c.8-.78.8-2.07 0-2.86zM5.41 20L4 18.59l7.72-7.72 1.47 1.35L5.41 20z\"/>\n",
              "  </svg>\n",
              "      </button>\n",
              "      \n",
              "  <style>\n",
              "    .colab-df-container {\n",
              "      display:flex;\n",
              "      flex-wrap:wrap;\n",
              "      gap: 12px;\n",
              "    }\n",
              "\n",
              "    .colab-df-convert {\n",
              "      background-color: #E8F0FE;\n",
              "      border: none;\n",
              "      border-radius: 50%;\n",
              "      cursor: pointer;\n",
              "      display: none;\n",
              "      fill: #1967D2;\n",
              "      height: 32px;\n",
              "      padding: 0 0 0 0;\n",
              "      width: 32px;\n",
              "    }\n",
              "\n",
              "    .colab-df-convert:hover {\n",
              "      background-color: #E2EBFA;\n",
              "      box-shadow: 0px 1px 2px rgba(60, 64, 67, 0.3), 0px 1px 3px 1px rgba(60, 64, 67, 0.15);\n",
              "      fill: #174EA6;\n",
              "    }\n",
              "\n",
              "    [theme=dark] .colab-df-convert {\n",
              "      background-color: #3B4455;\n",
              "      fill: #D2E3FC;\n",
              "    }\n",
              "\n",
              "    [theme=dark] .colab-df-convert:hover {\n",
              "      background-color: #434B5C;\n",
              "      box-shadow: 0px 1px 3px 1px rgba(0, 0, 0, 0.15);\n",
              "      filter: drop-shadow(0px 1px 2px rgba(0, 0, 0, 0.3));\n",
              "      fill: #FFFFFF;\n",
              "    }\n",
              "  </style>\n",
              "\n",
              "      <script>\n",
              "        const buttonEl =\n",
              "          document.querySelector('#df-544b3c92-ce5e-4ce2-8ea8-43df95e1293e button.colab-df-convert');\n",
              "        buttonEl.style.display =\n",
              "          google.colab.kernel.accessAllowed ? 'block' : 'none';\n",
              "\n",
              "        async function convertToInteractive(key) {\n",
              "          const element = document.querySelector('#df-544b3c92-ce5e-4ce2-8ea8-43df95e1293e');\n",
              "          const dataTable =\n",
              "            await google.colab.kernel.invokeFunction('convertToInteractive',\n",
              "                                                     [key], {});\n",
              "          if (!dataTable) return;\n",
              "\n",
              "          const docLinkHtml = 'Like what you see? Visit the ' +\n",
              "            '<a target=\"_blank\" href=https://colab.research.google.com/notebooks/data_table.ipynb>data table notebook</a>'\n",
              "            + ' to learn more about interactive tables.';\n",
              "          element.innerHTML = '';\n",
              "          dataTable['output_type'] = 'display_data';\n",
              "          await google.colab.output.renderOutput(dataTable, element);\n",
              "          const docLink = document.createElement('div');\n",
              "          docLink.innerHTML = docLinkHtml;\n",
              "          element.appendChild(docLink);\n",
              "        }\n",
              "      </script>\n",
              "    </div>\n",
              "  </div>\n",
              "  "
            ]
          },
          "metadata": {},
          "execution_count": 27
        }
      ],
      "source": [
        "df.loc[(df['avg_glucose_level'] >= 175) & (df['stroke']== 0)]"
      ]
    },
    {
      "cell_type": "code",
      "execution_count": 28,
      "metadata": {
        "colab": {
          "base_uri": "https://localhost:8080/",
          "height": 455
        },
        "id": "rv1rSKRQSo3J",
        "outputId": "f0db727c-ed50-49a8-a7f7-d7adf98d17e4"
      },
      "outputs": [
        {
          "output_type": "execute_result",
          "data": {
            "text/plain": [
              "       gender   age  hypertension  heart_disease  ever_married  work_type  \\\n",
              "id                                                                          \n",
              "32257     0.0  47.0           0.0            0.0           1.0        0.0   \n",
              "28674     0.0  74.0           1.0            0.0           1.0        1.0   \n",
              "72911     0.0  57.0           1.0            0.0           1.0        0.0   \n",
              "1703      0.0  52.0           0.0            0.0           1.0        0.0   \n",
              "38805     0.0  37.0           0.0            0.0           1.0        0.0   \n",
              "...       ...   ...           ...            ...           ...        ...   \n",
              "1696      0.0  43.0           0.0            0.0           1.0        0.0   \n",
              "72696     0.0  53.0           0.0            0.0           1.0        0.0   \n",
              "16245     1.0  51.0           1.0            0.0           1.0        1.0   \n",
              "40732     0.0  50.0           0.0            0.0           1.0        1.0   \n",
              "38349     0.0  49.0           0.0            0.0           1.0        3.0   \n",
              "\n",
              "       Residence_type  avg_glucose_level   bmi  smoking_status  stroke  \n",
              "id                                                                      \n",
              "32257             1.0             210.95  50.1             1.0     0.0  \n",
              "28674             1.0             205.84  54.6             0.0     0.0  \n",
              "72911             0.0             129.54  60.9             3.0     0.0  \n",
              "1703              1.0              82.24  54.7             2.0     0.0  \n",
              "38805             0.0              75.18  48.2             2.0     0.0  \n",
              "...               ...                ...   ...             ...     ...  \n",
              "1696              1.0             100.88  47.6             3.0     0.0  \n",
              "72696             1.0              70.51  54.1             0.0     0.0  \n",
              "16245             0.0             211.83  56.6             0.0     0.0  \n",
              "40732             0.0             126.85  49.5             2.0     0.0  \n",
              "38349             1.0              69.92  47.6             0.0     0.0  \n",
              "\n",
              "[110 rows x 11 columns]"
            ],
            "text/html": [
              "\n",
              "  <div id=\"df-58d742c1-e434-44ea-8675-431eeb8b9092\">\n",
              "    <div class=\"colab-df-container\">\n",
              "      <div>\n",
              "<style scoped>\n",
              "    .dataframe tbody tr th:only-of-type {\n",
              "        vertical-align: middle;\n",
              "    }\n",
              "\n",
              "    .dataframe tbody tr th {\n",
              "        vertical-align: top;\n",
              "    }\n",
              "\n",
              "    .dataframe thead th {\n",
              "        text-align: right;\n",
              "    }\n",
              "</style>\n",
              "<table border=\"1\" class=\"dataframe\">\n",
              "  <thead>\n",
              "    <tr style=\"text-align: right;\">\n",
              "      <th></th>\n",
              "      <th>gender</th>\n",
              "      <th>age</th>\n",
              "      <th>hypertension</th>\n",
              "      <th>heart_disease</th>\n",
              "      <th>ever_married</th>\n",
              "      <th>work_type</th>\n",
              "      <th>Residence_type</th>\n",
              "      <th>avg_glucose_level</th>\n",
              "      <th>bmi</th>\n",
              "      <th>smoking_status</th>\n",
              "      <th>stroke</th>\n",
              "    </tr>\n",
              "    <tr>\n",
              "      <th>id</th>\n",
              "      <th></th>\n",
              "      <th></th>\n",
              "      <th></th>\n",
              "      <th></th>\n",
              "      <th></th>\n",
              "      <th></th>\n",
              "      <th></th>\n",
              "      <th></th>\n",
              "      <th></th>\n",
              "      <th></th>\n",
              "      <th></th>\n",
              "    </tr>\n",
              "  </thead>\n",
              "  <tbody>\n",
              "    <tr>\n",
              "      <th>32257</th>\n",
              "      <td>0.0</td>\n",
              "      <td>47.0</td>\n",
              "      <td>0.0</td>\n",
              "      <td>0.0</td>\n",
              "      <td>1.0</td>\n",
              "      <td>0.0</td>\n",
              "      <td>1.0</td>\n",
              "      <td>210.95</td>\n",
              "      <td>50.1</td>\n",
              "      <td>1.0</td>\n",
              "      <td>0.0</td>\n",
              "    </tr>\n",
              "    <tr>\n",
              "      <th>28674</th>\n",
              "      <td>0.0</td>\n",
              "      <td>74.0</td>\n",
              "      <td>1.0</td>\n",
              "      <td>0.0</td>\n",
              "      <td>1.0</td>\n",
              "      <td>1.0</td>\n",
              "      <td>1.0</td>\n",
              "      <td>205.84</td>\n",
              "      <td>54.6</td>\n",
              "      <td>0.0</td>\n",
              "      <td>0.0</td>\n",
              "    </tr>\n",
              "    <tr>\n",
              "      <th>72911</th>\n",
              "      <td>0.0</td>\n",
              "      <td>57.0</td>\n",
              "      <td>1.0</td>\n",
              "      <td>0.0</td>\n",
              "      <td>1.0</td>\n",
              "      <td>0.0</td>\n",
              "      <td>0.0</td>\n",
              "      <td>129.54</td>\n",
              "      <td>60.9</td>\n",
              "      <td>3.0</td>\n",
              "      <td>0.0</td>\n",
              "    </tr>\n",
              "    <tr>\n",
              "      <th>1703</th>\n",
              "      <td>0.0</td>\n",
              "      <td>52.0</td>\n",
              "      <td>0.0</td>\n",
              "      <td>0.0</td>\n",
              "      <td>1.0</td>\n",
              "      <td>0.0</td>\n",
              "      <td>1.0</td>\n",
              "      <td>82.24</td>\n",
              "      <td>54.7</td>\n",
              "      <td>2.0</td>\n",
              "      <td>0.0</td>\n",
              "    </tr>\n",
              "    <tr>\n",
              "      <th>38805</th>\n",
              "      <td>0.0</td>\n",
              "      <td>37.0</td>\n",
              "      <td>0.0</td>\n",
              "      <td>0.0</td>\n",
              "      <td>1.0</td>\n",
              "      <td>0.0</td>\n",
              "      <td>0.0</td>\n",
              "      <td>75.18</td>\n",
              "      <td>48.2</td>\n",
              "      <td>2.0</td>\n",
              "      <td>0.0</td>\n",
              "    </tr>\n",
              "    <tr>\n",
              "      <th>...</th>\n",
              "      <td>...</td>\n",
              "      <td>...</td>\n",
              "      <td>...</td>\n",
              "      <td>...</td>\n",
              "      <td>...</td>\n",
              "      <td>...</td>\n",
              "      <td>...</td>\n",
              "      <td>...</td>\n",
              "      <td>...</td>\n",
              "      <td>...</td>\n",
              "      <td>...</td>\n",
              "    </tr>\n",
              "    <tr>\n",
              "      <th>1696</th>\n",
              "      <td>0.0</td>\n",
              "      <td>43.0</td>\n",
              "      <td>0.0</td>\n",
              "      <td>0.0</td>\n",
              "      <td>1.0</td>\n",
              "      <td>0.0</td>\n",
              "      <td>1.0</td>\n",
              "      <td>100.88</td>\n",
              "      <td>47.6</td>\n",
              "      <td>3.0</td>\n",
              "      <td>0.0</td>\n",
              "    </tr>\n",
              "    <tr>\n",
              "      <th>72696</th>\n",
              "      <td>0.0</td>\n",
              "      <td>53.0</td>\n",
              "      <td>0.0</td>\n",
              "      <td>0.0</td>\n",
              "      <td>1.0</td>\n",
              "      <td>0.0</td>\n",
              "      <td>1.0</td>\n",
              "      <td>70.51</td>\n",
              "      <td>54.1</td>\n",
              "      <td>0.0</td>\n",
              "      <td>0.0</td>\n",
              "    </tr>\n",
              "    <tr>\n",
              "      <th>16245</th>\n",
              "      <td>1.0</td>\n",
              "      <td>51.0</td>\n",
              "      <td>1.0</td>\n",
              "      <td>0.0</td>\n",
              "      <td>1.0</td>\n",
              "      <td>1.0</td>\n",
              "      <td>0.0</td>\n",
              "      <td>211.83</td>\n",
              "      <td>56.6</td>\n",
              "      <td>0.0</td>\n",
              "      <td>0.0</td>\n",
              "    </tr>\n",
              "    <tr>\n",
              "      <th>40732</th>\n",
              "      <td>0.0</td>\n",
              "      <td>50.0</td>\n",
              "      <td>0.0</td>\n",
              "      <td>0.0</td>\n",
              "      <td>1.0</td>\n",
              "      <td>1.0</td>\n",
              "      <td>0.0</td>\n",
              "      <td>126.85</td>\n",
              "      <td>49.5</td>\n",
              "      <td>2.0</td>\n",
              "      <td>0.0</td>\n",
              "    </tr>\n",
              "    <tr>\n",
              "      <th>38349</th>\n",
              "      <td>0.0</td>\n",
              "      <td>49.0</td>\n",
              "      <td>0.0</td>\n",
              "      <td>0.0</td>\n",
              "      <td>1.0</td>\n",
              "      <td>3.0</td>\n",
              "      <td>1.0</td>\n",
              "      <td>69.92</td>\n",
              "      <td>47.6</td>\n",
              "      <td>0.0</td>\n",
              "      <td>0.0</td>\n",
              "    </tr>\n",
              "  </tbody>\n",
              "</table>\n",
              "<p>110 rows × 11 columns</p>\n",
              "</div>\n",
              "      <button class=\"colab-df-convert\" onclick=\"convertToInteractive('df-58d742c1-e434-44ea-8675-431eeb8b9092')\"\n",
              "              title=\"Convert this dataframe to an interactive table.\"\n",
              "              style=\"display:none;\">\n",
              "        \n",
              "  <svg xmlns=\"http://www.w3.org/2000/svg\" height=\"24px\"viewBox=\"0 0 24 24\"\n",
              "       width=\"24px\">\n",
              "    <path d=\"M0 0h24v24H0V0z\" fill=\"none\"/>\n",
              "    <path d=\"M18.56 5.44l.94 2.06.94-2.06 2.06-.94-2.06-.94-.94-2.06-.94 2.06-2.06.94zm-11 1L8.5 8.5l.94-2.06 2.06-.94-2.06-.94L8.5 2.5l-.94 2.06-2.06.94zm10 10l.94 2.06.94-2.06 2.06-.94-2.06-.94-.94-2.06-.94 2.06-2.06.94z\"/><path d=\"M17.41 7.96l-1.37-1.37c-.4-.4-.92-.59-1.43-.59-.52 0-1.04.2-1.43.59L10.3 9.45l-7.72 7.72c-.78.78-.78 2.05 0 2.83L4 21.41c.39.39.9.59 1.41.59.51 0 1.02-.2 1.41-.59l7.78-7.78 2.81-2.81c.8-.78.8-2.07 0-2.86zM5.41 20L4 18.59l7.72-7.72 1.47 1.35L5.41 20z\"/>\n",
              "  </svg>\n",
              "      </button>\n",
              "      \n",
              "  <style>\n",
              "    .colab-df-container {\n",
              "      display:flex;\n",
              "      flex-wrap:wrap;\n",
              "      gap: 12px;\n",
              "    }\n",
              "\n",
              "    .colab-df-convert {\n",
              "      background-color: #E8F0FE;\n",
              "      border: none;\n",
              "      border-radius: 50%;\n",
              "      cursor: pointer;\n",
              "      display: none;\n",
              "      fill: #1967D2;\n",
              "      height: 32px;\n",
              "      padding: 0 0 0 0;\n",
              "      width: 32px;\n",
              "    }\n",
              "\n",
              "    .colab-df-convert:hover {\n",
              "      background-color: #E2EBFA;\n",
              "      box-shadow: 0px 1px 2px rgba(60, 64, 67, 0.3), 0px 1px 3px 1px rgba(60, 64, 67, 0.15);\n",
              "      fill: #174EA6;\n",
              "    }\n",
              "\n",
              "    [theme=dark] .colab-df-convert {\n",
              "      background-color: #3B4455;\n",
              "      fill: #D2E3FC;\n",
              "    }\n",
              "\n",
              "    [theme=dark] .colab-df-convert:hover {\n",
              "      background-color: #434B5C;\n",
              "      box-shadow: 0px 1px 3px 1px rgba(0, 0, 0, 0.15);\n",
              "      filter: drop-shadow(0px 1px 2px rgba(0, 0, 0, 0.3));\n",
              "      fill: #FFFFFF;\n",
              "    }\n",
              "  </style>\n",
              "\n",
              "      <script>\n",
              "        const buttonEl =\n",
              "          document.querySelector('#df-58d742c1-e434-44ea-8675-431eeb8b9092 button.colab-df-convert');\n",
              "        buttonEl.style.display =\n",
              "          google.colab.kernel.accessAllowed ? 'block' : 'none';\n",
              "\n",
              "        async function convertToInteractive(key) {\n",
              "          const element = document.querySelector('#df-58d742c1-e434-44ea-8675-431eeb8b9092');\n",
              "          const dataTable =\n",
              "            await google.colab.kernel.invokeFunction('convertToInteractive',\n",
              "                                                     [key], {});\n",
              "          if (!dataTable) return;\n",
              "\n",
              "          const docLinkHtml = 'Like what you see? Visit the ' +\n",
              "            '<a target=\"_blank\" href=https://colab.research.google.com/notebooks/data_table.ipynb>data table notebook</a>'\n",
              "            + ' to learn more about interactive tables.';\n",
              "          element.innerHTML = '';\n",
              "          dataTable['output_type'] = 'display_data';\n",
              "          await google.colab.output.renderOutput(dataTable, element);\n",
              "          const docLink = document.createElement('div');\n",
              "          docLink.innerHTML = docLinkHtml;\n",
              "          element.appendChild(docLink);\n",
              "        }\n",
              "      </script>\n",
              "    </div>\n",
              "  </div>\n",
              "  "
            ]
          },
          "metadata": {},
          "execution_count": 28
        }
      ],
      "source": [
        "df.loc[(df['bmi'] >= 47) & (df['stroke']== 0)]"
      ]
    },
    {
      "cell_type": "code",
      "execution_count": 29,
      "metadata": {
        "id": "hpJvvYoEkQWG"
      },
      "outputs": [],
      "source": [
        "# Removing 'avg_glucose_level' outliers \n",
        "index_glucose_lvl= df[ (df['avg_glucose_level'] > 150) & (df['stroke']== 0)].index\n",
        "\n",
        "df.drop(index_glucose_lvl, inplace= True)\n",
        "\n",
        "# Removing 'bmi' outliers \n",
        "index_bmi= df[(df['bmi']> 47) & (df['stroke']== 0)].index\n",
        "\n",
        "df.drop(index_bmi, inplace= True)"
      ]
    },
    {
      "cell_type": "code",
      "execution_count": 30,
      "metadata": {
        "colab": {
          "base_uri": "https://localhost:8080/",
          "height": 830
        },
        "id": "aXrWsqBhf1_B",
        "outputId": "17b5f869-ee5a-405d-bbf1-4487e8156dbb"
      },
      "outputs": [
        {
          "output_type": "display_data",
          "data": {
            "text/plain": [
              "<Figure size 432x288 with 1 Axes>"
            ],
            "image/png": "[encoded data removed]"
          },
          "metadata": {
            "needs_background": "light"
          }
        },
        {
          "output_type": "display_data",
          "data": {
            "text/plain": [
              "<Figure size 432x288 with 1 Axes>"
            ],
            "image/png": "[encoded data removed]"
          },
          "metadata": {
            "needs_background": "light"
          }
        },
        {
          "output_type": "display_data",
          "data": {
            "text/plain": [
              "<Figure size 432x288 with 1 Axes>"
            ],
            "image/png": "[encoded data removed]"
          },
          "metadata": {
            "needs_background": "light"
          }
        }
      ],
      "source": [
        "for features in features_continous:\n",
        "  sns.boxplot(data=df, x= 'stroke', y= features, palette=\"viridis\")\n",
        "  plt.xticks(rotation= 45)\n",
        "  plt.show()"
      ]
    },
    {
      "cell_type": "markdown",
      "metadata": {
        "id": "8klRMtA8a9Dc"
      },
      "source": [
        "## Summary:\n",
        "\n",
        "- features_continous:\n",
        "\n",
        "\n",
        "- features_category:\n",
        "\n",
        "There is a class imbalance for the feature target 'stroke' is thus this would need to addressed.\n"
      ]
    },
    {
      "cell_type": "markdown",
      "metadata": {
        "id": "8ZEM-CPpb3XN"
      },
      "source": [
        "### Split X and Y\n"
      ]
    },
    {
      "cell_type": "code",
      "execution_count": 31,
      "metadata": {
        "colab": {
          "base_uri": "https://localhost:8080/"
        },
        "id": "sFCa0y-XloNA",
        "outputId": "e1697f89-03d6-475e-9d1f-f079904e2507"
      },
      "outputs": [
        {
          "output_type": "stream",
          "name": "stdout",
          "text": [
            "(4384, 10)\n",
            "(4384,)\n"
          ]
        }
      ],
      "source": [
        "Target_variable= ['stroke']\n",
        "\n",
        "features= ['gender', 'hypertension', 'heart_disease', 'ever_married',\n",
        "           'work_type', 'Residence_type','smoking_status','age',\n",
        "           'avg_glucose_level','bmi' ]\n",
        "\n",
        "Features2= ['age','avg_glucose_level']\n",
        "\n",
        "X= df[features].values.reshape(-1, 10)\n",
        "\n",
        "y= df['stroke']\n",
        "\n",
        "print(X.shape)\n",
        "print(y.shape)"
      ]
    },
    {
      "cell_type": "code",
      "execution_count": 32,
      "metadata": {
        "colab": {
          "base_uri": "https://localhost:8080/"
        },
        "id": "Miag32avN5AP",
        "outputId": "f366f89f-2673-475f-b906-b7b4a7c892ce"
      },
      "outputs": [
        {
          "output_type": "execute_result",
          "data": {
            "text/plain": [
              "((3068, 10), (1316, 10))"
            ]
          },
          "metadata": {},
          "execution_count": 32
        }
      ],
      "source": [
        "# Feature\n",
        "X_train, X_test, y_train, y_test = train_test_split(\n",
        "    X,\n",
        "    y,\n",
        "    test_size= 0.3,\n",
        "    random_state=0)\n",
        "\n",
        "X_train.shape, X_test.shape\n",
        "\n"
      ]
    },
    {
      "cell_type": "markdown",
      "metadata": {
        "id": "cOpBIVG-cnSU"
      },
      "source": [
        "### Resampling Imbalanced target outcomes"
      ]
    },
    {
      "cell_type": "code",
      "execution_count": 33,
      "metadata": {
        "colab": {
          "base_uri": "https://localhost:8080/"
        },
        "id": "UufYYcF0QNd6",
        "outputId": "8b569247-1658-49c7-b709-79764bd0bfd1"
      },
      "outputs": [
        {
          "output_type": "stream",
          "name": "stdout",
          "text": [
            "(249, 11) (4135, 11)\n"
          ]
        }
      ],
      "source": [
        "stroke= df[df['stroke']== 1]\n",
        "\n",
        "no_stroke= df[df['stroke']== 0]\n",
        "\n",
        "print(stroke.shape, no_stroke.shape)"
      ]
    },
    {
      "cell_type": "code",
      "execution_count": 34,
      "metadata": {
        "id": "5KZrQrpkQwzm",
        "colab": {
          "base_uri": "https://localhost:8080/"
        },
        "outputId": "1b264a6e-1c94-4177-c266-8a57a2a780c5"
      },
      "outputs": [
        {
          "output_type": "execute_result",
          "data": {
            "text/plain": [
              "((8216, 10), (8216,))"
            ]
          },
          "metadata": {},
          "execution_count": 34
        }
      ],
      "source": [
        "# Implementing oversampling to handling feature imbalance\n",
        "smk= SMOTETomek(random_state=40)\n",
        "X_res, y_res= smk.fit_resample(X,y)\n",
        "\n",
        "\n",
        "X_res.shape, y_res.shape # Dataset wil be oversampled"
      ]
    },
    {
      "cell_type": "code",
      "execution_count": 35,
      "metadata": {
        "id": "Ke5cmkFeRvYV",
        "colab": {
          "base_uri": "https://localhost:8080/"
        },
        "outputId": "97469dca-107a-4fb4-d8ec-b7fc029cb2fd"
      },
      "outputs": [
        {
          "output_type": "stream",
          "name": "stdout",
          "text": [
            "Orignal dataset shape Counter({0.0: 4135, 1.0: 249})\n",
            "Resampled dataset shape Counter({1.0: 4108, 0.0: 4108})\n"
          ]
        }
      ],
      "source": [
        "# See how the shape for for the sample has changed\n",
        "from collections import Counter \n",
        "print('Orignal dataset shape {}'.format(Counter(y)))\n",
        "print('Resampled dataset shape {}'.format(Counter(y_res)))"
      ]
    },
    {
      "cell_type": "code",
      "source": [
        "## RandomeOversampler to handle \n",
        "from imblearn.over_sampling import RandomOverSampler\n",
        "\n",
        "os= RandomOverSampler(random_state= 42)\n",
        "X_train_res, y_train_res = os.fit_resample(X,y)\n",
        "\n",
        "print('Orignal dataset shape {}'.format(Counter(y)))\n",
        "print('Resampled dataset shape {}'.format(Counter(y_train_res)))"
      ],
      "metadata": {
        "colab": {
          "base_uri": "https://localhost:8080/"
        },
        "id": "qTXZ7idGeBGO",
        "outputId": "11ca1049-81ac-40cf-ba14-2d201c0b8036"
      },
      "execution_count": 36,
      "outputs": [
        {
          "output_type": "stream",
          "name": "stdout",
          "text": [
            "Orignal dataset shape Counter({0.0: 4135, 1.0: 249})\n",
            "Resampled dataset shape Counter({1.0: 4135, 0.0: 4135})\n"
          ]
        }
      ]
    },
    {
      "cell_type": "code",
      "source": [
        "# Run model\n",
        "\n",
        "model=DecisionTreeClassifier(random_state= 15, criterion = 'entropy', max_depth=10)\n",
        "model= model.fit(X_train_res,y_train_res)"
      ],
      "metadata": {
        "id": "wjAKB994yABb"
      },
      "execution_count": 37,
      "outputs": []
    },
    {
      "cell_type": "markdown",
      "metadata": {
        "id": "AWGAhM55GJjF"
      },
      "source": [
        "### Feature selection"
      ]
    },
    {
      "cell_type": "code",
      "execution_count": 38,
      "metadata": {
        "colab": {
          "base_uri": "https://localhost:8080/"
        },
        "id": "IM1zls9XHHDr",
        "outputId": "e2ce082f-17d8-4a1f-935e-8137892a2f60"
      },
      "outputs": [
        {
          "output_type": "stream",
          "name": "stdout",
          "text": [
            "The feature importance for gender is: 0.019115194657486612\n",
            "The feature importance for hypertension is: 0.0035064519248695124\n",
            "The feature importance for heart_disease is: 0.0008419510951351257\n",
            "The feature importance for ever_married is: 0.020564896140782312\n",
            "The feature importance for work_type is: 0.00990696311338687\n",
            "The feature importance for Residence_type is: 0.012595590534786923\n",
            "The feature importance for smoking_status is: 0.02501443013732462\n",
            "The feature importance for age is: 0.5229999498338816\n",
            "The feature importance for avg_glucose_level is: 0.29060429842771446\n",
            "The feature importance for bmi is: 0.09485027413463189\n"
          ]
        }
      ],
      "source": [
        "features= ['gender','hypertension', 'heart_disease', 'ever_married',\n",
        "           'work_type', 'Residence_type','smoking_status','age',\n",
        "           'avg_glucose_level','bmi']\n",
        "\n",
        "feature_importance_col = []\n",
        "feature_importance = []\n",
        "\n",
        "for i,column in enumerate(df[features]):\n",
        "  print('The feature importance for {} is: {}'.format(column, model.feature_importances_[i]))\n",
        "\n",
        "\n",
        "  feature_importance_col.append(column)\n",
        "  feature_importance.append(model.feature_importances_[i])"
      ]
    },
    {
      "cell_type": "code",
      "source": [
        "# Turn Feature importance into a dataframe\n",
        "fi_df= zip(feature_importance_col, feature_importance)\n",
        "fi_df= pd.DataFrame(fi_df, columns= ['Feature', 'Feature Importance'])\n",
        "\n",
        "# Sort by Feature importance\n",
        "fi_df= fi_df.sort_values('Feature Importance', ascending= False).reset_index()\n",
        "fi_df"
      ],
      "metadata": {
        "colab": {
          "base_uri": "https://localhost:8080/",
          "height": 363
        },
        "id": "hneMePwSrtUT",
        "outputId": "3e7c15ac-e5f8-4d9f-da0e-23c145dfb1f8"
      },
      "execution_count": 39,
      "outputs": [
        {
          "output_type": "execute_result",
          "data": {
            "text/plain": [
              "   index            Feature  Feature Importance\n",
              "0      7                age            0.523000\n",
              "1      8  avg_glucose_level            0.290604\n",
              "2      9                bmi            0.094850\n",
              "3      6     smoking_status            0.025014\n",
              "4      3       ever_married            0.020565\n",
              "5      0             gender            0.019115\n",
              "6      5     Residence_type            0.012596\n",
              "7      4          work_type            0.009907\n",
              "8      1       hypertension            0.003506\n",
              "9      2      heart_disease            0.000842"
            ],
            "text/html": [
              "\n",
              "  <div id=\"df-d395439b-377c-451a-beb3-9d6f85dd0133\">\n",
              "    <div class=\"colab-df-container\">\n",
              "      <div>\n",
              "<style scoped>\n",
              "    .dataframe tbody tr th:only-of-type {\n",
              "        vertical-align: middle;\n",
              "    }\n",
              "\n",
              "    .dataframe tbody tr th {\n",
              "        vertical-align: top;\n",
              "    }\n",
              "\n",
              "    .dataframe thead th {\n",
              "        text-align: right;\n",
              "    }\n",
              "</style>\n",
              "<table border=\"1\" class=\"dataframe\">\n",
              "  <thead>\n",
              "    <tr style=\"text-align: right;\">\n",
              "      <th></th>\n",
              "      <th>index</th>\n",
              "      <th>Feature</th>\n",
              "      <th>Feature Importance</th>\n",
              "    </tr>\n",
              "  </thead>\n",
              "  <tbody>\n",
              "    <tr>\n",
              "      <th>0</th>\n",
              "      <td>7</td>\n",
              "      <td>age</td>\n",
              "      <td>0.523000</td>\n",
              "    </tr>\n",
              "    <tr>\n",
              "      <th>1</th>\n",
              "      <td>8</td>\n",
              "      <td>avg_glucose_level</td>\n",
              "      <td>0.290604</td>\n",
              "    </tr>\n",
              "    <tr>\n",
              "      <th>2</th>\n",
              "      <td>9</td>\n",
              "      <td>bmi</td>\n",
              "      <td>0.094850</td>\n",
              "    </tr>\n",
              "    <tr>\n",
              "      <th>3</th>\n",
              "      <td>6</td>\n",
              "      <td>smoking_status</td>\n",
              "      <td>0.025014</td>\n",
              "    </tr>\n",
              "    <tr>\n",
              "      <th>4</th>\n",
              "      <td>3</td>\n",
              "      <td>ever_married</td>\n",
              "      <td>0.020565</td>\n",
              "    </tr>\n",
              "    <tr>\n",
              "      <th>5</th>\n",
              "      <td>0</td>\n",
              "      <td>gender</td>\n",
              "      <td>0.019115</td>\n",
              "    </tr>\n",
              "    <tr>\n",
              "      <th>6</th>\n",
              "      <td>5</td>\n",
              "      <td>Residence_type</td>\n",
              "      <td>0.012596</td>\n",
              "    </tr>\n",
              "    <tr>\n",
              "      <th>7</th>\n",
              "      <td>4</td>\n",
              "      <td>work_type</td>\n",
              "      <td>0.009907</td>\n",
              "    </tr>\n",
              "    <tr>\n",
              "      <th>8</th>\n",
              "      <td>1</td>\n",
              "      <td>hypertension</td>\n",
              "      <td>0.003506</td>\n",
              "    </tr>\n",
              "    <tr>\n",
              "      <th>9</th>\n",
              "      <td>2</td>\n",
              "      <td>heart_disease</td>\n",
              "      <td>0.000842</td>\n",
              "    </tr>\n",
              "  </tbody>\n",
              "</table>\n",
              "</div>\n",
              "      <button class=\"colab-df-convert\" onclick=\"convertToInteractive('df-d395439b-377c-451a-beb3-9d6f85dd0133')\"\n",
              "              title=\"Convert this dataframe to an interactive table.\"\n",
              "              style=\"display:none;\">\n",
              "        \n",
              "  <svg xmlns=\"http://www.w3.org/2000/svg\" height=\"24px\"viewBox=\"0 0 24 24\"\n",
              "       width=\"24px\">\n",
              "    <path d=\"M0 0h24v24H0V0z\" fill=\"none\"/>\n",
              "    <path d=\"M18.56 5.44l.94 2.06.94-2.06 2.06-.94-2.06-.94-.94-2.06-.94 2.06-2.06.94zm-11 1L8.5 8.5l.94-2.06 2.06-.94-2.06-.94L8.5 2.5l-.94 2.06-2.06.94zm10 10l.94 2.06.94-2.06 2.06-.94-2.06-.94-.94-2.06-.94 2.06-2.06.94z\"/><path d=\"M17.41 7.96l-1.37-1.37c-.4-.4-.92-.59-1.43-.59-.52 0-1.04.2-1.43.59L10.3 9.45l-7.72 7.72c-.78.78-.78 2.05 0 2.83L4 21.41c.39.39.9.59 1.41.59.51 0 1.02-.2 1.41-.59l7.78-7.78 2.81-2.81c.8-.78.8-2.07 0-2.86zM5.41 20L4 18.59l7.72-7.72 1.47 1.35L5.41 20z\"/>\n",
              "  </svg>\n",
              "      </button>\n",
              "      \n",
              "  <style>\n",
              "    .colab-df-container {\n",
              "      display:flex;\n",
              "      flex-wrap:wrap;\n",
              "      gap: 12px;\n",
              "    }\n",
              "\n",
              "    .colab-df-convert {\n",
              "      background-color: #E8F0FE;\n",
              "      border: none;\n",
              "      border-radius: 50%;\n",
              "      cursor: pointer;\n",
              "      display: none;\n",
              "      fill: #1967D2;\n",
              "      height: 32px;\n",
              "      padding: 0 0 0 0;\n",
              "      width: 32px;\n",
              "    }\n",
              "\n",
              "    .colab-df-convert:hover {\n",
              "      background-color: #E2EBFA;\n",
              "      box-shadow: 0px 1px 2px rgba(60, 64, 67, 0.3), 0px 1px 3px 1px rgba(60, 64, 67, 0.15);\n",
              "      fill: #174EA6;\n",
              "    }\n",
              "\n",
              "    [theme=dark] .colab-df-convert {\n",
              "      background-color: #3B4455;\n",
              "      fill: #D2E3FC;\n",
              "    }\n",
              "\n",
              "    [theme=dark] .colab-df-convert:hover {\n",
              "      background-color: #434B5C;\n",
              "      box-shadow: 0px 1px 3px 1px rgba(0, 0, 0, 0.15);\n",
              "      filter: drop-shadow(0px 1px 2px rgba(0, 0, 0, 0.3));\n",
              "      fill: #FFFFFF;\n",
              "    }\n",
              "  </style>\n",
              "\n",
              "      <script>\n",
              "        const buttonEl =\n",
              "          document.querySelector('#df-d395439b-377c-451a-beb3-9d6f85dd0133 button.colab-df-convert');\n",
              "        buttonEl.style.display =\n",
              "          google.colab.kernel.accessAllowed ? 'block' : 'none';\n",
              "\n",
              "        async function convertToInteractive(key) {\n",
              "          const element = document.querySelector('#df-d395439b-377c-451a-beb3-9d6f85dd0133');\n",
              "          const dataTable =\n",
              "            await google.colab.kernel.invokeFunction('convertToInteractive',\n",
              "                                                     [key], {});\n",
              "          if (!dataTable) return;\n",
              "\n",
              "          const docLinkHtml = 'Like what you see? Visit the ' +\n",
              "            '<a target=\"_blank\" href=https://colab.research.google.com/notebooks/data_table.ipynb>data table notebook</a>'\n",
              "            + ' to learn more about interactive tables.';\n",
              "          element.innerHTML = '';\n",
              "          dataTable['output_type'] = 'display_data';\n",
              "          await google.colab.output.renderOutput(dataTable, element);\n",
              "          const docLink = document.createElement('div');\n",
              "          docLink.innerHTML = docLinkHtml;\n",
              "          element.appendChild(docLink);\n",
              "        }\n",
              "      </script>\n",
              "    </div>\n",
              "  </div>\n",
              "  "
            ]
          },
          "metadata": {},
          "execution_count": 39
        }
      ]
    },
    {
      "cell_type": "code",
      "execution_count": 40,
      "metadata": {
        "id": "xx-kXyIyPq6n",
        "colab": {
          "base_uri": "https://localhost:8080/",
          "height": 564
        },
        "outputId": "24624c91-f28b-4864-aee3-4d0406bd09a9"
      },
      "outputs": [
        {
          "output_type": "display_data",
          "data": {
            "text/plain": [
              "<Figure size 720x576 with 1 Axes>"
            ],
            "image/png": "[encoded data removed]"
          },
          "metadata": {
            "needs_background": "light"
          }
        }
      ],
      "source": [
        "# Plot Meant importance\n",
        "plt.figure(figsize=(10,8))\n",
        "sns.barplot(\n",
        "    x= feature_importance_col,\n",
        "    y= feature_importance\n",
        ")\n",
        "plt.axhline(np.mean(feature_importance), color='k', linestyle=\"--\",\n",
        "            alpha=0.5, label=\"Mean Importance\")\n",
        "plt.xticks(rotation=90)\n",
        "plt.legend()\n",
        "plt.show()"
      ]
    },
    {
      "cell_type": "code",
      "source": [],
      "metadata": {
        "id": "0KPi4Bwnw0ZB"
      },
      "execution_count": 40,
      "outputs": []
    },
    {
      "cell_type": "code",
      "source": [
        "# New Features after feature selction has been conducted.\n",
        "Target_variable= ['stroke']\n",
        "\n",
        "features2= ['age','avg_glucose_level']\n",
        "\n",
        "X2= df[features2].values.reshape(-1, 2)\n",
        "\n",
        "y2= df['stroke']\n",
        "\n",
        "print(X2.shape)\n",
        "print(y.shape)\n"
      ],
      "metadata": {
        "colab": {
          "base_uri": "https://localhost:8080/"
        },
        "id": "M34wCbJZzm1_",
        "outputId": "cbdc17eb-b6e8-4105-8516-349e5581ac5a"
      },
      "execution_count": 41,
      "outputs": [
        {
          "output_type": "stream",
          "name": "stdout",
          "text": [
            "(4384, 2)\n",
            "(4384,)\n"
          ]
        }
      ]
    },
    {
      "cell_type": "code",
      "source": [
        "# Test and split \n",
        "X_train2, X_test2, y_train2, y_test2 = train_test_split(\n",
        "    X2,\n",
        "    y2,\n",
        "    test_size= 0.3,\n",
        "    random_state=0)\n",
        "\n",
        "X_train2.shape, X_test2.shape"
      ],
      "metadata": {
        "colab": {
          "base_uri": "https://localhost:8080/"
        },
        "id": "8pg5BOXw0ZKf",
        "outputId": "94ef3310-1493-4d7f-e4d6-144ad23640d7"
      },
      "execution_count": 42,
      "outputs": [
        {
          "output_type": "execute_result",
          "data": {
            "text/plain": [
              "((3068, 2), (1316, 2))"
            ]
          },
          "metadata": {},
          "execution_count": 42
        }
      ]
    },
    {
      "cell_type": "code",
      "source": [
        "# Resampling of new features selected\n",
        "os= RandomOverSampler(random_state= 42)\n",
        "X_train_res2, y_train_res2 = os.fit_resample(X2,y2)\n",
        "\n",
        "print('Orignal dataset shape {}'.format(Counter(y2)))\n",
        "print('Resampled dataset shape {}'.format(Counter(y_train_res2)))"
      ],
      "metadata": {
        "colab": {
          "base_uri": "https://localhost:8080/"
        },
        "id": "HdexHmnE0phD",
        "outputId": "2fe20e58-0b98-4c37-f0f8-a4669e368c34"
      },
      "execution_count": 43,
      "outputs": [
        {
          "output_type": "stream",
          "name": "stdout",
          "text": [
            "Orignal dataset shape Counter({0.0: 4135, 1.0: 249})\n",
            "Resampled dataset shape Counter({1.0: 4135, 0.0: 4135})\n"
          ]
        }
      ]
    },
    {
      "cell_type": "markdown",
      "source": [
        "### Running Logistic Regression Model"
      ],
      "metadata": {
        "id": "y5dOZrl61FJH"
      }
    },
    {
      "cell_type": "markdown",
      "source": [
        "**first Model- no resampling or features removed**"
      ],
      "metadata": {
        "id": "CNsX7zuz4jAh"
      }
    },
    {
      "cell_type": "code",
      "source": [
        "# Training the model- No Resampling \n",
        "logR1= LogisticRegression(multi_class='auto', solver='lbfgs',max_iter=200)\n",
        "\n",
        "model_fit1= logR1.fit(X_train, y_train)"
      ],
      "metadata": {
        "id": "vGoBipgE1vk2"
      },
      "execution_count": 44,
      "outputs": []
    },
    {
      "cell_type": "code",
      "source": [
        "# predict- predict class labels for samples in x\n",
        "logR1.predict(X_train)\n",
        "y_pred1= logR1.predict(X_train)"
      ],
      "metadata": {
        "id": "c-ysTmPH4XH2"
      },
      "execution_count": 45,
      "outputs": []
    },
    {
      "cell_type": "code",
      "source": [
        "print('first Model- no resampling or features removed')\n",
        "# Accuracy on the Trained data\n",
        "print('Training Accuracy Score:', logR1.score(X_train,y_train))\n",
        "\n",
        "# Accuracy on the Test data\n",
        "print('Testing Accuracy Score:', logR1.score(X_test,y_test))\n",
        "\n",
        "# Classification Report\n",
        "print(classification_report(y_train, y_pred1))"
      ],
      "metadata": {
        "colab": {
          "base_uri": "https://localhost:8080/"
        },
        "id": "Bna0KHMu5FE0",
        "outputId": "1bcdd25b-5063-4de5-b341-3bd218c2f591"
      },
      "execution_count": 46,
      "outputs": [
        {
          "output_type": "stream",
          "name": "stdout",
          "text": [
            "first Model- no resampling or features removed\n",
            "Training Accuracy Score: 0.9592568448500652\n",
            "Testing Accuracy Score: 0.958966565349544\n",
            "              precision    recall  f1-score   support\n",
            "\n",
            "         0.0       0.96      1.00      0.98      2898\n",
            "         1.0       0.85      0.32      0.47       170\n",
            "\n",
            "    accuracy                           0.96      3068\n",
            "   macro avg       0.90      0.66      0.72      3068\n",
            "weighted avg       0.96      0.96      0.95      3068\n",
            "\n"
          ]
        }
      ]
    },
    {
      "cell_type": "markdown",
      "source": [
        "**Second Model- Overresampling but no features selction conducted**"
      ],
      "metadata": {
        "id": "57Dsw7aQ4y7h"
      }
    },
    {
      "cell_type": "code",
      "source": [
        "# Training the model- Overresampling but no features selction conducted\n",
        "logR2= LogisticRegression(multi_class='auto', solver='lbfgs',max_iter=200)\n",
        "\n",
        "model_fit2= logR2.fit(X_train_res,y_train_res)"
      ],
      "metadata": {
        "id": "dxMtOjaa3C_5"
      },
      "execution_count": 47,
      "outputs": []
    },
    {
      "cell_type": "code",
      "source": [
        "# predict- predict class labels for samples in x\n",
        "logR2.predict(X_train_res)\n",
        "y_pred2= logR2.predict(X_train_res)\n"
      ],
      "metadata": {
        "id": "KIcJfZYT5Wdx"
      },
      "execution_count": 48,
      "outputs": []
    },
    {
      "cell_type": "code",
      "source": [
        "print('Second Model- Overresampling but no features removed')\n",
        "\n",
        "# Accuracy on the Trained data\n",
        "print('Training Accuracy Score:', logR2.score(X_train_res,y_train_res))\n",
        "\n",
        "# Accuracy on the Test data\n",
        "print('Testing Accuracy Score:', logR2.score(X_test,y_test))\n",
        "\n",
        "# Classification Report\n",
        "print(classification_report(y_train_res, y_pred2))"
      ],
      "metadata": {
        "colab": {
          "base_uri": "https://localhost:8080/"
        },
        "id": "8W3uNxBl5ZOz",
        "outputId": "a0f76970-65b7-4e76-8410-285c529c6665"
      },
      "execution_count": 49,
      "outputs": [
        {
          "output_type": "stream",
          "name": "stdout",
          "text": [
            "Second Model- Overresampling but no features removed\n",
            "Training Accuracy Score: 0.8107617896009673\n",
            "Testing Accuracy Score: 0.7978723404255319\n",
            "              precision    recall  f1-score   support\n",
            "\n",
            "         0.0       0.82      0.80      0.81      4135\n",
            "         1.0       0.80      0.82      0.81      4135\n",
            "\n",
            "    accuracy                           0.81      8270\n",
            "   macro avg       0.81      0.81      0.81      8270\n",
            "weighted avg       0.81      0.81      0.81      8270\n",
            "\n"
          ]
        }
      ]
    },
    {
      "cell_type": "markdown",
      "source": [
        "**Third Model- Oversampling conducted + importance features selected**"
      ],
      "metadata": {
        "id": "3j5jCfVX5aYn"
      }
    },
    {
      "cell_type": "code",
      "source": [
        "X_train2, X_test2, y_train2, y_test2 = train_test_split(\n",
        "    X2,\n",
        "    y2,\n",
        "    test_size= 0.3,\n",
        "    random_state=0)\n",
        "\n",
        "X_train2.shape, X_test2.shape"
      ],
      "metadata": {
        "colab": {
          "base_uri": "https://localhost:8080/"
        },
        "id": "8BhYeBB_-DIG",
        "outputId": "9c3f771c-a5b6-4be6-ebd8-3fbc42c3010f"
      },
      "execution_count": 50,
      "outputs": [
        {
          "output_type": "execute_result",
          "data": {
            "text/plain": [
              "((3068, 2), (1316, 2))"
            ]
          },
          "metadata": {},
          "execution_count": 50
        }
      ]
    },
    {
      "cell_type": "code",
      "source": [
        "# Training the model- Oversampling + importance features selected\n",
        "logR3= LogisticRegression(multi_class='auto', solver='lbfgs',max_iter=200)\n",
        "\n",
        "model_fit3= logR3.fit(X_train_res2, y_train_res2)"
      ],
      "metadata": {
        "id": "hGXKds4V3T3T"
      },
      "execution_count": 51,
      "outputs": []
    },
    {
      "cell_type": "code",
      "source": [
        "# predict- predict class labels for samples in x\n",
        "logR3.predict(X_train_res2)\n",
        "y_pred3= logR3.predict(X_train_res2)\n"
      ],
      "metadata": {
        "id": "Xq7urlEq5lsV"
      },
      "execution_count": 52,
      "outputs": []
    },
    {
      "cell_type": "code",
      "source": [
        "print('Third Model- Oversampling conducted + only important features selected')\n",
        "\n",
        "# Accuracy on the Trained data\n",
        "print('Training Accuracy Score:', logR3.score(X_train_res2,y_train_res2))\n",
        "\n",
        "# Accuracy on the Test data\n",
        "print('Testing Accuracy Score:', logR3.score(X_test2,y_test2))\n",
        "\n",
        "# Classification Report\n",
        "print(classification_report(y_train_res2, y_pred3))"
      ],
      "metadata": {
        "colab": {
          "base_uri": "https://localhost:8080/"
        },
        "id": "lb8WJ3Yj4fib",
        "outputId": "abb542fc-c391-4a19-d1a4-ca72d328405b"
      },
      "execution_count": 53,
      "outputs": [
        {
          "output_type": "stream",
          "name": "stdout",
          "text": [
            "Third Model- Oversampling conducted + only important features selected\n",
            "Training Accuracy Score: 0.8021765417170496\n",
            "Testing Accuracy Score: 0.7917933130699089\n",
            "              precision    recall  f1-score   support\n",
            "\n",
            "         0.0       0.81      0.79      0.80      4135\n",
            "         1.0       0.80      0.81      0.80      4135\n",
            "\n",
            "    accuracy                           0.80      8270\n",
            "   macro avg       0.80      0.80      0.80      8270\n",
            "weighted avg       0.80      0.80      0.80      8270\n",
            "\n"
          ]
        }
      ]
    }
  ],
  "metadata": {
    "colab": {
      "provenance": [],
      "authorship_tag": "ABX9TyMXYJ5FaBN7WIa0+fSBR6Su",
      "include_colab_link": true
    },
    "kernelspec": {
      "display_name": "Python 3",
      "name": "python3"
    },
    "language_info": {
      "name": "python"
    }
  },
  "nbformat": 4,
  "nbformat_minor": 0
}